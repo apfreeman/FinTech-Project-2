{
 "cells": [
  {
   "cell_type": "markdown",
   "id": "636ca382-1d0d-4313-b5ca-b2112250060c",
   "metadata": {
    "tags": []
   },
   "source": [
    "# Project 2 - Trading Meme Stocks"
   ]
  },
  {
   "cell_type": "markdown",
   "id": "3ef46536-c727-4be2-a35f-b85866629e51",
   "metadata": {},
   "source": [
    "## Imports, environment variables and keys "
   ]
  },
  {
   "cell_type": "code",
   "execution_count": 126,
   "id": "ff9f48f2-f45b-4766-b481-d91a8e2c90ab",
   "metadata": {},
   "outputs": [],
   "source": [
    "# Basic functionalities\n",
    "import json\n",
    "import math\n",
    "import requests\n",
    "import os\n",
    "import pandas as pd\n",
    "import numpy as np\n",
    "import time\n",
    "import schedule\n",
    "from pathlib import Path\n",
    "from dotenv import load_dotenv\n",
    "\n",
    "# datetime manipulation\n",
    "from datetime import date, datetime, timedelta\n",
    "from time import sleep\n",
    "from pandas.tseries.offsets import DateOffset\n",
    "from pandas.tseries.offsets import Hour\n",
    "\n",
    "# Graphing\n",
    "import hvplot.pandas\n",
    "import matplotlib.pyplot as plt\n",
    "import plotly.express as px \n",
    "import plotly.graph_objects as go\n",
    "from plotly.subplots import make_subplots\n",
    "%matplotlib inline  \n",
    "\n",
    "# APIs\n",
    "import alpaca_trade_api as tradeapi\n",
    "\n",
    "# Machine Learning and tools\n",
    "from sklearn.preprocessing import StandardScaler, MinMaxScaler\n",
    "from sklearn.decomposition import PCA\n",
    "from sklearn.cluster import KMeans\n",
    "from sklearn.model_selection import train_test_split\n",
    "from collections import Counter\n",
    "from sklearn.metrics import balanced_accuracy_score\n",
    "from sklearn.metrics import classification_report\n",
    "from imblearn.over_sampling import RandomOverSampler\n",
    "\n",
    "# Deep learning and tools\n",
    "from tensorflow.keras.models import Sequential\n",
    "from tensorflow.keras.layers import LSTM, Dense, Dropout\n",
    "from tensorflow.keras.callbacks import EarlyStopping\n",
    "from tensorflow.keras.models import model_from_json\n",
    "import joblib\n"
   ]
  },
  {
   "cell_type": "code",
   "execution_count": 54,
   "id": "a1d9c709-b966-43d7-aae4-3565fd096887",
   "metadata": {},
   "outputs": [],
   "source": [
    "# Load environment variables\n",
    "load_dotenv()\n",
    "\n",
    "#Set API Key from env variable\n",
    "ss_key=os.getenv(\"SS_API_KEY\")\n",
    "\n",
    "# Set Alpaca API key and secret\n",
    "alpaca_api_key = os.getenv(\"ALPACA_API_KEY\")\n",
    "alpaca_secret_key = os.getenv(\"ALPACA_SECRET_KEY\")"
   ]
  },
  {
   "cell_type": "markdown",
   "id": "b5a09b64-ead8-4a4a-84c4-3193f45fafe2",
   "metadata": {},
   "source": [
    "## Analysis Helper Functions"
   ]
  },
  {
   "cell_type": "code",
   "execution_count": 55,
   "id": "0176edfd-e3c9-4be2-a0f5-543333406050",
   "metadata": {},
   "outputs": [],
   "source": [
    "def create_alpaca_connection():    \n",
    "    api = tradeapi.REST(\n",
    "    alpaca_api_key,\n",
    "    alpaca_secret_key,\n",
    "    base_url = 'https://paper-api.alpaca.markets',\n",
    "    api_version = \"v2\"\n",
    "    )\n",
    "    return api"
   ]
  },
  {
   "cell_type": "code",
   "execution_count": 56,
   "id": "4643a554-8d2c-41be-ab51-c878a717e99c",
   "metadata": {},
   "outputs": [],
   "source": [
    "def get_sentiment_df():\n",
    "    # Create headers variable containing API Key \n",
    "    headers = {\n",
    "        'Authorization' : f'Token {ss_key}',\n",
    "        'Accept': 'application/json',\n",
    "    }\n",
    "    # Get data for daily stock sentiment from API\n",
    "    sentiment_response = requests.get('https://socialsentiment.io/api/v1/stocks/sentiment/daily/', headers=headers)\n",
    "    \n",
    "    # Create dict from sentiment_response['results'] and then a data frame from this dict \n",
    "    sentiment_dict = sentiment_response.json()['results']\n",
    "    sentiment_df = pd.DataFrame.from_dict(sentiment_dict)\n",
    "    \n",
    "    # Determine how many lines and then pages are in the sentiment response\n",
    "    line_count = sentiment_response.json()['count']\n",
    "    page_count = int(line_count / 50) + (line_count % 50 > 0)\n",
    "    page=2\n",
    "    \n",
    "    # Loop through each page and gather the sentiment data from the API\n",
    "    while page <= page_count:\n",
    "        # Loop through all pages available from API and construct dataframe for sentiment data\n",
    "        sentiment_url = \"https://socialsentiment.io/api/v1/stocks/sentiment/daily/?page=%s\"%page\n",
    "        sentiment_response = requests.get(sentiment_url, headers=headers)\n",
    "        sentiment_dict = sentiment_response.json()['results']\n",
    "        sentiment_df_loop = pd.json_normalize(sentiment_dict)\n",
    "        sentiment_df = pd.concat([sentiment_df, sentiment_df_loop], axis=0)\n",
    "        page += 1\n",
    "        time.sleep(1)\n",
    "\n",
    "    # Reset the index on the sentiment df and drop the old index\n",
    "    sentiment_df.reset_index(inplace=True, drop=True)\n",
    "    \n",
    "    # Output the sentiment data for today to a csv file\n",
    "    path = (f'../Resources/sentiment_{date.today()}.csv')\n",
    "    sentiment_df.to_csv(path)\n",
    "    \n",
    "    return sentiment_df"
   ]
  },
  {
   "cell_type": "code",
   "execution_count": 57,
   "id": "71f15b53-e9a2-43e4-9d67-0ba4a190a45a",
   "metadata": {},
   "outputs": [],
   "source": [
    "def get_sentiment_trending_df():\n",
    "    # Create headers variable containing API Key \n",
    "    headers = {\n",
    "        'Authorization' : f'Token {ss_key}',\n",
    "        'Accept': 'application/json',\n",
    "    }\n",
    "    # Get data for trending stock sentiment from API\n",
    "    trending_response = requests.get('https://socialsentiment.io/api/v1/stocks/trending/daily/', headers=headers)\n",
    "    \n",
    "    # Create dict from trending_response and then a data frame from this dict \n",
    "    trending_dict = trending_response.json()\n",
    "    trending_df = pd.DataFrame.from_dict(trending_dict)\n",
    "    \n",
    "    # Output the sentiment data for today to a csv file\n",
    "    path = (f'../Resources/sentiment_trending_{date.today()}.csv')\n",
    "    trending_df.to_csv(path)\n",
    "    \n",
    "    return trending_df"
   ]
  },
  {
   "cell_type": "code",
   "execution_count": 58,
   "id": "d1768a05-d793-4af6-903e-e892a8c2b3c6",
   "metadata": {},
   "outputs": [],
   "source": [
    "def create_technical_analysis_df():\n",
    "    # Create the Alpaca API object, specifying use of the paper trading account:\n",
    "    api = create_alpaca_connection()\n",
    "    \n",
    "    # Set the list of tickers to the top class stock\n",
    "    tickers = top_class_stocks.index\n",
    "    # Set get data from API to DataFrame\n",
    "    today = datetime.now()\n",
    "    yesterday = today - timedelta(days=1)\n",
    "    previous_days = today - timedelta(days=365)\n",
    "    beg_date = previous_days\n",
    "    end_date = yesterday\n",
    "    timeframe='1Day'\n",
    "    start =  pd.Timestamp(f'{beg_date} 09:30:00-0400', tz='America/New_York').replace(hour=9, minute=30, second=0).astimezone('GMT').isoformat()[:-6]+'Z'\n",
    "    end =  pd.Timestamp(f'{end_date} 16:00:00-0400', tz='America/New_York').replace(hour=16, minute=0, second=0).astimezone('GMT').isoformat()[:-6]+'Z'\n",
    "    portfolio_df = api.get_bars(tickers, timeframe, start=start, end=end).df\n",
    "   \n",
    "    \n",
    "    # Calculate the 5,15 period high and low rolling SMAs and add each to the portfolio dataframe\n",
    "    portfolio_df['Lowest_5D'] = portfolio_df.groupby('symbol')['low'].transform(lambda x: x.rolling(window = 12).min())\n",
    "    portfolio_df['High_5D'] = portfolio_df.groupby('symbol')['high'].transform(lambda x: x.rolling(window = 12).max())\n",
    "    portfolio_df['Lowest_15D'] = portfolio_df.groupby('symbol')['low'].transform(lambda x: x.rolling(window = 26).min())\n",
    "    portfolio_df['High_15D'] = portfolio_df.groupby('symbol')['high'].transform(lambda x: x.rolling(window = 26).max())\n",
    "    \n",
    "    # Calculate Stochastic Indicators and add each to the portfolio dataframe\n",
    "    portfolio_df['Stochastic_5'] = ((portfolio_df['close'] - portfolio_df['Lowest_5D'])/(portfolio_df['High_5D'] - portfolio_df['Lowest_5D']))*100\n",
    "    portfolio_df['Stochastic_15'] = ((portfolio_df['close'] - portfolio_df['Lowest_15D'])/(portfolio_df['High_15D'] - portfolio_df['Lowest_15D']))*100\n",
    "    portfolio_df['Stochastic_%D_5'] = portfolio_df['Stochastic_5'].rolling(window = 5).mean()\n",
    "    portfolio_df['Stochastic_%D_15'] = portfolio_df['Stochastic_5'].rolling(window = 15).mean()\n",
    "    portfolio_df['Stochastic_Ratio'] = portfolio_df['Stochastic_%D_5']/portfolio_df['Stochastic_%D_15']\n",
    "\n",
    "    # Calculate the TP,sma, mad, cci, previous_close and TR then add each to the portfolio dataframe\n",
    "    portfolio_df['TP'] = (portfolio_df['high'] + portfolio_df['low'] + portfolio_df['close']) / 3\n",
    "    portfolio_df['sma'] = portfolio_df.groupby('symbol')['TP'].transform(lambda x: x.rolling(window=26).mean())\n",
    "    portfolio_df['mad'] = portfolio_df['TP'].rolling(window=26).apply(lambda x: pd.Series(x).mad()) #Calculates Mean Absolute Deviation of 'TP' using a 21 period and returns a pandas series\n",
    "    portfolio_df['CCI'] = (portfolio_df['TP'] - portfolio_df['sma']) / (0.015 * portfolio_df['mad'])\n",
    "    portfolio_df['prev_close'] = portfolio_df.groupby('symbol')['close'].shift(1)\n",
    "    portfolio_df['Actual Returns'] = portfolio_df.groupby('symbol')['close'].pct_change()\n",
    "    portfolio_df['TR'] = np.maximum((portfolio_df['high'] - portfolio_df['low']),\n",
    "                                np.maximum(abs(portfolio_df['high'] - portfolio_df['prev_close']), \n",
    "                                abs(portfolio_df['prev_close'] - portfolio_df['low'])))\n",
    "\n",
    "    # Calculate the ATR12 and 26 and add each to the portfolio dataframe\n",
    "    for i in portfolio_df['symbol'].unique():\n",
    "        ATR_12 = []\n",
    "        ATR_26 = []\n",
    "        TR_data = portfolio_df[portfolio_df.symbol == i].copy()\n",
    "        portfolio_df.loc[portfolio_df.symbol==i,'ATR_12'] = (TR_data['TR']).rolling(window=12).mean()\n",
    "        portfolio_df.loc[portfolio_df.symbol==i,'ATR_26'] = (TR_data['TR']).rolling(window=26).mean()\n",
    "    portfolio_df['ATR_Ratio'] = portfolio_df['ATR_12'] / portfolio_df['ATR_26']\n",
    "        \n",
    "    # Reset then set the index on the dataframe then output to csv file for later use\n",
    "    portfolio_df.reset_index(inplace=True)\n",
    "    portfolio_df.set_index(['symbol', 'timestamp'], inplace=True)\n",
    "    path = (f'../Resources/portfolio_indicators_{date.today()}.csv')\n",
    "    portfolio_df.to_csv(path)\n",
    "    \n",
    "    return portfolio_df"
   ]
  },
  {
   "cell_type": "code",
   "execution_count": 59,
   "id": "d15b1c8e-d4dc-45d0-b01d-6e2ea135d883",
   "metadata": {},
   "outputs": [],
   "source": [
    "def create_returns_df():\n",
    "    # Create the Alpaca API object, specifying use of the paper trading account:\n",
    "    api = create_alpaca_connection()\n",
    "    \n",
    "    # Set the list of tickers to the top class stock\n",
    "    tickers = top_class_stocks.index\n",
    "    # Set get data from API to DataFrame\n",
    "    today = datetime.now()\n",
    "    yesterday = today - timedelta(days=1)\n",
    "    previous_days = today - timedelta(days=1)\n",
    "    beg_date = previous_days\n",
    "    end_date = yesterday\n",
    "    timeframe='1Min'\n",
    "    start =  pd.Timestamp(f'{beg_date} 09:30:00-0400', tz='America/New_York').replace(hour=9, minute=30, second=0).astimezone('GMT').isoformat()[:-6]+'Z'\n",
    "    end =  pd.Timestamp(f'{end_date} 16:00:00-0400', tz='America/New_York').replace(hour=16, minute=0, second=0).astimezone('GMT').isoformat()[:-6]+'Z'\n",
    "    portfolio_df = api.get_bars(tickers, timeframe, start=start, end=end).df\n",
    "\n",
    "    # Pull prices from the ALPACA API\n",
    "    data = api.get_bars(tickers, timeframe, start=start, end=end).df\n",
    "    \n",
    "    close_df = pd.DataFrame(index=data.index)\n",
    "\n",
    "    for ticker in tickers:\n",
    "        vector = data.loc[data[\"symbol\"] == ticker].close\n",
    "        close_df[ticker] = vector\n",
    "\n",
    "    close_df.dropna(axis=1, how='all', inplace=True)\n",
    "\n",
    "    # Use Pandas' forward fill function to fill missing values (be sure to set inplace=True)\n",
    "    close_df.ffill(inplace=True)\n",
    "    \n",
    "    # Define a variable to set prediction period\n",
    "    forecast = 1\n",
    "\n",
    "    # Compute the pct_change for 1 min \n",
    "    returns = close_df.pct_change(periods=forecast)\n",
    "\n",
    "    # Shift the returns to convert them to forward returns\n",
    "    returns = returns.shift(-(forecast))\n",
    "    returns.dropna(inplace=True)\n",
    "    path = (f'../Resources/returns_{date.today()}.csv')\n",
    "    returns.to_csv(path)\n",
    "    \n",
    "    return returns"
   ]
  },
  {
   "cell_type": "markdown",
   "id": "78da219a-ba5a-468d-b0f2-afaf9f7e603b",
   "metadata": {},
   "source": [
    "## Fundemental Analysis"
   ]
  },
  {
   "cell_type": "code",
   "execution_count": 60,
   "id": "0a0706e5-ec19-4b8c-95da-a0f3363c9a7c",
   "metadata": {},
   "outputs": [
    {
     "data": {
      "text/html": [
       "<div>\n",
       "<style scoped>\n",
       "    .dataframe tbody tr th:only-of-type {\n",
       "        vertical-align: middle;\n",
       "    }\n",
       "\n",
       "    .dataframe tbody tr th {\n",
       "        vertical-align: top;\n",
       "    }\n",
       "\n",
       "    .dataframe thead th {\n",
       "        text-align: right;\n",
       "    }\n",
       "</style>\n",
       "<table border=\"1\" class=\"dataframe\">\n",
       "  <thead>\n",
       "    <tr style=\"text-align: right;\">\n",
       "      <th></th>\n",
       "      <th>stock</th>\n",
       "      <th>date</th>\n",
       "      <th>score</th>\n",
       "      <th>positive_score</th>\n",
       "      <th>negative_score</th>\n",
       "      <th>activity</th>\n",
       "      <th>avg_7_days</th>\n",
       "      <th>avg_14_days</th>\n",
       "      <th>avg_30_days</th>\n",
       "    </tr>\n",
       "  </thead>\n",
       "  <tbody>\n",
       "    <tr>\n",
       "      <th>0</th>\n",
       "      <td>A</td>\n",
       "      <td>2022-03-12</td>\n",
       "      <td>-1</td>\n",
       "      <td>0</td>\n",
       "      <td>-16</td>\n",
       "      <td>17</td>\n",
       "      <td>5</td>\n",
       "      <td>7</td>\n",
       "      <td>7</td>\n",
       "    </tr>\n",
       "    <tr>\n",
       "      <th>1</th>\n",
       "      <td>AA</td>\n",
       "      <td>2022-03-12</td>\n",
       "      <td>8</td>\n",
       "      <td>19</td>\n",
       "      <td>-20</td>\n",
       "      <td>13</td>\n",
       "      <td>23</td>\n",
       "      <td>20</td>\n",
       "      <td>18</td>\n",
       "    </tr>\n",
       "    <tr>\n",
       "      <th>2</th>\n",
       "      <td>AAC</td>\n",
       "      <td>2022-03-12</td>\n",
       "      <td>-8</td>\n",
       "      <td>28</td>\n",
       "      <td>-38</td>\n",
       "      <td>219</td>\n",
       "      <td>5</td>\n",
       "      <td>0</td>\n",
       "      <td>3</td>\n",
       "    </tr>\n",
       "    <tr>\n",
       "      <th>3</th>\n",
       "      <td>AAL</td>\n",
       "      <td>2022-03-12</td>\n",
       "      <td>-22</td>\n",
       "      <td>22</td>\n",
       "      <td>-39</td>\n",
       "      <td>468</td>\n",
       "      <td>0</td>\n",
       "      <td>2</td>\n",
       "      <td>1</td>\n",
       "    </tr>\n",
       "    <tr>\n",
       "      <th>4</th>\n",
       "      <td>AAP</td>\n",
       "      <td>2022-03-12</td>\n",
       "      <td>0</td>\n",
       "      <td>0</td>\n",
       "      <td>0</td>\n",
       "      <td>1</td>\n",
       "      <td>4</td>\n",
       "      <td>2</td>\n",
       "      <td>7</td>\n",
       "    </tr>\n",
       "  </tbody>\n",
       "</table>\n",
       "</div>"
      ],
      "text/plain": [
       "  stock        date  score  positive_score  negative_score  activity  \\\n",
       "0     A  2022-03-12     -1               0             -16        17   \n",
       "1    AA  2022-03-12      8              19             -20        13   \n",
       "2   AAC  2022-03-12     -8              28             -38       219   \n",
       "3   AAL  2022-03-12    -22              22             -39       468   \n",
       "4   AAP  2022-03-12      0               0               0         1   \n",
       "\n",
       "   avg_7_days  avg_14_days  avg_30_days  \n",
       "0           5            7            7  \n",
       "1          23           20           18  \n",
       "2           5            0            3  \n",
       "3           0            2            1  \n",
       "4           4            2            7  "
      ]
     },
     "execution_count": 60,
     "metadata": {},
     "output_type": "execute_result"
    }
   ],
   "source": [
    "# Call the get_sentiment() function to create todays sentiment data frame\n",
    "sentiment_df = get_sentiment_df()\n",
    "sentiment_df.head()"
   ]
  },
  {
   "cell_type": "code",
   "execution_count": 61,
   "id": "d7c94d8a-c0f8-4f0b-a44e-a1faff55904c",
   "metadata": {},
   "outputs": [
    {
     "data": {
      "text/html": [
       "<div>\n",
       "<style scoped>\n",
       "    .dataframe tbody tr th:only-of-type {\n",
       "        vertical-align: middle;\n",
       "    }\n",
       "\n",
       "    .dataframe tbody tr th {\n",
       "        vertical-align: top;\n",
       "    }\n",
       "\n",
       "    .dataframe thead th {\n",
       "        text-align: right;\n",
       "    }\n",
       "</style>\n",
       "<table border=\"1\" class=\"dataframe\">\n",
       "  <thead>\n",
       "    <tr style=\"text-align: right;\">\n",
       "      <th></th>\n",
       "      <th>stock</th>\n",
       "      <th>score</th>\n",
       "      <th>positive_score</th>\n",
       "      <th>negative_score</th>\n",
       "      <th>activity</th>\n",
       "      <th>activity_avg_7_days</th>\n",
       "      <th>activity_avg_14_days</th>\n",
       "      <th>activity_avg_30_days</th>\n",
       "      <th>score_avg_7_days</th>\n",
       "      <th>score_avg_14_days</th>\n",
       "      <th>score_avg_30_days</th>\n",
       "    </tr>\n",
       "  </thead>\n",
       "  <tbody>\n",
       "    <tr>\n",
       "      <th>0</th>\n",
       "      <td>GOOG</td>\n",
       "      <td>-1</td>\n",
       "      <td>2</td>\n",
       "      <td>-24</td>\n",
       "      <td>6878</td>\n",
       "      <td>7302</td>\n",
       "      <td>21372</td>\n",
       "      <td>14369</td>\n",
       "      <td>7</td>\n",
       "      <td>-14</td>\n",
       "      <td>-15</td>\n",
       "    </tr>\n",
       "    <tr>\n",
       "      <th>1</th>\n",
       "      <td>WB</td>\n",
       "      <td>-7</td>\n",
       "      <td>26</td>\n",
       "      <td>-41</td>\n",
       "      <td>6627</td>\n",
       "      <td>4476</td>\n",
       "      <td>4215</td>\n",
       "      <td>4289</td>\n",
       "      <td>4</td>\n",
       "      <td>0</td>\n",
       "      <td>2</td>\n",
       "    </tr>\n",
       "    <tr>\n",
       "      <th>2</th>\n",
       "      <td>SPOT</td>\n",
       "      <td>69</td>\n",
       "      <td>70</td>\n",
       "      <td>-25</td>\n",
       "      <td>6191</td>\n",
       "      <td>15058</td>\n",
       "      <td>12582</td>\n",
       "      <td>15639</td>\n",
       "      <td>18</td>\n",
       "      <td>16</td>\n",
       "      <td>10</td>\n",
       "    </tr>\n",
       "    <tr>\n",
       "      <th>3</th>\n",
       "      <td>AAPL</td>\n",
       "      <td>2</td>\n",
       "      <td>39</td>\n",
       "      <td>-23</td>\n",
       "      <td>5018</td>\n",
       "      <td>19562</td>\n",
       "      <td>28317</td>\n",
       "      <td>35199</td>\n",
       "      <td>4</td>\n",
       "      <td>-1</td>\n",
       "      <td>-8</td>\n",
       "    </tr>\n",
       "    <tr>\n",
       "      <th>4</th>\n",
       "      <td>EBAY</td>\n",
       "      <td>-58</td>\n",
       "      <td>21</td>\n",
       "      <td>-64</td>\n",
       "      <td>4524</td>\n",
       "      <td>957</td>\n",
       "      <td>2254</td>\n",
       "      <td>1751</td>\n",
       "      <td>-3</td>\n",
       "      <td>-8</td>\n",
       "      <td>-6</td>\n",
       "    </tr>\n",
       "  </tbody>\n",
       "</table>\n",
       "</div>"
      ],
      "text/plain": [
       "  stock  score  positive_score  negative_score  activity  activity_avg_7_days  \\\n",
       "0  GOOG     -1               2             -24      6878                 7302   \n",
       "1    WB     -7              26             -41      6627                 4476   \n",
       "2  SPOT     69              70             -25      6191                15058   \n",
       "3  AAPL      2              39             -23      5018                19562   \n",
       "4  EBAY    -58              21             -64      4524                  957   \n",
       "\n",
       "   activity_avg_14_days  activity_avg_30_days  score_avg_7_days  \\\n",
       "0                 21372                 14369                 7   \n",
       "1                  4215                  4289                 4   \n",
       "2                 12582                 15639                18   \n",
       "3                 28317                 35199                 4   \n",
       "4                  2254                  1751                -3   \n",
       "\n",
       "   score_avg_14_days  score_avg_30_days  \n",
       "0                -14                -15  \n",
       "1                  0                  2  \n",
       "2                 16                 10  \n",
       "3                 -1                 -8  \n",
       "4                 -8                 -6  "
      ]
     },
     "execution_count": 61,
     "metadata": {},
     "output_type": "execute_result"
    }
   ],
   "source": [
    "# Call the sentiment_trending_df() function to create todays sentiment data frame\n",
    "sentiment_trending_df = get_sentiment_trending_df()\n",
    "sentiment_trending_df.head()"
   ]
  },
  {
   "cell_type": "markdown",
   "id": "5f5a95a6-9309-4834-93c5-e4a99d5d603b",
   "metadata": {},
   "source": [
    "## Fundemental Analysis - Visualisations"
   ]
  },
  {
   "cell_type": "code",
   "execution_count": 63,
   "id": "364f5477-c8ae-4467-af44-d22c091ce720",
   "metadata": {},
   "outputs": [
    {
     "data": {
      "text/plain": [
       "<AxesSubplot:title={'center':'Trending Stock Sentiment Scores'}, xlabel='stock'>"
      ]
     },
     "execution_count": 63,
     "metadata": {},
     "output_type": "execute_result"
    },
    {
     "data": {
      "image/png": "[encoded data removed]",
      "text/plain": [
       "<Figure size 1440x720 with 1 Axes>"
      ]
     },
     "metadata": {
      "needs_background": "light"
     },
     "output_type": "display_data"
    }
   ],
   "source": [
    "# Plot the sentiment_trending_plot_df to view scores\n",
    "sentiment_trending_plot_df = sentiment_trending_df.set_index(\"stock\")\n",
    "sentiment_trending_plot_df[\"score\"].plot(\n",
    "    kind='bar',\n",
    "    x='stock',\n",
    "    y='score', \n",
    "    title = \"Trending Stock Sentiment Scores\",\n",
    "    figsize=(20,10)\n",
    ")\n"
   ]
  },
  {
   "cell_type": "code",
   "execution_count": 64,
   "id": "baeb32be-2ada-44ef-8d69-a47231018dfc",
   "metadata": {},
   "outputs": [
    {
     "data": {
      "text/html": [
       "<div>\n",
       "<style scoped>\n",
       "    .dataframe tbody tr th:only-of-type {\n",
       "        vertical-align: middle;\n",
       "    }\n",
       "\n",
       "    .dataframe tbody tr th {\n",
       "        vertical-align: top;\n",
       "    }\n",
       "\n",
       "    .dataframe thead th {\n",
       "        text-align: right;\n",
       "    }\n",
       "</style>\n",
       "<table border=\"1\" class=\"dataframe\">\n",
       "  <thead>\n",
       "    <tr style=\"text-align: right;\">\n",
       "      <th></th>\n",
       "      <th>stock</th>\n",
       "    </tr>\n",
       "  </thead>\n",
       "  <tbody>\n",
       "    <tr>\n",
       "      <th>0</th>\n",
       "      <td>GOOG</td>\n",
       "    </tr>\n",
       "    <tr>\n",
       "      <th>1</th>\n",
       "      <td>WB</td>\n",
       "    </tr>\n",
       "    <tr>\n",
       "      <th>2</th>\n",
       "      <td>SPOT</td>\n",
       "    </tr>\n",
       "  </tbody>\n",
       "</table>\n",
       "</div>"
      ],
      "text/plain": [
       "  stock\n",
       "0  GOOG\n",
       "1    WB\n",
       "2  SPOT"
      ]
     },
     "execution_count": 64,
     "metadata": {},
     "output_type": "execute_result"
    }
   ],
   "source": [
    "# Store the stock name column in its own DataFrame prior setting it as the index for feature data\n",
    "stock_name = pd.DataFrame(sentiment_trending_df['stock'])\n",
    "stock_name.head(3)"
   ]
  },
  {
   "cell_type": "code",
   "execution_count": 65,
   "id": "f9700b5f-08c1-47ee-b2e3-652af2c1e7b3",
   "metadata": {},
   "outputs": [
    {
     "data": {
      "text/html": [
       "<div>\n",
       "<style scoped>\n",
       "    .dataframe tbody tr th:only-of-type {\n",
       "        vertical-align: middle;\n",
       "    }\n",
       "\n",
       "    .dataframe tbody tr th {\n",
       "        vertical-align: top;\n",
       "    }\n",
       "\n",
       "    .dataframe thead th {\n",
       "        text-align: right;\n",
       "    }\n",
       "</style>\n",
       "<table border=\"1\" class=\"dataframe\">\n",
       "  <thead>\n",
       "    <tr style=\"text-align: right;\">\n",
       "      <th></th>\n",
       "      <th>score</th>\n",
       "      <th>positive_score</th>\n",
       "      <th>negative_score</th>\n",
       "      <th>activity</th>\n",
       "      <th>activity_avg_7_days</th>\n",
       "      <th>activity_avg_14_days</th>\n",
       "      <th>activity_avg_30_days</th>\n",
       "      <th>score_avg_7_days</th>\n",
       "      <th>score_avg_14_days</th>\n",
       "      <th>score_avg_30_days</th>\n",
       "    </tr>\n",
       "    <tr>\n",
       "      <th>stock</th>\n",
       "      <th></th>\n",
       "      <th></th>\n",
       "      <th></th>\n",
       "      <th></th>\n",
       "      <th></th>\n",
       "      <th></th>\n",
       "      <th></th>\n",
       "      <th></th>\n",
       "      <th></th>\n",
       "      <th></th>\n",
       "    </tr>\n",
       "  </thead>\n",
       "  <tbody>\n",
       "    <tr>\n",
       "      <th>GOOG</th>\n",
       "      <td>-1</td>\n",
       "      <td>2</td>\n",
       "      <td>-24</td>\n",
       "      <td>6878</td>\n",
       "      <td>7302</td>\n",
       "      <td>21372</td>\n",
       "      <td>14369</td>\n",
       "      <td>7</td>\n",
       "      <td>-14</td>\n",
       "      <td>-15</td>\n",
       "    </tr>\n",
       "    <tr>\n",
       "      <th>WB</th>\n",
       "      <td>-7</td>\n",
       "      <td>26</td>\n",
       "      <td>-41</td>\n",
       "      <td>6627</td>\n",
       "      <td>4476</td>\n",
       "      <td>4215</td>\n",
       "      <td>4289</td>\n",
       "      <td>4</td>\n",
       "      <td>0</td>\n",
       "      <td>2</td>\n",
       "    </tr>\n",
       "    <tr>\n",
       "      <th>SPOT</th>\n",
       "      <td>69</td>\n",
       "      <td>70</td>\n",
       "      <td>-25</td>\n",
       "      <td>6191</td>\n",
       "      <td>15058</td>\n",
       "      <td>12582</td>\n",
       "      <td>15639</td>\n",
       "      <td>18</td>\n",
       "      <td>16</td>\n",
       "      <td>10</td>\n",
       "    </tr>\n",
       "  </tbody>\n",
       "</table>\n",
       "</div>"
      ],
      "text/plain": [
       "       score  positive_score  negative_score  activity  activity_avg_7_days  \\\n",
       "stock                                                                         \n",
       "GOOG      -1               2             -24      6878                 7302   \n",
       "WB        -7              26             -41      6627                 4476   \n",
       "SPOT      69              70             -25      6191                15058   \n",
       "\n",
       "       activity_avg_14_days  activity_avg_30_days  score_avg_7_days  \\\n",
       "stock                                                                 \n",
       "GOOG                  21372                 14369                 7   \n",
       "WB                     4215                  4289                 4   \n",
       "SPOT                  12582                 15639                18   \n",
       "\n",
       "       score_avg_14_days  score_avg_30_days  \n",
       "stock                                        \n",
       "GOOG                 -14                -15  \n",
       "WB                     0                  2  \n",
       "SPOT                  16                 10  "
      ]
     },
     "execution_count": 65,
     "metadata": {},
     "output_type": "execute_result"
    }
   ],
   "source": [
    "# Set the index as the stock name and remove it from the feature data\n",
    "X = sentiment_trending_df.set_index(\"stock\")\n",
    "X.head(3)"
   ]
  },
  {
   "cell_type": "code",
   "execution_count": 66,
   "id": "dfa53160-ed21-4c9f-a530-20329070bb92",
   "metadata": {},
   "outputs": [
    {
     "data": {
      "text/plain": [
       "array([[-4.62313095e-01, -2.70171857e+00,  4.97396278e-01,\n",
       "         3.29148820e+00,  5.78001413e-01,  2.65201710e+00,\n",
       "         1.50987326e+00, -7.12423561e-02, -1.34824609e+00,\n",
       "        -1.83278732e+00],\n",
       "       [-7.06063409e-01, -9.51144983e-01, -9.50503846e-01,\n",
       "         3.12781497e+00,  6.89569689e-02, -1.03771328e-01,\n",
       "        -8.99554478e-02, -3.19762203e-01, -1.84531832e-01,\n",
       "        -5.23653520e-02],\n",
       "       [ 2.38144057e+00,  2.25823993e+00,  4.12225682e-01,\n",
       "         2.84350610e+00,  1.97508164e+00,  1.24015137e+00,\n",
       "         1.71143898e+00,  8.39997082e-01,  1.14542732e+00,\n",
       "         7.85480280e-01],\n",
       "       [-3.40437938e-01, -2.91762265e-03,  5.82566873e-01,\n",
       "         2.07861089e+00,  2.78638248e+00,  3.76753558e+00,\n",
       "         4.81586849e+00, -3.19762203e-01, -2.67654279e-01,\n",
       "        -1.09967239e+00],\n",
       "       [-2.77794108e+00, -1.31584781e+00, -2.90942754e+00,\n",
       "         1.75648110e+00, -5.64916845e-01, -4.18750701e-01,\n",
       "        -4.92769461e-01, -8.99641846e-01, -8.49511406e-01,\n",
       "        -8.90210983e-01]])"
      ]
     },
     "execution_count": 66,
     "metadata": {},
     "output_type": "execute_result"
    }
   ],
   "source": [
    "# Scale the feature data\n",
    "X_scaled = StandardScaler().fit_transform(X)\n",
    "X_scaled[0:5]"
   ]
  },
  {
   "cell_type": "code",
   "execution_count": 67,
   "id": "e1a44b9c-172d-4c78-ba36-4fb1c7735520",
   "metadata": {},
   "outputs": [],
   "source": [
    "# Use PCA to reduce the feature data dimensions to 3 principal components\n",
    "pca = PCA(n_components=3)\n",
    "sentiment_pca = pca.fit_transform(X_scaled)"
   ]
  },
  {
   "cell_type": "code",
   "execution_count": 68,
   "id": "349a30aa-d030-4886-9ff5-a7e539f8b1fe",
   "metadata": {},
   "outputs": [
    {
     "data": {
      "text/html": [
       "<div>\n",
       "<style scoped>\n",
       "    .dataframe tbody tr th:only-of-type {\n",
       "        vertical-align: middle;\n",
       "    }\n",
       "\n",
       "    .dataframe tbody tr th {\n",
       "        vertical-align: top;\n",
       "    }\n",
       "\n",
       "    .dataframe thead th {\n",
       "        text-align: right;\n",
       "    }\n",
       "</style>\n",
       "<table border=\"1\" class=\"dataframe\">\n",
       "  <thead>\n",
       "    <tr style=\"text-align: right;\">\n",
       "      <th></th>\n",
       "      <th>PC 1</th>\n",
       "      <th>PC 2</th>\n",
       "      <th>PC 3</th>\n",
       "    </tr>\n",
       "    <tr>\n",
       "      <th>stock</th>\n",
       "      <th></th>\n",
       "      <th></th>\n",
       "      <th></th>\n",
       "    </tr>\n",
       "  </thead>\n",
       "  <tbody>\n",
       "    <tr>\n",
       "      <th>GOOG</th>\n",
       "      <td>3.970854</td>\n",
       "      <td>1.577683</td>\n",
       "      <td>2.272154</td>\n",
       "    </tr>\n",
       "    <tr>\n",
       "      <th>WB</th>\n",
       "      <td>1.469359</td>\n",
       "      <td>0.197531</td>\n",
       "      <td>2.228567</td>\n",
       "    </tr>\n",
       "    <tr>\n",
       "      <th>SPOT</th>\n",
       "      <td>-0.609064</td>\n",
       "      <td>4.906127</td>\n",
       "      <td>-0.460960</td>\n",
       "    </tr>\n",
       "    <tr>\n",
       "      <th>AAPL</th>\n",
       "      <td>4.352763</td>\n",
       "      <td>5.243041</td>\n",
       "      <td>0.047795</td>\n",
       "    </tr>\n",
       "    <tr>\n",
       "      <th>EBAY</th>\n",
       "      <td>3.062699</td>\n",
       "      <td>-2.009709</td>\n",
       "      <td>2.185458</td>\n",
       "    </tr>\n",
       "    <tr>\n",
       "      <th>GBR</th>\n",
       "      <td>-0.947170</td>\n",
       "      <td>-0.132317</td>\n",
       "      <td>2.147904</td>\n",
       "    </tr>\n",
       "    <tr>\n",
       "      <th>RACE</th>\n",
       "      <td>-0.203633</td>\n",
       "      <td>0.597267</td>\n",
       "      <td>1.353274</td>\n",
       "    </tr>\n",
       "    <tr>\n",
       "      <th>PFE</th>\n",
       "      <td>3.118459</td>\n",
       "      <td>0.427569</td>\n",
       "      <td>-1.336414</td>\n",
       "    </tr>\n",
       "    <tr>\n",
       "      <th>TSLA</th>\n",
       "      <td>3.353291</td>\n",
       "      <td>2.373046</td>\n",
       "      <td>0.955736</td>\n",
       "    </tr>\n",
       "    <tr>\n",
       "      <th>ARVL</th>\n",
       "      <td>1.187967</td>\n",
       "      <td>-0.400228</td>\n",
       "      <td>-0.160459</td>\n",
       "    </tr>\n",
       "  </tbody>\n",
       "</table>\n",
       "</div>"
      ],
      "text/plain": [
       "           PC 1      PC 2      PC 3\n",
       "stock                              \n",
       "GOOG   3.970854  1.577683  2.272154\n",
       "WB     1.469359  0.197531  2.228567\n",
       "SPOT  -0.609064  4.906127 -0.460960\n",
       "AAPL   4.352763  5.243041  0.047795\n",
       "EBAY   3.062699 -2.009709  2.185458\n",
       "GBR   -0.947170 -0.132317  2.147904\n",
       "RACE  -0.203633  0.597267  1.353274\n",
       "PFE    3.118459  0.427569 -1.336414\n",
       "TSLA   3.353291  2.373046  0.955736\n",
       "ARVL   1.187967 -0.400228 -0.160459"
      ]
     },
     "execution_count": 68,
     "metadata": {},
     "output_type": "execute_result"
    }
   ],
   "source": [
    "# Create a DataFrame with the principal components data\n",
    "pcs_df = pd.DataFrame(\n",
    "    data=sentiment_pca, columns=[\"PC 1\", \"PC 2\", \"PC 3\"], index=X.index\n",
    ")\n",
    "pcs_df.head(10)"
   ]
  },
  {
   "cell_type": "code",
   "execution_count": 69,
   "id": "6efa0f12-a7e4-4c3a-86f7-ca0fbe15b368",
   "metadata": {},
   "outputs": [
    {
     "name": "stderr",
     "output_type": "stream",
     "text": [
      "C:\\Users\\AdamF\\anaconda3\\envs\\mlenv\\lib\\site-packages\\sklearn\\cluster\\_kmeans.py:1037: UserWarning:\n",
      "\n",
      "KMeans is known to have a memory leak on Windows with MKL, when there are less chunks than available threads. You can avoid it by setting the environment variable OMP_NUM_THREADS=1.\n",
      "\n"
     ]
    },
    {
     "data": {},
     "metadata": {},
     "output_type": "display_data"
    },
    {
     "data": {
      "application/vnd.holoviews_exec.v0+json": "",
      "text/html": [
       "<div id='1120'>\n",
       "\n",
       "\n",
       "\n",
       "\n",
       "\n",
       "  <div class=\"bk-root\" id=\"8269da71-5684-4bd6-93bb-ad7ea819f6ae\" data-root-id=\"1120\"></div>\n",
       "</div>\n",
       "<script type=\"application/javascript\">(function(root) {\n",
       "  function embed_document(root) {\n",
       "    var docs_json = {\"c02f89af-6fd9-4fdb-a809-543a4c87937b\":{\"defs\":[{\"extends\":null,\"module\":null,\"name\":\"ReactiveHTML1\",\"overrides\":[],\"properties\":[]},{\"extends\":null,\"module\":null,\"name\":\"FlexBox1\",\"overrides\":[],\"properties\":[{\"default\":\"flex-start\",\"kind\":null,\"name\":\"align_content\"},{\"default\":\"flex-start\",\"kind\":null,\"name\":\"align_items\"},{\"default\":\"row\",\"kind\":null,\"name\":\"flex_direction\"},{\"default\":\"wrap\",\"kind\":null,\"name\":\"flex_wrap\"},{\"default\":\"flex-start\",\"kind\":null,\"name\":\"justify_content\"}]},{\"extends\":null,\"module\":null,\"name\":\"TemplateActions1\",\"overrides\":[],\"properties\":[{\"default\":0,\"kind\":null,\"name\":\"open_modal\"},{\"default\":0,\"kind\":null,\"name\":\"close_modal\"}]},{\"extends\":null,\"module\":null,\"name\":\"MaterialTemplateActions1\",\"overrides\":[],\"properties\":[{\"default\":0,\"kind\":null,\"name\":\"open_modal\"},{\"default\":0,\"kind\":null,\"name\":\"close_modal\"}]}],\"roots\":{\"references\":[{\"attributes\":{},\"id\":\"1167\",\"type\":\"AllLabels\"},{\"attributes\":{},\"id\":\"1142\",\"type\":\"SaveTool\"},{\"attributes\":{},\"id\":\"1143\",\"type\":\"PanTool\"},{\"attributes\":{\"line_color\":\"#30a2da\",\"line_width\":2,\"x\":{\"field\":\"k\"},\"y\":{\"field\":\"inertia\"}},\"id\":\"1158\",\"type\":\"Line\"},{\"attributes\":{},\"id\":\"1146\",\"type\":\"ResetTool\"},{\"attributes\":{},\"id\":\"1144\",\"type\":\"WheelZoomTool\"},{\"attributes\":{\"source\":{\"id\":\"1155\"}},\"id\":\"1162\",\"type\":\"CDSView\"},{\"attributes\":{\"overlay\":{\"id\":\"1147\"}},\"id\":\"1145\",\"type\":\"BoxZoomTool\"},{\"attributes\":{\"callback\":null,\"renderers\":[{\"id\":\"1161\"}],\"tags\":[\"hv_created\"],\"tooltips\":[[\"k\",\"@{k}\"],[\"inertia\",\"@{inertia}\"]]},\"id\":\"1124\",\"type\":\"HoverTool\"},{\"attributes\":{\"ticks\":[1,2,3,4,5,6,7,8,9,10]},\"id\":\"1164\",\"type\":\"FixedTicker\"},{\"attributes\":{\"data\":{\"inertia\":{\"__ndarray__\":\"iW0q9odVeEAQ82BlX3tuQNF2DHNkFGRAPr48t0QqYEBCTzHCT5FbQCkaJnc6HFdAZVx5TGAoVEDBQKDWmRlRQOxHPVhSRU1A38EruFJ/SUA=\",\"dtype\":\"float64\",\"order\":\"little\",\"shape\":[10]},\"k\":[1,2,3,4,5,6,7,8,9,10]},\"selected\":{\"id\":\"1156\"},\"selection_policy\":{\"id\":\"1179\"}},\"id\":\"1155\",\"type\":\"ColumnDataSource\"},{\"attributes\":{\"line_alpha\":0.1,\"line_color\":\"#30a2da\",\"line_width\":2,\"x\":{\"field\":\"k\"},\"y\":{\"field\":\"inertia\"}},\"id\":\"1159\",\"type\":\"Line\"},{\"attributes\":{},\"id\":\"1130\",\"type\":\"LinearScale\"},{\"attributes\":{},\"id\":\"1179\",\"type\":\"UnionRenderers\"},{\"attributes\":{\"end\":10.0,\"reset_end\":10.0,\"reset_start\":1.0,\"start\":1.0,\"tags\":[[[\"k\",\"k\",null]]]},\"id\":\"1122\",\"type\":\"Range1d\"},{\"attributes\":{},\"id\":\"1139\",\"type\":\"BasicTicker\"},{\"attributes\":{\"axis\":{\"id\":\"1134\"},\"coordinates\":null,\"grid_line_color\":null,\"group\":null,\"ticker\":null},\"id\":\"1137\",\"type\":\"Grid\"},{\"attributes\":{\"tools\":[{\"id\":\"1124\"},{\"id\":\"1142\"},{\"id\":\"1143\"},{\"id\":\"1144\"},{\"id\":\"1145\"},{\"id\":\"1146\"}]},\"id\":\"1148\",\"type\":\"Toolbar\"},{\"attributes\":{},\"id\":\"1132\",\"type\":\"LinearScale\"},{\"attributes\":{\"coordinates\":null,\"group\":null,\"text\":\"Elbow Curve\",\"text_color\":\"black\",\"text_font_size\":\"12pt\"},\"id\":\"1126\",\"type\":\"Title\"},{\"attributes\":{\"axis_label\":\"inertia\",\"coordinates\":null,\"formatter\":{\"id\":\"1171\"},\"group\":null,\"major_label_policy\":{\"id\":\"1172\"},\"ticker\":{\"id\":\"1139\"}},\"id\":\"1138\",\"type\":\"LinearAxis\"},{\"attributes\":{\"bottom_units\":\"screen\",\"coordinates\":null,\"fill_alpha\":0.5,\"fill_color\":\"lightgrey\",\"group\":null,\"left_units\":\"screen\",\"level\":\"overlay\",\"line_alpha\":1.0,\"line_color\":\"black\",\"line_dash\":[4,4],\"line_width\":2,\"right_units\":\"screen\",\"syncable\":false,\"top_units\":\"screen\"},\"id\":\"1147\",\"type\":\"BoxAnnotation\"},{\"attributes\":{\"axis_label\":\"k\",\"coordinates\":null,\"formatter\":{\"id\":\"1166\"},\"group\":null,\"major_label_policy\":{\"id\":\"1167\"},\"ticker\":{\"id\":\"1164\"}},\"id\":\"1134\",\"type\":\"LinearAxis\"},{\"attributes\":{\"margin\":[5,5,5,5],\"name\":\"HSpacer01809\",\"sizing_mode\":\"stretch_width\"},\"id\":\"1121\",\"type\":\"Spacer\"},{\"attributes\":{},\"id\":\"1171\",\"type\":\"BasicTickFormatter\"},{\"attributes\":{},\"id\":\"1166\",\"type\":\"BasicTickFormatter\"},{\"attributes\":{\"axis\":{\"id\":\"1138\"},\"coordinates\":null,\"dimension\":1,\"grid_line_color\":null,\"group\":null,\"ticker\":null},\"id\":\"1141\",\"type\":\"Grid\"},{\"attributes\":{\"line_color\":\"#30a2da\",\"line_width\":2,\"x\":{\"field\":\"k\"},\"y\":{\"field\":\"inertia\"}},\"id\":\"1163\",\"type\":\"Line\"},{\"attributes\":{\"line_alpha\":0.2,\"line_color\":\"#30a2da\",\"line_width\":2,\"x\":{\"field\":\"k\"},\"y\":{\"field\":\"inertia\"}},\"id\":\"1160\",\"type\":\"Line\"},{\"attributes\":{\"end\":423.1807919313151,\"reset_end\":423.1807919313151,\"reset_start\":17.159613711289474,\"start\":17.159613711289474,\"tags\":[[[\"inertia\",\"inertia\",null]]]},\"id\":\"1123\",\"type\":\"Range1d\"},{\"attributes\":{\"below\":[{\"id\":\"1134\"}],\"center\":[{\"id\":\"1137\"},{\"id\":\"1141\"}],\"height\":300,\"left\":[{\"id\":\"1138\"}],\"margin\":[5,5,5,5],\"min_border_bottom\":10,\"min_border_left\":10,\"min_border_right\":10,\"min_border_top\":10,\"renderers\":[{\"id\":\"1161\"}],\"sizing_mode\":\"fixed\",\"title\":{\"id\":\"1126\"},\"toolbar\":{\"id\":\"1148\"},\"width\":700,\"x_range\":{\"id\":\"1122\"},\"x_scale\":{\"id\":\"1130\"},\"y_range\":{\"id\":\"1123\"},\"y_scale\":{\"id\":\"1132\"}},\"id\":\"1125\",\"subtype\":\"Figure\",\"type\":\"Plot\"},{\"attributes\":{},\"id\":\"1156\",\"type\":\"Selection\"},{\"attributes\":{},\"id\":\"1172\",\"type\":\"AllLabels\"},{\"attributes\":{\"coordinates\":null,\"data_source\":{\"id\":\"1155\"},\"glyph\":{\"id\":\"1158\"},\"group\":null,\"hover_glyph\":null,\"muted_glyph\":{\"id\":\"1160\"},\"nonselection_glyph\":{\"id\":\"1159\"},\"selection_glyph\":{\"id\":\"1163\"},\"view\":{\"id\":\"1162\"}},\"id\":\"1161\",\"type\":\"GlyphRenderer\"},{\"attributes\":{\"margin\":[5,5,5,5],\"name\":\"HSpacer01810\",\"sizing_mode\":\"stretch_width\"},\"id\":\"1191\",\"type\":\"Spacer\"},{\"attributes\":{\"children\":[{\"id\":\"1121\"},{\"id\":\"1125\"},{\"id\":\"1191\"}],\"margin\":[0,0,0,0],\"name\":\"Row01805\",\"tags\":[\"embedded\"]},\"id\":\"1120\",\"type\":\"Row\"}],\"root_ids\":[\"1120\"]},\"title\":\"Bokeh Application\",\"version\":\"2.4.2\"}};\n",
       "    var render_items = [{\"docid\":\"c02f89af-6fd9-4fdb-a809-543a4c87937b\",\"root_ids\":[\"1120\"],\"roots\":{\"1120\":\"8269da71-5684-4bd6-93bb-ad7ea819f6ae\"}}];\n",
       "    root.Bokeh.embed.embed_items_notebook(docs_json, render_items);\n",
       "  }\n",
       "  if (root.Bokeh !== undefined && root.Bokeh.Panel !== undefined) {\n",
       "    embed_document(root);\n",
       "  } else {\n",
       "    var attempts = 0;\n",
       "    var timer = setInterval(function(root) {\n",
       "      if (root.Bokeh !== undefined && root.Bokeh.Panel !== undefined) {\n",
       "        clearInterval(timer);\n",
       "        embed_document(root);\n",
       "      } else if (document.readyState == \"complete\") {\n",
       "        attempts++;\n",
       "        if (attempts > 200) {\n",
       "          clearInterval(timer);\n",
       "          console.log(\"Bokeh: ERROR: Unable to run BokehJS code because BokehJS library is missing\");\n",
       "        }\n",
       "      }\n",
       "    }, 25, root)\n",
       "  }\n",
       "})(window);</script>"
      ],
      "text/plain": [
       ":Curve   [k]   (inertia)"
      ]
     },
     "execution_count": 69,
     "metadata": {
      "application/vnd.holoviews_exec.v0+json": {
       "id": "1120"
      }
     },
     "output_type": "execute_result"
    }
   ],
   "source": [
    "# Determine the optimal value for k using k= 1-11\n",
    "inertia = []\n",
    "k = list(range(1, 11))\n",
    "\n",
    "# Calculate the inertia for the range of k values\n",
    "for i in k:\n",
    "    km = KMeans(n_clusters=i, random_state=0)\n",
    "    km.fit(pcs_df)\n",
    "    inertia.append(km.inertia_)\n",
    "\n",
    "# Create the Elbow Curve using hvPlot\n",
    "elbow_data = {\"k\": k, \"inertia\": inertia}\n",
    "df_elbow = pd.DataFrame(elbow_data)\n",
    "df_elbow.hvplot.line(x=\"k\", y=\"inertia\", title=\"Elbow Curve\", xticks=k)"
   ]
  },
  {
   "cell_type": "code",
   "execution_count": 70,
   "id": "03e409d3-7c81-48bd-94a4-fce92a0f080d",
   "metadata": {},
   "outputs": [
    {
     "data": {
      "text/html": [
       "<div>\n",
       "<style scoped>\n",
       "    .dataframe tbody tr th:only-of-type {\n",
       "        vertical-align: middle;\n",
       "    }\n",
       "\n",
       "    .dataframe tbody tr th {\n",
       "        vertical-align: top;\n",
       "    }\n",
       "\n",
       "    .dataframe thead th {\n",
       "        text-align: right;\n",
       "    }\n",
       "</style>\n",
       "<table border=\"1\" class=\"dataframe\">\n",
       "  <thead>\n",
       "    <tr style=\"text-align: right;\">\n",
       "      <th></th>\n",
       "      <th>score</th>\n",
       "      <th>positive_score</th>\n",
       "      <th>negative_score</th>\n",
       "      <th>activity</th>\n",
       "      <th>activity_avg_7_days</th>\n",
       "      <th>activity_avg_14_days</th>\n",
       "      <th>activity_avg_30_days</th>\n",
       "      <th>score_avg_7_days</th>\n",
       "      <th>score_avg_14_days</th>\n",
       "      <th>score_avg_30_days</th>\n",
       "      <th>PC 1</th>\n",
       "      <th>PC 2</th>\n",
       "      <th>PC 3</th>\n",
       "      <th>Class</th>\n",
       "    </tr>\n",
       "    <tr>\n",
       "      <th>stock</th>\n",
       "      <th></th>\n",
       "      <th></th>\n",
       "      <th></th>\n",
       "      <th></th>\n",
       "      <th></th>\n",
       "      <th></th>\n",
       "      <th></th>\n",
       "      <th></th>\n",
       "      <th></th>\n",
       "      <th></th>\n",
       "      <th></th>\n",
       "      <th></th>\n",
       "      <th></th>\n",
       "      <th></th>\n",
       "    </tr>\n",
       "  </thead>\n",
       "  <tbody>\n",
       "    <tr>\n",
       "      <th>GOOG</th>\n",
       "      <td>-1</td>\n",
       "      <td>2</td>\n",
       "      <td>-24</td>\n",
       "      <td>6878</td>\n",
       "      <td>7302</td>\n",
       "      <td>21372</td>\n",
       "      <td>14369</td>\n",
       "      <td>7</td>\n",
       "      <td>-14</td>\n",
       "      <td>-15</td>\n",
       "      <td>3.970854</td>\n",
       "      <td>1.577683</td>\n",
       "      <td>2.272154</td>\n",
       "      <td>3</td>\n",
       "    </tr>\n",
       "    <tr>\n",
       "      <th>WB</th>\n",
       "      <td>-7</td>\n",
       "      <td>26</td>\n",
       "      <td>-41</td>\n",
       "      <td>6627</td>\n",
       "      <td>4476</td>\n",
       "      <td>4215</td>\n",
       "      <td>4289</td>\n",
       "      <td>4</td>\n",
       "      <td>0</td>\n",
       "      <td>2</td>\n",
       "      <td>1.469359</td>\n",
       "      <td>0.197531</td>\n",
       "      <td>2.228567</td>\n",
       "      <td>3</td>\n",
       "    </tr>\n",
       "    <tr>\n",
       "      <th>SPOT</th>\n",
       "      <td>69</td>\n",
       "      <td>70</td>\n",
       "      <td>-25</td>\n",
       "      <td>6191</td>\n",
       "      <td>15058</td>\n",
       "      <td>12582</td>\n",
       "      <td>15639</td>\n",
       "      <td>18</td>\n",
       "      <td>16</td>\n",
       "      <td>10</td>\n",
       "      <td>-0.609064</td>\n",
       "      <td>4.906127</td>\n",
       "      <td>-0.460960</td>\n",
       "      <td>0</td>\n",
       "    </tr>\n",
       "    <tr>\n",
       "      <th>AAPL</th>\n",
       "      <td>2</td>\n",
       "      <td>39</td>\n",
       "      <td>-23</td>\n",
       "      <td>5018</td>\n",
       "      <td>19562</td>\n",
       "      <td>28317</td>\n",
       "      <td>35199</td>\n",
       "      <td>4</td>\n",
       "      <td>-1</td>\n",
       "      <td>-8</td>\n",
       "      <td>4.352763</td>\n",
       "      <td>5.243041</td>\n",
       "      <td>0.047795</td>\n",
       "      <td>0</td>\n",
       "    </tr>\n",
       "    <tr>\n",
       "      <th>EBAY</th>\n",
       "      <td>-58</td>\n",
       "      <td>21</td>\n",
       "      <td>-64</td>\n",
       "      <td>4524</td>\n",
       "      <td>957</td>\n",
       "      <td>2254</td>\n",
       "      <td>1751</td>\n",
       "      <td>-3</td>\n",
       "      <td>-8</td>\n",
       "      <td>-6</td>\n",
       "      <td>3.062699</td>\n",
       "      <td>-2.009709</td>\n",
       "      <td>2.185458</td>\n",
       "      <td>3</td>\n",
       "    </tr>\n",
       "  </tbody>\n",
       "</table>\n",
       "</div>"
      ],
      "text/plain": [
       "       score  positive_score  negative_score  activity  activity_avg_7_days  \\\n",
       "stock                                                                         \n",
       "GOOG      -1               2             -24      6878                 7302   \n",
       "WB        -7              26             -41      6627                 4476   \n",
       "SPOT      69              70             -25      6191                15058   \n",
       "AAPL       2              39             -23      5018                19562   \n",
       "EBAY     -58              21             -64      4524                  957   \n",
       "\n",
       "       activity_avg_14_days  activity_avg_30_days  score_avg_7_days  \\\n",
       "stock                                                                 \n",
       "GOOG                  21372                 14369                 7   \n",
       "WB                     4215                  4289                 4   \n",
       "SPOT                  12582                 15639                18   \n",
       "AAPL                  28317                 35199                 4   \n",
       "EBAY                   2254                  1751                -3   \n",
       "\n",
       "       score_avg_14_days  score_avg_30_days      PC 1      PC 2      PC 3  \\\n",
       "stock                                                                       \n",
       "GOOG                 -14                -15  3.970854  1.577683  2.272154   \n",
       "WB                     0                  2  1.469359  0.197531  2.228567   \n",
       "SPOT                  16                 10 -0.609064  4.906127 -0.460960   \n",
       "AAPL                  -1                 -8  4.352763  5.243041  0.047795   \n",
       "EBAY                  -8                 -6  3.062699 -2.009709  2.185458   \n",
       "\n",
       "       Class  \n",
       "stock         \n",
       "GOOG       3  \n",
       "WB         3  \n",
       "SPOT       0  \n",
       "AAPL       0  \n",
       "EBAY       3  "
      ]
     },
     "execution_count": 70,
     "metadata": {},
     "output_type": "execute_result"
    }
   ],
   "source": [
    "# Initialize the K-Means model\n",
    "model = KMeans(n_clusters=5, random_state=0)\n",
    "\n",
    "# Fit the model\n",
    "model.fit(pcs_df)\n",
    "\n",
    "# Predict clusters\n",
    "predictions = model.predict(pcs_df)\n",
    "\n",
    "# Create a new DataFrame including predicted clusters and trending sentiment features\n",
    "clustered_df = pd.DataFrame({\n",
    "    \"score\": X.score,\n",
    "    \"positive_score\": X.positive_score,\n",
    "    \"negative_score\": X.negative_score,\n",
    "    \"activity\": X.activity,\n",
    "    \"activity_avg_7_days\": X.activity_avg_7_days,\n",
    "    \"activity_avg_14_days\": X.activity_avg_14_days,\n",
    "    \"activity_avg_30_days\": X.activity_avg_30_days,\n",
    "    \"score_avg_7_days\": X.score_avg_7_days,\n",
    "    \"score_avg_14_days\": X.score_avg_14_days,\n",
    "    \"score_avg_30_days\": X.score_avg_30_days,\n",
    "    \"PC 1\": pcs_df['PC 1'],\n",
    "    \"PC 2\": pcs_df['PC 2'],\n",
    "    \"PC 3\": pcs_df['PC 3'],\n",
    "    \"Class\": model.labels_,\n",
    "    },\n",
    "    index=X.index\n",
    ")\n",
    "clustered_df.head()\n"
   ]
  },
  {
   "cell_type": "code",
   "execution_count": 71,
   "id": "3391c3ee-2a5f-485e-acc2-f426a4c4f259",
   "metadata": {},
   "outputs": [
    {
     "data": {
      "application/vnd.plotly.v1+json": {
       "config": {
        "plotlyServerURL": "https://plot.ly"
       },
       "data": [
        {
         "customdata": [
          [
           6878
          ],
          [
           6627
          ],
          [
           6191
          ],
          [
           5018
          ],
          [
           4524
          ],
          [
           3783
          ],
          [
           3030
          ],
          [
           2895
          ],
          [
           2750
          ],
          [
           2336
          ],
          [
           2335
          ],
          [
           2237
          ],
          [
           2221
          ],
          [
           2100
          ],
          [
           1994
          ],
          [
           1792
          ],
          [
           1787
          ],
          [
           1614
          ],
          [
           1514
          ],
          [
           1437
          ],
          [
           1333
          ],
          [
           1286
          ],
          [
           1249
          ],
          [
           1213
          ],
          [
           1167
          ],
          [
           1141
          ],
          [
           1131
          ],
          [
           1088
          ],
          [
           1062
          ],
          [
           1026
          ],
          [
           967
          ],
          [
           939
          ],
          [
           890
          ],
          [
           873
          ],
          [
           870
          ],
          [
           857
          ],
          [
           851
          ],
          [
           848
          ],
          [
           842
          ],
          [
           835
          ],
          [
           832
          ],
          [
           822
          ],
          [
           808
          ],
          [
           807
          ],
          [
           802
          ],
          [
           800
          ],
          [
           799
          ],
          [
           791
          ],
          [
           765
          ],
          [
           761
          ]
         ],
         "hovertemplate": "<b>%{hovertext}</b><br><br>PC 1=%{x}<br>PC 2=%{y}<br>PC 3=%{z}<br>activity=%{customdata[0]}<br>Class=%{marker.color}<extra></extra>",
         "hovertext": [
          -1,
          -7,
          69,
          2,
          -58,
          0,
          1,
          -1,
          -39,
          7,
          35,
          56,
          -4,
          22,
          -8,
          48,
          33,
          -3,
          35,
          5,
          18,
          -11,
          7,
          -5,
          60,
          34,
          13,
          41,
          16,
          28,
          17,
          -10,
          15,
          -1,
          21,
          25,
          0,
          1,
          14,
          -2,
          50,
          -8,
          -21,
          -31,
          34,
          12,
          -19,
          2,
          1,
          26
         ],
         "legendgroup": "",
         "marker": {
          "color": [
           3,
           3,
           0,
           0,
           3,
           4,
           4,
           3,
           3,
           1,
           2,
           2,
           1,
           1,
           4,
           2,
           2,
           1,
           2,
           4,
           4,
           1,
           1,
           1,
           2,
           4,
           4,
           4,
           4,
           4,
           1,
           1,
           4,
           1,
           4,
           4,
           4,
           1,
           4,
           0,
           2,
           1,
           1,
           1,
           4,
           1,
           3,
           1,
           4,
           4
          ],
          "coloraxis": "coloraxis",
          "symbol": "circle"
         },
         "mode": "markers",
         "name": "",
         "scene": "scene",
         "showlegend": false,
         "type": "scatter3d",
         "x": [
          3.9708542372909044,
          1.4693592846746546,
          -0.6090642446011998,
          4.352762574450691,
          3.0626991781583324,
          -0.9471700806271216,
          -0.203632978275686,
          3.11845925829755,
          3.353291088376703,
          1.1879673333778538,
          -2.187836916620198,
          -1.912048649048771,
          2.8650160065902495,
          -0.24937745973785594,
          -0.3422956407762419,
          -2.6076435925523413,
          -2.046669374612726,
          1.1116316325386828,
          -3.464191320885749,
          -1.655543683654163,
          -2.5950319006143068,
          0.7173923059890143,
          -0.3005116226528865,
          2.3509193101102115,
          -4.248983718414095,
          -1.616837190462339,
          -1.137586098662851,
          -0.0010784457805008412,
          -0.39316609043747897,
          -1.6848535856089044,
          0.7648347680660096,
          1.4345610286460058,
          -2.131749544583487,
          0.8163870232572771,
          -1.259678095092154,
          -1.1403586297735664,
          -0.7589517551860455,
          0.37382528439702173,
          -1.1898224773270667,
          2.349660422044669,
          -3.8222330154781563,
          0.8355633911501772,
          1.6159236721022876,
          1.7571350122487275,
          -0.8687224665739144,
          0.46017866095774806,
          3.790052714773226,
          0.2723095492221866,
          -1.024659521555816,
          -1.6310856371245668
         ],
         "y": [
          1.5776829069298166,
          0.1975306338503674,
          4.9061267858742355,
          5.243040659265686,
          -2.009708617096598,
          -0.13231716533442928,
          0.5972671001319669,
          0.4275694626254004,
          2.37304560899782,
          -0.4002275480529791,
          1.0608023065878467,
          1.0715036740526283,
          -1.6149954285837256,
          -1.0230665512358184,
          0.5948699347859742,
          0.7830516757452854,
          1.06241758893674,
          -0.9156979646899596,
          1.511677042162127,
          -0.43085200617210506,
          -0.09940571499714099,
          -1.229952096406355,
          -1.3597844290430112,
          -2.1009302206526232,
          1.22562345566087,
          -0.07019286508937438,
          -0.6765082341125156,
          1.4245248772657157,
          -0.565130128938751,
          -0.12963563701646452,
          -0.35705619023755014,
          -2.339056976489443,
          -0.028584731003665004,
          -1.9918199436788846,
          -0.384247866453541,
          -0.7952811639064034,
          -1.9786717967255099,
          -0.3790652131563415,
          -0.4566445835223892,
          3.859616830621343,
          0.9608190772497291,
          -0.9038159769212492,
          -2.0030574848193825,
          -1.974448483707391,
          -1.060093278148149,
          -0.2494862884060121,
          0.18973984495992374,
          -0.29171311237913994,
          -1.0059319428396198,
          -0.10952982588695792
         ],
         "z": [
          2.2721539673191407,
          2.2285670983304016,
          -0.4609599066842978,
          0.04779501008950841,
          2.185458243576791,
          2.1479042918612303,
          1.3532744388987605,
          -1.3364137369654565,
          0.9557358925057573,
          -0.16045900299784718,
          -0.07004736157441044,
          -1.1546702677514216,
          -1.1693265078897164,
          -1.0162700437269103,
          0.6423332113778588,
          -0.4588075833802014,
          -0.1878673389971926,
          -0.1624176376259603,
          0.9316104529116525,
          1.1107386327120852,
          1.998949044703596,
          -0.25705949376124515,
          -0.46982321691755363,
          -1.0416875440358329,
          -0.7004910461269594,
          -0.6260057719422298,
          -0.3233651978556056,
          -1.3724890441477304,
          -0.32242176531870925,
          -0.2578969237509813,
          -0.8560726251661799,
          0.053100950177906565,
          0.5153471970535835,
          -0.41069387891002257,
          -0.08402099594233951,
          -0.9122111426054255,
          1.5592095223324365,
          0.19249643853983403,
          -0.0633142473962095,
          -0.7160928472507081,
          -0.24925432514931953,
          -0.4573514372089672,
          -0.47458732912563917,
          0.1032348414971648,
          -1.2238180710072812,
          -0.7591551905436222,
          -1.2130250418095156,
          -0.4077290462935361,
          1.1849189000985585,
          -0.1070225641272382
         ]
        }
       ],
       "layout": {
        "autosize": true,
        "coloraxis": {
         "colorbar": {
          "title": {
           "text": "Class"
          }
         },
         "colorscale": [
          [
           0,
           "#0d0887"
          ],
          [
           0.1111111111111111,
           "#46039f"
          ],
          [
           0.2222222222222222,
           "#7201a8"
          ],
          [
           0.3333333333333333,
           "#9c179e"
          ],
          [
           0.4444444444444444,
           "#bd3786"
          ],
          [
           0.5555555555555556,
           "#d8576b"
          ],
          [
           0.6666666666666666,
           "#ed7953"
          ],
          [
           0.7777777777777778,
           "#fb9f3a"
          ],
          [
           0.8888888888888888,
           "#fdca26"
          ],
          [
           1,
           "#f0f921"
          ]
         ]
        },
        "legend": {
         "tracegroupgap": 0
        },
        "margin": {
         "t": 60
        },
        "scene": {
         "aspectmode": "auto",
         "aspectratio": {
          "x": 1.3885972358359147,
          "y": 1.2239932986143816,
          "z": 0.5883620649832083
         },
         "camera": {
          "center": {
           "x": 0,
           "y": 0,
           "z": 0
          },
          "eye": {
           "x": 1.7579444872640129,
           "y": 1.8067551658283392,
           "z": 1.7825169072899871
          },
          "projection": {
           "type": "perspective"
          },
          "up": {
           "x": 0,
           "y": 0,
           "z": 1
          }
         },
         "domain": {
          "x": [
           0,
           1
          ],
          "y": [
           0,
           1
          ]
         },
         "xaxis": {
          "title": {
           "text": "PC 1"
          },
          "type": "linear"
         },
         "yaxis": {
          "title": {
           "text": "PC 2"
          },
          "type": "linear"
         },
         "zaxis": {
          "title": {
           "text": "PC 3"
          },
          "type": "linear"
         }
        },
        "template": {
         "data": {
          "bar": [
           {
            "error_x": {
             "color": "#2a3f5f"
            },
            "error_y": {
             "color": "#2a3f5f"
            },
            "marker": {
             "line": {
              "color": "#E5ECF6",
              "width": 0.5
             },
             "pattern": {
              "fillmode": "overlay",
              "size": 10,
              "solidity": 0.2
             }
            },
            "type": "bar"
           }
          ],
          "barpolar": [
           {
            "marker": {
             "line": {
              "color": "#E5ECF6",
              "width": 0.5
             },
             "pattern": {
              "fillmode": "overlay",
              "size": 10,
              "solidity": 0.2
             }
            },
            "type": "barpolar"
           }
          ],
          "carpet": [
           {
            "aaxis": {
             "endlinecolor": "#2a3f5f",
             "gridcolor": "white",
             "linecolor": "white",
             "minorgridcolor": "white",
             "startlinecolor": "#2a3f5f"
            },
            "baxis": {
             "endlinecolor": "#2a3f5f",
             "gridcolor": "white",
             "linecolor": "white",
             "minorgridcolor": "white",
             "startlinecolor": "#2a3f5f"
            },
            "type": "carpet"
           }
          ],
          "choropleth": [
           {
            "colorbar": {
             "outlinewidth": 0,
             "ticks": ""
            },
            "type": "choropleth"
           }
          ],
          "contour": [
           {
            "colorbar": {
             "outlinewidth": 0,
             "ticks": ""
            },
            "colorscale": [
             [
              0,
              "#0d0887"
             ],
             [
              0.1111111111111111,
              "#46039f"
             ],
             [
              0.2222222222222222,
              "#7201a8"
             ],
             [
              0.3333333333333333,
              "#9c179e"
             ],
             [
              0.4444444444444444,
              "#bd3786"
             ],
             [
              0.5555555555555556,
              "#d8576b"
             ],
             [
              0.6666666666666666,
              "#ed7953"
             ],
             [
              0.7777777777777778,
              "#fb9f3a"
             ],
             [
              0.8888888888888888,
              "#fdca26"
             ],
             [
              1,
              "#f0f921"
             ]
            ],
            "type": "contour"
           }
          ],
          "contourcarpet": [
           {
            "colorbar": {
             "outlinewidth": 0,
             "ticks": ""
            },
            "type": "contourcarpet"
           }
          ],
          "heatmap": [
           {
            "colorbar": {
             "outlinewidth": 0,
             "ticks": ""
            },
            "colorscale": [
             [
              0,
              "#0d0887"
             ],
             [
              0.1111111111111111,
              "#46039f"
             ],
             [
              0.2222222222222222,
              "#7201a8"
             ],
             [
              0.3333333333333333,
              "#9c179e"
             ],
             [
              0.4444444444444444,
              "#bd3786"
             ],
             [
              0.5555555555555556,
              "#d8576b"
             ],
             [
              0.6666666666666666,
              "#ed7953"
             ],
             [
              0.7777777777777778,
              "#fb9f3a"
             ],
             [
              0.8888888888888888,
              "#fdca26"
             ],
             [
              1,
              "#f0f921"
             ]
            ],
            "type": "heatmap"
           }
          ],
          "heatmapgl": [
           {
            "colorbar": {
             "outlinewidth": 0,
             "ticks": ""
            },
            "colorscale": [
             [
              0,
              "#0d0887"
             ],
             [
              0.1111111111111111,
              "#46039f"
             ],
             [
              0.2222222222222222,
              "#7201a8"
             ],
             [
              0.3333333333333333,
              "#9c179e"
             ],
             [
              0.4444444444444444,
              "#bd3786"
             ],
             [
              0.5555555555555556,
              "#d8576b"
             ],
             [
              0.6666666666666666,
              "#ed7953"
             ],
             [
              0.7777777777777778,
              "#fb9f3a"
             ],
             [
              0.8888888888888888,
              "#fdca26"
             ],
             [
              1,
              "#f0f921"
             ]
            ],
            "type": "heatmapgl"
           }
          ],
          "histogram": [
           {
            "marker": {
             "pattern": {
              "fillmode": "overlay",
              "size": 10,
              "solidity": 0.2
             }
            },
            "type": "histogram"
           }
          ],
          "histogram2d": [
           {
            "colorbar": {
             "outlinewidth": 0,
             "ticks": ""
            },
            "colorscale": [
             [
              0,
              "#0d0887"
             ],
             [
              0.1111111111111111,
              "#46039f"
             ],
             [
              0.2222222222222222,
              "#7201a8"
             ],
             [
              0.3333333333333333,
              "#9c179e"
             ],
             [
              0.4444444444444444,
              "#bd3786"
             ],
             [
              0.5555555555555556,
              "#d8576b"
             ],
             [
              0.6666666666666666,
              "#ed7953"
             ],
             [
              0.7777777777777778,
              "#fb9f3a"
             ],
             [
              0.8888888888888888,
              "#fdca26"
             ],
             [
              1,
              "#f0f921"
             ]
            ],
            "type": "histogram2d"
           }
          ],
          "histogram2dcontour": [
           {
            "colorbar": {
             "outlinewidth": 0,
             "ticks": ""
            },
            "colorscale": [
             [
              0,
              "#0d0887"
             ],
             [
              0.1111111111111111,
              "#46039f"
             ],
             [
              0.2222222222222222,
              "#7201a8"
             ],
             [
              0.3333333333333333,
              "#9c179e"
             ],
             [
              0.4444444444444444,
              "#bd3786"
             ],
             [
              0.5555555555555556,
              "#d8576b"
             ],
             [
              0.6666666666666666,
              "#ed7953"
             ],
             [
              0.7777777777777778,
              "#fb9f3a"
             ],
             [
              0.8888888888888888,
              "#fdca26"
             ],
             [
              1,
              "#f0f921"
             ]
            ],
            "type": "histogram2dcontour"
           }
          ],
          "mesh3d": [
           {
            "colorbar": {
             "outlinewidth": 0,
             "ticks": ""
            },
            "type": "mesh3d"
           }
          ],
          "parcoords": [
           {
            "line": {
             "colorbar": {
              "outlinewidth": 0,
              "ticks": ""
             }
            },
            "type": "parcoords"
           }
          ],
          "pie": [
           {
            "automargin": true,
            "type": "pie"
           }
          ],
          "scatter": [
           {
            "marker": {
             "colorbar": {
              "outlinewidth": 0,
              "ticks": ""
             }
            },
            "type": "scatter"
           }
          ],
          "scatter3d": [
           {
            "line": {
             "colorbar": {
              "outlinewidth": 0,
              "ticks": ""
             }
            },
            "marker": {
             "colorbar": {
              "outlinewidth": 0,
              "ticks": ""
             }
            },
            "type": "scatter3d"
           }
          ],
          "scattercarpet": [
           {
            "marker": {
             "colorbar": {
              "outlinewidth": 0,
              "ticks": ""
             }
            },
            "type": "scattercarpet"
           }
          ],
          "scattergeo": [
           {
            "marker": {
             "colorbar": {
              "outlinewidth": 0,
              "ticks": ""
             }
            },
            "type": "scattergeo"
           }
          ],
          "scattergl": [
           {
            "marker": {
             "colorbar": {
              "outlinewidth": 0,
              "ticks": ""
             }
            },
            "type": "scattergl"
           }
          ],
          "scattermapbox": [
           {
            "marker": {
             "colorbar": {
              "outlinewidth": 0,
              "ticks": ""
             }
            },
            "type": "scattermapbox"
           }
          ],
          "scatterpolar": [
           {
            "marker": {
             "colorbar": {
              "outlinewidth": 0,
              "ticks": ""
             }
            },
            "type": "scatterpolar"
           }
          ],
          "scatterpolargl": [
           {
            "marker": {
             "colorbar": {
              "outlinewidth": 0,
              "ticks": ""
             }
            },
            "type": "scatterpolargl"
           }
          ],
          "scatterternary": [
           {
            "marker": {
             "colorbar": {
              "outlinewidth": 0,
              "ticks": ""
             }
            },
            "type": "scatterternary"
           }
          ],
          "surface": [
           {
            "colorbar": {
             "outlinewidth": 0,
             "ticks": ""
            },
            "colorscale": [
             [
              0,
              "#0d0887"
             ],
             [
              0.1111111111111111,
              "#46039f"
             ],
             [
              0.2222222222222222,
              "#7201a8"
             ],
             [
              0.3333333333333333,
              "#9c179e"
             ],
             [
              0.4444444444444444,
              "#bd3786"
             ],
             [
              0.5555555555555556,
              "#d8576b"
             ],
             [
              0.6666666666666666,
              "#ed7953"
             ],
             [
              0.7777777777777778,
              "#fb9f3a"
             ],
             [
              0.8888888888888888,
              "#fdca26"
             ],
             [
              1,
              "#f0f921"
             ]
            ],
            "type": "surface"
           }
          ],
          "table": [
           {
            "cells": {
             "fill": {
              "color": "#EBF0F8"
             },
             "line": {
              "color": "white"
             }
            },
            "header": {
             "fill": {
              "color": "#C8D4E3"
             },
             "line": {
              "color": "white"
             }
            },
            "type": "table"
           }
          ]
         },
         "layout": {
          "annotationdefaults": {
           "arrowcolor": "#2a3f5f",
           "arrowhead": 0,
           "arrowwidth": 1
          },
          "autotypenumbers": "strict",
          "coloraxis": {
           "colorbar": {
            "outlinewidth": 0,
            "ticks": ""
           }
          },
          "colorscale": {
           "diverging": [
            [
             0,
             "#8e0152"
            ],
            [
             0.1,
             "#c51b7d"
            ],
            [
             0.2,
             "#de77ae"
            ],
            [
             0.3,
             "#f1b6da"
            ],
            [
             0.4,
             "#fde0ef"
            ],
            [
             0.5,
             "#f7f7f7"
            ],
            [
             0.6,
             "#e6f5d0"
            ],
            [
             0.7,
             "#b8e186"
            ],
            [
             0.8,
             "#7fbc41"
            ],
            [
             0.9,
             "#4d9221"
            ],
            [
             1,
             "#276419"
            ]
           ],
           "sequential": [
            [
             0,
             "#0d0887"
            ],
            [
             0.1111111111111111,
             "#46039f"
            ],
            [
             0.2222222222222222,
             "#7201a8"
            ],
            [
             0.3333333333333333,
             "#9c179e"
            ],
            [
             0.4444444444444444,
             "#bd3786"
            ],
            [
             0.5555555555555556,
             "#d8576b"
            ],
            [
             0.6666666666666666,
             "#ed7953"
            ],
            [
             0.7777777777777778,
             "#fb9f3a"
            ],
            [
             0.8888888888888888,
             "#fdca26"
            ],
            [
             1,
             "#f0f921"
            ]
           ],
           "sequentialminus": [
            [
             0,
             "#0d0887"
            ],
            [
             0.1111111111111111,
             "#46039f"
            ],
            [
             0.2222222222222222,
             "#7201a8"
            ],
            [
             0.3333333333333333,
             "#9c179e"
            ],
            [
             0.4444444444444444,
             "#bd3786"
            ],
            [
             0.5555555555555556,
             "#d8576b"
            ],
            [
             0.6666666666666666,
             "#ed7953"
            ],
            [
             0.7777777777777778,
             "#fb9f3a"
            ],
            [
             0.8888888888888888,
             "#fdca26"
            ],
            [
             1,
             "#f0f921"
            ]
           ]
          },
          "colorway": [
           "#636efa",
           "#EF553B",
           "#00cc96",
           "#ab63fa",
           "#FFA15A",
           "#19d3f3",
           "#FF6692",
           "#B6E880",
           "#FF97FF",
           "#FECB52"
          ],
          "font": {
           "color": "#2a3f5f"
          },
          "geo": {
           "bgcolor": "white",
           "lakecolor": "white",
           "landcolor": "#E5ECF6",
           "showlakes": true,
           "showland": true,
           "subunitcolor": "white"
          },
          "hoverlabel": {
           "align": "left"
          },
          "hovermode": "closest",
          "mapbox": {
           "style": "light"
          },
          "paper_bgcolor": "white",
          "plot_bgcolor": "#E5ECF6",
          "polar": {
           "angularaxis": {
            "gridcolor": "white",
            "linecolor": "white",
            "ticks": ""
           },
           "bgcolor": "#E5ECF6",
           "radialaxis": {
            "gridcolor": "white",
            "linecolor": "white",
            "ticks": ""
           }
          },
          "scene": {
           "xaxis": {
            "backgroundcolor": "#E5ECF6",
            "gridcolor": "white",
            "gridwidth": 2,
            "linecolor": "white",
            "showbackground": true,
            "ticks": "",
            "zerolinecolor": "white"
           },
           "yaxis": {
            "backgroundcolor": "#E5ECF6",
            "gridcolor": "white",
            "gridwidth": 2,
            "linecolor": "white",
            "showbackground": true,
            "ticks": "",
            "zerolinecolor": "white"
           },
           "zaxis": {
            "backgroundcolor": "#E5ECF6",
            "gridcolor": "white",
            "gridwidth": 2,
            "linecolor": "white",
            "showbackground": true,
            "ticks": "",
            "zerolinecolor": "white"
           }
          },
          "shapedefaults": {
           "line": {
            "color": "#2a3f5f"
           }
          },
          "ternary": {
           "aaxis": {
            "gridcolor": "white",
            "linecolor": "white",
            "ticks": ""
           },
           "baxis": {
            "gridcolor": "white",
            "linecolor": "white",
            "ticks": ""
           },
           "bgcolor": "#E5ECF6",
           "caxis": {
            "gridcolor": "white",
            "linecolor": "white",
            "ticks": ""
           }
          },
          "title": {
           "x": 0.05
          },
          "xaxis": {
           "automargin": true,
           "gridcolor": "white",
           "linecolor": "white",
           "ticks": "",
           "title": {
            "standoff": 15
           },
           "zerolinecolor": "white",
           "zerolinewidth": 2
          },
          "yaxis": {
           "automargin": true,
           "gridcolor": "white",
           "linecolor": "white",
           "ticks": "",
           "title": {
            "standoff": 15
           },
           "zerolinecolor": "white",
           "zerolinewidth": 2
          }
         }
        }
       }
      },
      "image/png": "[encoded data removed]",
      "text/html": [
       "<div>                            <div id=\"83debf68-8422-46bd-a5c9-1772f3d4ccb6\" class=\"plotly-graph-div\" style=\"height:600px; width:100%;\"></div>            <script type=\"text/javascript\">                require([\"plotly\"], function(Plotly) {                    window.PLOTLYENV=window.PLOTLYENV || {};                                    if (document.getElementById(\"83debf68-8422-46bd-a5c9-1772f3d4ccb6\")) {                    Plotly.newPlot(                        \"83debf68-8422-46bd-a5c9-1772f3d4ccb6\",                        [{\"customdata\":[[6878],[6627],[6191],[5018],[4524],[3783],[3030],[2895],[2750],[2336],[2335],[2237],[2221],[2100],[1994],[1792],[1787],[1614],[1514],[1437],[1333],[1286],[1249],[1213],[1167],[1141],[1131],[1088],[1062],[1026],[967],[939],[890],[873],[870],[857],[851],[848],[842],[835],[832],[822],[808],[807],[802],[800],[799],[791],[765],[761]],\"hovertemplate\":\"<b>%{hovertext}</b><br><br>PC 1=%{x}<br>PC 2=%{y}<br>PC 3=%{z}<br>activity=%{customdata[0]}<br>Class=%{marker.color}<extra></extra>\",\"hovertext\":[-1.0,-7.0,69.0,2.0,-58.0,0.0,1.0,-1.0,-39.0,7.0,35.0,56.0,-4.0,22.0,-8.0,48.0,33.0,-3.0,35.0,5.0,18.0,-11.0,7.0,-5.0,60.0,34.0,13.0,41.0,16.0,28.0,17.0,-10.0,15.0,-1.0,21.0,25.0,0.0,1.0,14.0,-2.0,50.0,-8.0,-21.0,-31.0,34.0,12.0,-19.0,2.0,1.0,26.0],\"legendgroup\":\"\",\"marker\":{\"color\":[3,3,0,0,3,4,4,3,3,1,2,2,1,1,4,2,2,1,2,4,4,1,1,1,2,4,4,4,4,4,1,1,4,1,4,4,4,1,4,0,2,1,1,1,4,1,3,1,4,4],\"coloraxis\":\"coloraxis\",\"symbol\":\"circle\"},\"mode\":\"markers\",\"name\":\"\",\"scene\":\"scene\",\"showlegend\":false,\"x\":[3.9708542372909044,1.4693592846746546,-0.6090642446011998,4.352762574450691,3.0626991781583324,-0.9471700806271216,-0.203632978275686,3.11845925829755,3.353291088376703,1.1879673333778538,-2.187836916620198,-1.912048649048771,2.8650160065902495,-0.24937745973785594,-0.3422956407762419,-2.6076435925523413,-2.046669374612726,1.1116316325386828,-3.464191320885749,-1.655543683654163,-2.5950319006143068,0.7173923059890143,-0.3005116226528865,2.3509193101102115,-4.248983718414095,-1.616837190462339,-1.137586098662851,-0.0010784457805008412,-0.39316609043747897,-1.6848535856089044,0.7648347680660096,1.4345610286460058,-2.131749544583487,0.8163870232572771,-1.259678095092154,-1.1403586297735664,-0.7589517551860455,0.37382528439702173,-1.1898224773270667,2.349660422044669,-3.8222330154781563,0.8355633911501772,1.6159236721022876,1.7571350122487275,-0.8687224665739144,0.46017866095774806,3.790052714773226,0.2723095492221866,-1.024659521555816,-1.6310856371245668],\"y\":[1.5776829069298166,0.1975306338503674,4.9061267858742355,5.243040659265686,-2.009708617096598,-0.13231716533442928,0.5972671001319669,0.4275694626254004,2.37304560899782,-0.4002275480529791,1.0608023065878467,1.0715036740526283,-1.6149954285837256,-1.0230665512358184,0.5948699347859742,0.7830516757452854,1.06241758893674,-0.9156979646899596,1.511677042162127,-0.43085200617210506,-0.09940571499714099,-1.229952096406355,-1.3597844290430112,-2.1009302206526232,1.22562345566087,-0.07019286508937438,-0.6765082341125156,1.4245248772657157,-0.565130128938751,-0.12963563701646452,-0.35705619023755014,-2.339056976489443,-0.028584731003665004,-1.9918199436788846,-0.384247866453541,-0.7952811639064034,-1.9786717967255099,-0.3790652131563415,-0.4566445835223892,3.859616830621343,0.9608190772497291,-0.9038159769212492,-2.0030574848193825,-1.974448483707391,-1.060093278148149,-0.2494862884060121,0.18973984495992374,-0.29171311237913994,-1.0059319428396198,-0.10952982588695792],\"z\":[2.2721539673191407,2.2285670983304016,-0.4609599066842978,0.04779501008950841,2.185458243576791,2.1479042918612303,1.3532744388987605,-1.3364137369654565,0.9557358925057573,-0.16045900299784718,-0.07004736157441044,-1.1546702677514216,-1.1693265078897164,-1.0162700437269103,0.6423332113778588,-0.4588075833802014,-0.1878673389971926,-0.1624176376259603,0.9316104529116525,1.1107386327120852,1.998949044703596,-0.25705949376124515,-0.46982321691755363,-1.0416875440358329,-0.7004910461269594,-0.6260057719422298,-0.3233651978556056,-1.3724890441477304,-0.32242176531870925,-0.2578969237509813,-0.8560726251661799,0.053100950177906565,0.5153471970535835,-0.41069387891002257,-0.08402099594233951,-0.9122111426054255,1.5592095223324365,0.19249643853983403,-0.0633142473962095,-0.7160928472507081,-0.24925432514931953,-0.4573514372089672,-0.47458732912563917,0.1032348414971648,-1.2238180710072812,-0.7591551905436222,-1.2130250418095156,-0.4077290462935361,1.1849189000985585,-0.1070225641272382],\"type\":\"scatter3d\"}],                        {\"template\":{\"data\":{\"bar\":[{\"error_x\":{\"color\":\"#2a3f5f\"},\"error_y\":{\"color\":\"#2a3f5f\"},\"marker\":{\"line\":{\"color\":\"#E5ECF6\",\"width\":0.5},\"pattern\":{\"fillmode\":\"overlay\",\"size\":10,\"solidity\":0.2}},\"type\":\"bar\"}],\"barpolar\":[{\"marker\":{\"line\":{\"color\":\"#E5ECF6\",\"width\":0.5},\"pattern\":{\"fillmode\":\"overlay\",\"size\":10,\"solidity\":0.2}},\"type\":\"barpolar\"}],\"carpet\":[{\"aaxis\":{\"endlinecolor\":\"#2a3f5f\",\"gridcolor\":\"white\",\"linecolor\":\"white\",\"minorgridcolor\":\"white\",\"startlinecolor\":\"#2a3f5f\"},\"baxis\":{\"endlinecolor\":\"#2a3f5f\",\"gridcolor\":\"white\",\"linecolor\":\"white\",\"minorgridcolor\":\"white\",\"startlinecolor\":\"#2a3f5f\"},\"type\":\"carpet\"}],\"choropleth\":[{\"colorbar\":{\"outlinewidth\":0,\"ticks\":\"\"},\"type\":\"choropleth\"}],\"contour\":[{\"colorbar\":{\"outlinewidth\":0,\"ticks\":\"\"},\"colorscale\":[[0.0,\"#0d0887\"],[0.1111111111111111,\"#46039f\"],[0.2222222222222222,\"#7201a8\"],[0.3333333333333333,\"#9c179e\"],[0.4444444444444444,\"#bd3786\"],[0.5555555555555556,\"#d8576b\"],[0.6666666666666666,\"#ed7953\"],[0.7777777777777778,\"#fb9f3a\"],[0.8888888888888888,\"#fdca26\"],[1.0,\"#f0f921\"]],\"type\":\"contour\"}],\"contourcarpet\":[{\"colorbar\":{\"outlinewidth\":0,\"ticks\":\"\"},\"type\":\"contourcarpet\"}],\"heatmap\":[{\"colorbar\":{\"outlinewidth\":0,\"ticks\":\"\"},\"colorscale\":[[0.0,\"#0d0887\"],[0.1111111111111111,\"#46039f\"],[0.2222222222222222,\"#7201a8\"],[0.3333333333333333,\"#9c179e\"],[0.4444444444444444,\"#bd3786\"],[0.5555555555555556,\"#d8576b\"],[0.6666666666666666,\"#ed7953\"],[0.7777777777777778,\"#fb9f3a\"],[0.8888888888888888,\"#fdca26\"],[1.0,\"#f0f921\"]],\"type\":\"heatmap\"}],\"heatmapgl\":[{\"colorbar\":{\"outlinewidth\":0,\"ticks\":\"\"},\"colorscale\":[[0.0,\"#0d0887\"],[0.1111111111111111,\"#46039f\"],[0.2222222222222222,\"#7201a8\"],[0.3333333333333333,\"#9c179e\"],[0.4444444444444444,\"#bd3786\"],[0.5555555555555556,\"#d8576b\"],[0.6666666666666666,\"#ed7953\"],[0.7777777777777778,\"#fb9f3a\"],[0.8888888888888888,\"#fdca26\"],[1.0,\"#f0f921\"]],\"type\":\"heatmapgl\"}],\"histogram\":[{\"marker\":{\"pattern\":{\"fillmode\":\"overlay\",\"size\":10,\"solidity\":0.2}},\"type\":\"histogram\"}],\"histogram2d\":[{\"colorbar\":{\"outlinewidth\":0,\"ticks\":\"\"},\"colorscale\":[[0.0,\"#0d0887\"],[0.1111111111111111,\"#46039f\"],[0.2222222222222222,\"#7201a8\"],[0.3333333333333333,\"#9c179e\"],[0.4444444444444444,\"#bd3786\"],[0.5555555555555556,\"#d8576b\"],[0.6666666666666666,\"#ed7953\"],[0.7777777777777778,\"#fb9f3a\"],[0.8888888888888888,\"#fdca26\"],[1.0,\"#f0f921\"]],\"type\":\"histogram2d\"}],\"histogram2dcontour\":[{\"colorbar\":{\"outlinewidth\":0,\"ticks\":\"\"},\"colorscale\":[[0.0,\"#0d0887\"],[0.1111111111111111,\"#46039f\"],[0.2222222222222222,\"#7201a8\"],[0.3333333333333333,\"#9c179e\"],[0.4444444444444444,\"#bd3786\"],[0.5555555555555556,\"#d8576b\"],[0.6666666666666666,\"#ed7953\"],[0.7777777777777778,\"#fb9f3a\"],[0.8888888888888888,\"#fdca26\"],[1.0,\"#f0f921\"]],\"type\":\"histogram2dcontour\"}],\"mesh3d\":[{\"colorbar\":{\"outlinewidth\":0,\"ticks\":\"\"},\"type\":\"mesh3d\"}],\"parcoords\":[{\"line\":{\"colorbar\":{\"outlinewidth\":0,\"ticks\":\"\"}},\"type\":\"parcoords\"}],\"pie\":[{\"automargin\":true,\"type\":\"pie\"}],\"scatter\":[{\"marker\":{\"colorbar\":{\"outlinewidth\":0,\"ticks\":\"\"}},\"type\":\"scatter\"}],\"scatter3d\":[{\"line\":{\"colorbar\":{\"outlinewidth\":0,\"ticks\":\"\"}},\"marker\":{\"colorbar\":{\"outlinewidth\":0,\"ticks\":\"\"}},\"type\":\"scatter3d\"}],\"scattercarpet\":[{\"marker\":{\"colorbar\":{\"outlinewidth\":0,\"ticks\":\"\"}},\"type\":\"scattercarpet\"}],\"scattergeo\":[{\"marker\":{\"colorbar\":{\"outlinewidth\":0,\"ticks\":\"\"}},\"type\":\"scattergeo\"}],\"scattergl\":[{\"marker\":{\"colorbar\":{\"outlinewidth\":0,\"ticks\":\"\"}},\"type\":\"scattergl\"}],\"scattermapbox\":[{\"marker\":{\"colorbar\":{\"outlinewidth\":0,\"ticks\":\"\"}},\"type\":\"scattermapbox\"}],\"scatterpolar\":[{\"marker\":{\"colorbar\":{\"outlinewidth\":0,\"ticks\":\"\"}},\"type\":\"scatterpolar\"}],\"scatterpolargl\":[{\"marker\":{\"colorbar\":{\"outlinewidth\":0,\"ticks\":\"\"}},\"type\":\"scatterpolargl\"}],\"scatterternary\":[{\"marker\":{\"colorbar\":{\"outlinewidth\":0,\"ticks\":\"\"}},\"type\":\"scatterternary\"}],\"surface\":[{\"colorbar\":{\"outlinewidth\":0,\"ticks\":\"\"},\"colorscale\":[[0.0,\"#0d0887\"],[0.1111111111111111,\"#46039f\"],[0.2222222222222222,\"#7201a8\"],[0.3333333333333333,\"#9c179e\"],[0.4444444444444444,\"#bd3786\"],[0.5555555555555556,\"#d8576b\"],[0.6666666666666666,\"#ed7953\"],[0.7777777777777778,\"#fb9f3a\"],[0.8888888888888888,\"#fdca26\"],[1.0,\"#f0f921\"]],\"type\":\"surface\"}],\"table\":[{\"cells\":{\"fill\":{\"color\":\"#EBF0F8\"},\"line\":{\"color\":\"white\"}},\"header\":{\"fill\":{\"color\":\"#C8D4E3\"},\"line\":{\"color\":\"white\"}},\"type\":\"table\"}]},\"layout\":{\"annotationdefaults\":{\"arrowcolor\":\"#2a3f5f\",\"arrowhead\":0,\"arrowwidth\":1},\"autotypenumbers\":\"strict\",\"coloraxis\":{\"colorbar\":{\"outlinewidth\":0,\"ticks\":\"\"}},\"colorscale\":{\"diverging\":[[0,\"#8e0152\"],[0.1,\"#c51b7d\"],[0.2,\"#de77ae\"],[0.3,\"#f1b6da\"],[0.4,\"#fde0ef\"],[0.5,\"#f7f7f7\"],[0.6,\"#e6f5d0\"],[0.7,\"#b8e186\"],[0.8,\"#7fbc41\"],[0.9,\"#4d9221\"],[1,\"#276419\"]],\"sequential\":[[0.0,\"#0d0887\"],[0.1111111111111111,\"#46039f\"],[0.2222222222222222,\"#7201a8\"],[0.3333333333333333,\"#9c179e\"],[0.4444444444444444,\"#bd3786\"],[0.5555555555555556,\"#d8576b\"],[0.6666666666666666,\"#ed7953\"],[0.7777777777777778,\"#fb9f3a\"],[0.8888888888888888,\"#fdca26\"],[1.0,\"#f0f921\"]],\"sequentialminus\":[[0.0,\"#0d0887\"],[0.1111111111111111,\"#46039f\"],[0.2222222222222222,\"#7201a8\"],[0.3333333333333333,\"#9c179e\"],[0.4444444444444444,\"#bd3786\"],[0.5555555555555556,\"#d8576b\"],[0.6666666666666666,\"#ed7953\"],[0.7777777777777778,\"#fb9f3a\"],[0.8888888888888888,\"#fdca26\"],[1.0,\"#f0f921\"]]},\"colorway\":[\"#636efa\",\"#EF553B\",\"#00cc96\",\"#ab63fa\",\"#FFA15A\",\"#19d3f3\",\"#FF6692\",\"#B6E880\",\"#FF97FF\",\"#FECB52\"],\"font\":{\"color\":\"#2a3f5f\"},\"geo\":{\"bgcolor\":\"white\",\"lakecolor\":\"white\",\"landcolor\":\"#E5ECF6\",\"showlakes\":true,\"showland\":true,\"subunitcolor\":\"white\"},\"hoverlabel\":{\"align\":\"left\"},\"hovermode\":\"closest\",\"mapbox\":{\"style\":\"light\"},\"paper_bgcolor\":\"white\",\"plot_bgcolor\":\"#E5ECF6\",\"polar\":{\"angularaxis\":{\"gridcolor\":\"white\",\"linecolor\":\"white\",\"ticks\":\"\"},\"bgcolor\":\"#E5ECF6\",\"radialaxis\":{\"gridcolor\":\"white\",\"linecolor\":\"white\",\"ticks\":\"\"}},\"scene\":{\"xaxis\":{\"backgroundcolor\":\"#E5ECF6\",\"gridcolor\":\"white\",\"gridwidth\":2,\"linecolor\":\"white\",\"showbackground\":true,\"ticks\":\"\",\"zerolinecolor\":\"white\"},\"yaxis\":{\"backgroundcolor\":\"#E5ECF6\",\"gridcolor\":\"white\",\"gridwidth\":2,\"linecolor\":\"white\",\"showbackground\":true,\"ticks\":\"\",\"zerolinecolor\":\"white\"},\"zaxis\":{\"backgroundcolor\":\"#E5ECF6\",\"gridcolor\":\"white\",\"gridwidth\":2,\"linecolor\":\"white\",\"showbackground\":true,\"ticks\":\"\",\"zerolinecolor\":\"white\"}},\"shapedefaults\":{\"line\":{\"color\":\"#2a3f5f\"}},\"ternary\":{\"aaxis\":{\"gridcolor\":\"white\",\"linecolor\":\"white\",\"ticks\":\"\"},\"baxis\":{\"gridcolor\":\"white\",\"linecolor\":\"white\",\"ticks\":\"\"},\"bgcolor\":\"#E5ECF6\",\"caxis\":{\"gridcolor\":\"white\",\"linecolor\":\"white\",\"ticks\":\"\"}},\"title\":{\"x\":0.05},\"xaxis\":{\"automargin\":true,\"gridcolor\":\"white\",\"linecolor\":\"white\",\"ticks\":\"\",\"title\":{\"standoff\":15},\"zerolinecolor\":\"white\",\"zerolinewidth\":2},\"yaxis\":{\"automargin\":true,\"gridcolor\":\"white\",\"linecolor\":\"white\",\"ticks\":\"\",\"title\":{\"standoff\":15},\"zerolinecolor\":\"white\",\"zerolinewidth\":2}}},\"scene\":{\"domain\":{\"x\":[0.0,1.0],\"y\":[0.0,1.0]},\"xaxis\":{\"title\":{\"text\":\"PC 1\"}},\"yaxis\":{\"title\":{\"text\":\"PC 2\"}},\"zaxis\":{\"title\":{\"text\":\"PC 3\"}}},\"coloraxis\":{\"colorbar\":{\"title\":{\"text\":\"Class\"}},\"colorscale\":[[0.0,\"#0d0887\"],[0.1111111111111111,\"#46039f\"],[0.2222222222222222,\"#7201a8\"],[0.3333333333333333,\"#9c179e\"],[0.4444444444444444,\"#bd3786\"],[0.5555555555555556,\"#d8576b\"],[0.6666666666666666,\"#ed7953\"],[0.7777777777777778,\"#fb9f3a\"],[0.8888888888888888,\"#fdca26\"],[1.0,\"#f0f921\"]]},\"legend\":{\"tracegroupgap\":0},\"margin\":{\"t\":60},\"height\":600},                        {\"responsive\": true}                    ).then(function(){\n",
       "                            \n",
       "var gd = document.getElementById('83debf68-8422-46bd-a5c9-1772f3d4ccb6');\n",
       "var x = new MutationObserver(function (mutations, observer) {{\n",
       "        var display = window.getComputedStyle(gd).display;\n",
       "        if (!display || display === 'none') {{\n",
       "            console.log([gd, 'removed!']);\n",
       "            Plotly.purge(gd);\n",
       "            observer.disconnect();\n",
       "        }}\n",
       "}});\n",
       "\n",
       "// Listen for the removal of the full notebook cells\n",
       "var notebookContainer = gd.closest('#notebook-container');\n",
       "if (notebookContainer) {{\n",
       "    x.observe(notebookContainer, {childList: true});\n",
       "}}\n",
       "\n",
       "// Listen for the clearing of the current output cell\n",
       "var outputEl = gd.closest('.output');\n",
       "if (outputEl) {{\n",
       "    x.observe(outputEl, {childList: true});\n",
       "}}\n",
       "\n",
       "                        })                };                });            </script>        </div>"
      ]
     },
     "metadata": {},
     "output_type": "display_data"
    }
   ],
   "source": [
    "# Visualise the clusters\n",
    "# Plotting the 3D-Scatter with x=\"PC 1\", y=\"PC 2\" and z=\"PC 3\"\n",
    "fig = px.scatter_3d(\n",
    "    clustered_df,\n",
    "    x=\"PC 1\",\n",
    "    y=\"PC 2\",\n",
    "    z=\"PC 3\",\n",
    "    hover_name='score',\n",
    "    hover_data= ['activity'],\n",
    "    height=600,\n",
    "    color=\"Class\"\n",
    ")\n",
    "fig.show()"
   ]
  },
  {
   "cell_type": "code",
   "execution_count": 72,
   "id": "bd35a909-3c2d-4dc7-b377-949d4e49a3d3",
   "metadata": {},
   "outputs": [],
   "source": [
    "# Sort the clustered_df by score and order the DataFrame selecting the top 10\n",
    "top_stocks = clustered_df.sort_values(\"score\", ascending=False).head(10)                      "
   ]
  },
  {
   "cell_type": "code",
   "execution_count": 73,
   "id": "9940b422-5ff9-48f2-adaf-18812300a05a",
   "metadata": {},
   "outputs": [
    {
     "data": {
      "text/html": [
       "<div>\n",
       "<style scoped>\n",
       "    .dataframe tbody tr th:only-of-type {\n",
       "        vertical-align: middle;\n",
       "    }\n",
       "\n",
       "    .dataframe tbody tr th {\n",
       "        vertical-align: top;\n",
       "    }\n",
       "\n",
       "    .dataframe thead th {\n",
       "        text-align: right;\n",
       "    }\n",
       "</style>\n",
       "<table border=\"1\" class=\"dataframe\">\n",
       "  <thead>\n",
       "    <tr style=\"text-align: right;\">\n",
       "      <th></th>\n",
       "      <th>score</th>\n",
       "      <th>positive_score</th>\n",
       "      <th>negative_score</th>\n",
       "      <th>activity</th>\n",
       "      <th>activity_avg_7_days</th>\n",
       "      <th>activity_avg_14_days</th>\n",
       "      <th>activity_avg_30_days</th>\n",
       "      <th>score_avg_7_days</th>\n",
       "      <th>score_avg_14_days</th>\n",
       "      <th>score_avg_30_days</th>\n",
       "      <th>PC 1</th>\n",
       "      <th>PC 2</th>\n",
       "      <th>PC 3</th>\n",
       "      <th>Class</th>\n",
       "    </tr>\n",
       "    <tr>\n",
       "      <th>stock</th>\n",
       "      <th></th>\n",
       "      <th></th>\n",
       "      <th></th>\n",
       "      <th></th>\n",
       "      <th></th>\n",
       "      <th></th>\n",
       "      <th></th>\n",
       "      <th></th>\n",
       "      <th></th>\n",
       "      <th></th>\n",
       "      <th></th>\n",
       "      <th></th>\n",
       "      <th></th>\n",
       "      <th></th>\n",
       "    </tr>\n",
       "  </thead>\n",
       "  <tbody>\n",
       "    <tr>\n",
       "      <th>BRN</th>\n",
       "      <td>60</td>\n",
       "      <td>61</td>\n",
       "      <td>0</td>\n",
       "      <td>1167</td>\n",
       "      <td>503</td>\n",
       "      <td>275</td>\n",
       "      <td>145</td>\n",
       "      <td>32</td>\n",
       "      <td>21</td>\n",
       "      <td>12</td>\n",
       "      <td>-4.248984</td>\n",
       "      <td>1.225623</td>\n",
       "      <td>-0.700491</td>\n",
       "      <td>2</td>\n",
       "    </tr>\n",
       "    <tr>\n",
       "      <th>ORCL</th>\n",
       "      <td>56</td>\n",
       "      <td>63</td>\n",
       "      <td>-25</td>\n",
       "      <td>2237</td>\n",
       "      <td>2215</td>\n",
       "      <td>4290</td>\n",
       "      <td>3208</td>\n",
       "      <td>13</td>\n",
       "      <td>6</td>\n",
       "      <td>10</td>\n",
       "      <td>-1.912049</td>\n",
       "      <td>1.071504</td>\n",
       "      <td>-1.154670</td>\n",
       "      <td>2</td>\n",
       "    </tr>\n",
       "    <tr>\n",
       "      <th>OXY</th>\n",
       "      <td>50</td>\n",
       "      <td>55</td>\n",
       "      <td>-12</td>\n",
       "      <td>832</td>\n",
       "      <td>837</td>\n",
       "      <td>797</td>\n",
       "      <td>483</td>\n",
       "      <td>29</td>\n",
       "      <td>20</td>\n",
       "      <td>18</td>\n",
       "      <td>-3.822233</td>\n",
       "      <td>0.960819</td>\n",
       "      <td>-0.249254</td>\n",
       "      <td>2</td>\n",
       "    </tr>\n",
       "    <tr>\n",
       "      <th>SHOP</th>\n",
       "      <td>48</td>\n",
       "      <td>58</td>\n",
       "      <td>-28</td>\n",
       "      <td>1792</td>\n",
       "      <td>1095</td>\n",
       "      <td>1085</td>\n",
       "      <td>1326</td>\n",
       "      <td>22</td>\n",
       "      <td>13</td>\n",
       "      <td>13</td>\n",
       "      <td>-2.607644</td>\n",
       "      <td>0.783052</td>\n",
       "      <td>-0.458808</td>\n",
       "      <td>2</td>\n",
       "    </tr>\n",
       "    <tr>\n",
       "      <th>AMC</th>\n",
       "      <td>35</td>\n",
       "      <td>51</td>\n",
       "      <td>-29</td>\n",
       "      <td>1514</td>\n",
       "      <td>1914</td>\n",
       "      <td>2653</td>\n",
       "      <td>2751</td>\n",
       "      <td>31</td>\n",
       "      <td>29</td>\n",
       "      <td>26</td>\n",
       "      <td>-3.464191</td>\n",
       "      <td>1.511677</td>\n",
       "      <td>0.931610</td>\n",
       "      <td>2</td>\n",
       "    </tr>\n",
       "    <tr>\n",
       "      <th>GME</th>\n",
       "      <td>35</td>\n",
       "      <td>57</td>\n",
       "      <td>-26</td>\n",
       "      <td>2335</td>\n",
       "      <td>2340</td>\n",
       "      <td>2778</td>\n",
       "      <td>3064</td>\n",
       "      <td>19</td>\n",
       "      <td>15</td>\n",
       "      <td>14</td>\n",
       "      <td>-2.187837</td>\n",
       "      <td>1.060802</td>\n",
       "      <td>-0.070047</td>\n",
       "      <td>2</td>\n",
       "    </tr>\n",
       "  </tbody>\n",
       "</table>\n",
       "</div>"
      ],
      "text/plain": [
       "       score  positive_score  negative_score  activity  activity_avg_7_days  \\\n",
       "stock                                                                         \n",
       "BRN       60              61               0      1167                  503   \n",
       "ORCL      56              63             -25      2237                 2215   \n",
       "OXY       50              55             -12       832                  837   \n",
       "SHOP      48              58             -28      1792                 1095   \n",
       "AMC       35              51             -29      1514                 1914   \n",
       "GME       35              57             -26      2335                 2340   \n",
       "\n",
       "       activity_avg_14_days  activity_avg_30_days  score_avg_7_days  \\\n",
       "stock                                                                 \n",
       "BRN                     275                   145                32   \n",
       "ORCL                   4290                  3208                13   \n",
       "OXY                     797                   483                29   \n",
       "SHOP                   1085                  1326                22   \n",
       "AMC                    2653                  2751                31   \n",
       "GME                    2778                  3064                19   \n",
       "\n",
       "       score_avg_14_days  score_avg_30_days      PC 1      PC 2      PC 3  \\\n",
       "stock                                                                       \n",
       "BRN                   21                 12 -4.248984  1.225623 -0.700491   \n",
       "ORCL                   6                 10 -1.912049  1.071504 -1.154670   \n",
       "OXY                   20                 18 -3.822233  0.960819 -0.249254   \n",
       "SHOP                  13                 13 -2.607644  0.783052 -0.458808   \n",
       "AMC                   29                 26 -3.464191  1.511677  0.931610   \n",
       "GME                   15                 14 -2.187837  1.060802 -0.070047   \n",
       "\n",
       "       Class  \n",
       "stock         \n",
       "BRN        2  \n",
       "ORCL       2  \n",
       "OXY        2  \n",
       "SHOP       2  \n",
       "AMC        2  \n",
       "GME        2  "
      ]
     },
     "execution_count": 73,
     "metadata": {},
     "output_type": "execute_result"
    }
   ],
   "source": [
    "# Select the class most represented in the top 10 stocks\n",
    "top_class = top_stocks[\"Class\"].mode()\n",
    "top_class_stocks = top_stocks.loc[top_stocks[\"Class\"] == top_class[0]]\n",
    "# View the top class stocks\n",
    "top_class_stocks"
   ]
  },
  {
   "cell_type": "markdown",
   "id": "6025d8f0-99ee-43bc-8323-ac3a22a90fdb",
   "metadata": {},
   "source": [
    "## Technical Analysis"
   ]
  },
  {
   "cell_type": "code",
   "execution_count": 75,
   "id": "6ab7fcc6-a913-4ade-ad8e-c91dca6f5478",
   "metadata": {},
   "outputs": [
    {
     "data": {
      "text/html": [
       "<div>\n",
       "<style scoped>\n",
       "    .dataframe tbody tr th:only-of-type {\n",
       "        vertical-align: middle;\n",
       "    }\n",
       "\n",
       "    .dataframe tbody tr th {\n",
       "        vertical-align: top;\n",
       "    }\n",
       "\n",
       "    .dataframe thead th {\n",
       "        text-align: right;\n",
       "    }\n",
       "</style>\n",
       "<table border=\"1\" class=\"dataframe\">\n",
       "  <thead>\n",
       "    <tr style=\"text-align: right;\">\n",
       "      <th></th>\n",
       "      <th></th>\n",
       "      <th>open</th>\n",
       "      <th>high</th>\n",
       "      <th>low</th>\n",
       "      <th>close</th>\n",
       "      <th>volume</th>\n",
       "      <th>trade_count</th>\n",
       "      <th>vwap</th>\n",
       "      <th>Lowest_5D</th>\n",
       "      <th>High_5D</th>\n",
       "      <th>Lowest_15D</th>\n",
       "      <th>...</th>\n",
       "      <th>TP</th>\n",
       "      <th>sma</th>\n",
       "      <th>mad</th>\n",
       "      <th>CCI</th>\n",
       "      <th>prev_close</th>\n",
       "      <th>Actual Returns</th>\n",
       "      <th>TR</th>\n",
       "      <th>ATR_12</th>\n",
       "      <th>ATR_26</th>\n",
       "      <th>ATR_Ratio</th>\n",
       "    </tr>\n",
       "    <tr>\n",
       "      <th>symbol</th>\n",
       "      <th>timestamp</th>\n",
       "      <th></th>\n",
       "      <th></th>\n",
       "      <th></th>\n",
       "      <th></th>\n",
       "      <th></th>\n",
       "      <th></th>\n",
       "      <th></th>\n",
       "      <th></th>\n",
       "      <th></th>\n",
       "      <th></th>\n",
       "      <th></th>\n",
       "      <th></th>\n",
       "      <th></th>\n",
       "      <th></th>\n",
       "      <th></th>\n",
       "      <th></th>\n",
       "      <th></th>\n",
       "      <th></th>\n",
       "      <th></th>\n",
       "      <th></th>\n",
       "      <th></th>\n",
       "    </tr>\n",
       "  </thead>\n",
       "  <tbody>\n",
       "    <tr>\n",
       "      <th rowspan=\"5\" valign=\"top\">AMC</th>\n",
       "      <th>2021-03-15 04:00:00+00:00</th>\n",
       "      <td>12.19</td>\n",
       "      <td>14.49</td>\n",
       "      <td>11.85</td>\n",
       "      <td>14.04</td>\n",
       "      <td>278973468</td>\n",
       "      <td>1462810</td>\n",
       "      <td>13.590010</td>\n",
       "      <td>NaN</td>\n",
       "      <td>NaN</td>\n",
       "      <td>NaN</td>\n",
       "      <td>...</td>\n",
       "      <td>13.460000</td>\n",
       "      <td>NaN</td>\n",
       "      <td>NaN</td>\n",
       "      <td>NaN</td>\n",
       "      <td>NaN</td>\n",
       "      <td>NaN</td>\n",
       "      <td>NaN</td>\n",
       "      <td>NaN</td>\n",
       "      <td>NaN</td>\n",
       "      <td>NaN</td>\n",
       "    </tr>\n",
       "    <tr>\n",
       "      <th>2021-03-16 04:00:00+00:00</th>\n",
       "      <td>13.51</td>\n",
       "      <td>13.62</td>\n",
       "      <td>12.34</td>\n",
       "      <td>13.02</td>\n",
       "      <td>126092812</td>\n",
       "      <td>698578</td>\n",
       "      <td>12.978794</td>\n",
       "      <td>NaN</td>\n",
       "      <td>NaN</td>\n",
       "      <td>NaN</td>\n",
       "      <td>...</td>\n",
       "      <td>12.993333</td>\n",
       "      <td>NaN</td>\n",
       "      <td>NaN</td>\n",
       "      <td>NaN</td>\n",
       "      <td>14.04</td>\n",
       "      <td>-0.072650</td>\n",
       "      <td>1.70</td>\n",
       "      <td>NaN</td>\n",
       "      <td>NaN</td>\n",
       "      <td>NaN</td>\n",
       "    </tr>\n",
       "    <tr>\n",
       "      <th>2021-03-17 04:00:00+00:00</th>\n",
       "      <td>13.21</td>\n",
       "      <td>13.66</td>\n",
       "      <td>13.00</td>\n",
       "      <td>13.56</td>\n",
       "      <td>78053640</td>\n",
       "      <td>400553</td>\n",
       "      <td>13.361525</td>\n",
       "      <td>NaN</td>\n",
       "      <td>NaN</td>\n",
       "      <td>NaN</td>\n",
       "      <td>...</td>\n",
       "      <td>13.406667</td>\n",
       "      <td>NaN</td>\n",
       "      <td>NaN</td>\n",
       "      <td>NaN</td>\n",
       "      <td>13.02</td>\n",
       "      <td>0.041475</td>\n",
       "      <td>0.66</td>\n",
       "      <td>NaN</td>\n",
       "      <td>NaN</td>\n",
       "      <td>NaN</td>\n",
       "    </tr>\n",
       "    <tr>\n",
       "      <th>2021-03-18 04:00:00+00:00</th>\n",
       "      <td>14.35</td>\n",
       "      <td>14.54</td>\n",
       "      <td>13.57</td>\n",
       "      <td>14.00</td>\n",
       "      <td>122214226</td>\n",
       "      <td>642882</td>\n",
       "      <td>14.172692</td>\n",
       "      <td>NaN</td>\n",
       "      <td>NaN</td>\n",
       "      <td>NaN</td>\n",
       "      <td>...</td>\n",
       "      <td>14.036667</td>\n",
       "      <td>NaN</td>\n",
       "      <td>NaN</td>\n",
       "      <td>NaN</td>\n",
       "      <td>13.56</td>\n",
       "      <td>0.032448</td>\n",
       "      <td>0.98</td>\n",
       "      <td>NaN</td>\n",
       "      <td>NaN</td>\n",
       "      <td>NaN</td>\n",
       "    </tr>\n",
       "    <tr>\n",
       "      <th>2021-03-19 04:00:00+00:00</th>\n",
       "      <td>14.15</td>\n",
       "      <td>14.18</td>\n",
       "      <td>13.28</td>\n",
       "      <td>13.93</td>\n",
       "      <td>153206613</td>\n",
       "      <td>532649</td>\n",
       "      <td>13.921140</td>\n",
       "      <td>NaN</td>\n",
       "      <td>NaN</td>\n",
       "      <td>NaN</td>\n",
       "      <td>...</td>\n",
       "      <td>13.796667</td>\n",
       "      <td>NaN</td>\n",
       "      <td>NaN</td>\n",
       "      <td>NaN</td>\n",
       "      <td>14.00</td>\n",
       "      <td>-0.005000</td>\n",
       "      <td>0.90</td>\n",
       "      <td>NaN</td>\n",
       "      <td>NaN</td>\n",
       "      <td>NaN</td>\n",
       "    </tr>\n",
       "  </tbody>\n",
       "</table>\n",
       "<p>5 rows × 26 columns</p>\n",
       "</div>"
      ],
      "text/plain": [
       "                                   open   high    low  close     volume  \\\n",
       "symbol timestamp                                                          \n",
       "AMC    2021-03-15 04:00:00+00:00  12.19  14.49  11.85  14.04  278973468   \n",
       "       2021-03-16 04:00:00+00:00  13.51  13.62  12.34  13.02  126092812   \n",
       "       2021-03-17 04:00:00+00:00  13.21  13.66  13.00  13.56   78053640   \n",
       "       2021-03-18 04:00:00+00:00  14.35  14.54  13.57  14.00  122214226   \n",
       "       2021-03-19 04:00:00+00:00  14.15  14.18  13.28  13.93  153206613   \n",
       "\n",
       "                                  trade_count       vwap  Lowest_5D  High_5D  \\\n",
       "symbol timestamp                                                               \n",
       "AMC    2021-03-15 04:00:00+00:00      1462810  13.590010        NaN      NaN   \n",
       "       2021-03-16 04:00:00+00:00       698578  12.978794        NaN      NaN   \n",
       "       2021-03-17 04:00:00+00:00       400553  13.361525        NaN      NaN   \n",
       "       2021-03-18 04:00:00+00:00       642882  14.172692        NaN      NaN   \n",
       "       2021-03-19 04:00:00+00:00       532649  13.921140        NaN      NaN   \n",
       "\n",
       "                                  Lowest_15D  ...         TP  sma  mad  CCI  \\\n",
       "symbol timestamp                              ...                             \n",
       "AMC    2021-03-15 04:00:00+00:00         NaN  ...  13.460000  NaN  NaN  NaN   \n",
       "       2021-03-16 04:00:00+00:00         NaN  ...  12.993333  NaN  NaN  NaN   \n",
       "       2021-03-17 04:00:00+00:00         NaN  ...  13.406667  NaN  NaN  NaN   \n",
       "       2021-03-18 04:00:00+00:00         NaN  ...  14.036667  NaN  NaN  NaN   \n",
       "       2021-03-19 04:00:00+00:00         NaN  ...  13.796667  NaN  NaN  NaN   \n",
       "\n",
       "                                  prev_close  Actual Returns    TR  ATR_12  \\\n",
       "symbol timestamp                                                             \n",
       "AMC    2021-03-15 04:00:00+00:00         NaN             NaN   NaN     NaN   \n",
       "       2021-03-16 04:00:00+00:00       14.04       -0.072650  1.70     NaN   \n",
       "       2021-03-17 04:00:00+00:00       13.02        0.041475  0.66     NaN   \n",
       "       2021-03-18 04:00:00+00:00       13.56        0.032448  0.98     NaN   \n",
       "       2021-03-19 04:00:00+00:00       14.00       -0.005000  0.90     NaN   \n",
       "\n",
       "                                  ATR_26  ATR_Ratio  \n",
       "symbol timestamp                                     \n",
       "AMC    2021-03-15 04:00:00+00:00     NaN        NaN  \n",
       "       2021-03-16 04:00:00+00:00     NaN        NaN  \n",
       "       2021-03-17 04:00:00+00:00     NaN        NaN  \n",
       "       2021-03-18 04:00:00+00:00     NaN        NaN  \n",
       "       2021-03-19 04:00:00+00:00     NaN        NaN  \n",
       "\n",
       "[5 rows x 26 columns]"
      ]
     },
     "execution_count": 75,
     "metadata": {},
     "output_type": "execute_result"
    }
   ],
   "source": [
    "portfolio_df = create_technical_analysis_df()\n",
    "portfolio_df.head()"
   ]
  },
  {
   "cell_type": "code",
   "execution_count": 76,
   "id": "cd50a0a4-fada-44b6-91b8-9f1a4f1dd3a7",
   "metadata": {},
   "outputs": [
    {
     "data": {
      "text/html": [
       "<div>\n",
       "<style scoped>\n",
       "    .dataframe tbody tr th:only-of-type {\n",
       "        vertical-align: middle;\n",
       "    }\n",
       "\n",
       "    .dataframe tbody tr th {\n",
       "        vertical-align: top;\n",
       "    }\n",
       "\n",
       "    .dataframe thead th {\n",
       "        text-align: right;\n",
       "    }\n",
       "</style>\n",
       "<table border=\"1\" class=\"dataframe\">\n",
       "  <thead>\n",
       "    <tr style=\"text-align: right;\">\n",
       "      <th></th>\n",
       "      <th></th>\n",
       "      <th>Stochastic_Ratio</th>\n",
       "      <th>CCI</th>\n",
       "      <th>ATR_Ratio</th>\n",
       "      <th>close</th>\n",
       "    </tr>\n",
       "    <tr>\n",
       "      <th>symbol</th>\n",
       "      <th>timestamp</th>\n",
       "      <th></th>\n",
       "      <th></th>\n",
       "      <th></th>\n",
       "      <th></th>\n",
       "    </tr>\n",
       "  </thead>\n",
       "  <tbody>\n",
       "    <tr>\n",
       "      <th rowspan=\"5\" valign=\"top\">SHOP</th>\n",
       "      <th>2022-03-07 05:00:00+00:00</th>\n",
       "      <td>0.944679</td>\n",
       "      <td>-115.217713</td>\n",
       "      <td>0.801972</td>\n",
       "      <td>560.80</td>\n",
       "    </tr>\n",
       "    <tr>\n",
       "      <th>2022-03-08 05:00:00+00:00</th>\n",
       "      <td>0.713481</td>\n",
       "      <td>-129.666602</td>\n",
       "      <td>0.760253</td>\n",
       "      <td>514.95</td>\n",
       "    </tr>\n",
       "    <tr>\n",
       "      <th>2022-03-09 05:00:00+00:00</th>\n",
       "      <td>0.927472</td>\n",
       "      <td>-97.359444</td>\n",
       "      <td>0.819340</td>\n",
       "      <td>587.65</td>\n",
       "    </tr>\n",
       "    <tr>\n",
       "      <th>2022-03-10 05:00:00+00:00</th>\n",
       "      <td>0.919686</td>\n",
       "      <td>-100.372363</td>\n",
       "      <td>0.830240</td>\n",
       "      <td>553.18</td>\n",
       "    </tr>\n",
       "    <tr>\n",
       "      <th>2022-03-11 05:00:00+00:00</th>\n",
       "      <td>0.976213</td>\n",
       "      <td>-95.987357</td>\n",
       "      <td>0.881574</td>\n",
       "      <td>544.37</td>\n",
       "    </tr>\n",
       "  </tbody>\n",
       "</table>\n",
       "</div>"
      ],
      "text/plain": [
       "                                  Stochastic_Ratio         CCI  ATR_Ratio  \\\n",
       "symbol timestamp                                                            \n",
       "SHOP   2022-03-07 05:00:00+00:00          0.944679 -115.217713   0.801972   \n",
       "       2022-03-08 05:00:00+00:00          0.713481 -129.666602   0.760253   \n",
       "       2022-03-09 05:00:00+00:00          0.927472  -97.359444   0.819340   \n",
       "       2022-03-10 05:00:00+00:00          0.919686 -100.372363   0.830240   \n",
       "       2022-03-11 05:00:00+00:00          0.976213  -95.987357   0.881574   \n",
       "\n",
       "                                   close  \n",
       "symbol timestamp                          \n",
       "SHOP   2022-03-07 05:00:00+00:00  560.80  \n",
       "       2022-03-08 05:00:00+00:00  514.95  \n",
       "       2022-03-09 05:00:00+00:00  587.65  \n",
       "       2022-03-10 05:00:00+00:00  553.18  \n",
       "       2022-03-11 05:00:00+00:00  544.37  "
      ]
     },
     "execution_count": 76,
     "metadata": {},
     "output_type": "execute_result"
    }
   ],
   "source": [
    "#Note this .drop function automatically moves the 'symbol' column to create a multi-level index once row 6 is dropped from original df\n",
    "technicals = portfolio_df[[\"Stochastic_Ratio\",\"CCI\",\"ATR_Ratio\",\"close\"]]\n",
    "technicals.tail()"
   ]
  },
  {
   "cell_type": "markdown",
   "id": "d85fdde9-a592-4a6d-b970-dc0abc77327d",
   "metadata": {
    "tags": []
   },
   "source": [
    "---\n",
    "\n",
    "# Machine Learning - LSTM Neural Network"
   ]
  },
  {
   "cell_type": "markdown",
   "id": "d681010e-dbb7-4c98-a1de-793341b56ef0",
   "metadata": {
    "tags": []
   },
   "source": [
    "### Preprocessing for LSTM\n",
    "\n",
    "Dataframe (stock_df) specified below needs to be close prices with all indicators (fundamental + technical) to be passed as features. "
   ]
  },
  {
   "cell_type": "code",
   "execution_count": 89,
   "id": "ac4e918f-4459-4d68-80e4-80ff1cd5285c",
   "metadata": {},
   "outputs": [],
   "source": [
    "# Converting feature and targets into arrays readable by the LSTM network\n",
    "def scale_array(features, target, train_proportion:float = 0.8, scaler: bool = True):\n",
    "    \n",
    "    '''\n",
    "    Prepares four arrays for training within an LSTM neural network. \n",
    "    Returns the following objects\n",
    "    X_train: training set for features\n",
    "    X_test: testing set for features\n",
    "    y_train: training set for target(s)\n",
    "    y_test: testing set for target(s)\n",
    "    scaler: sklearn MinMaxScaler with fit memory required for inverse transformation of model predictions\n",
    "    \n",
    "    Parameters:    \n",
    "    :features: Pandas dataframe or Series object containing model features\n",
    "    :target: Pandas dataframe or Series object containing moel target(s)\n",
    "    :train: Proportion of data to be assigned to train set. The rest will be assigned to test set.\n",
    "    :scaler: Boolean. Default = True.If False, data will not be scaled.\n",
    "    '''\n",
    "    # Convert features and target to arrays\n",
    "    X = np.array(features)\n",
    "    y = np.array(target).reshape(-1,1)\n",
    "    \n",
    "    # Manually splitting the data\n",
    "    split = int(0.8 * len(X))\n",
    "    X_train = X[: split]\n",
    "    X_test = X[split:]\n",
    "    y_train = y[: split]\n",
    "    y_test = y[split:]\n",
    "\n",
    "    if scaler:\n",
    "        # Create a MinMaxScaler object\n",
    "        scaler = MinMaxScaler()\n",
    "\n",
    "        # Fit the MinMaxScaler object with the features data X\n",
    "        scaler.fit(X_train)\n",
    "\n",
    "        # Scale the features training and testing sets\n",
    "        X_train = scaler.transform(X_train)\n",
    "        X_test = scaler.transform(X_test)\n",
    "\n",
    "        # Fit the MinMaxScaler object with the target data Y\n",
    "        scaler.fit(y_train)\n",
    "\n",
    "        # Scale the target training and testing sets\n",
    "        y_train = scaler.transform(y_train)\n",
    "        y_test = scaler.transform(y_test)\n",
    "    else:\n",
    "        pass\n",
    "    \n",
    "    # Reshape the features data to pass into LSTM\n",
    "    X_train = X_train.reshape((X_train.shape[0], X_train.shape[1], 1))\n",
    "    X_test = X_test.reshape((X_test.shape[0], X_test.shape[1], 1))\n",
    "    \n",
    "    return X_train, X_test, y_train, y_test, scaler\n",
    "\n",
    "# Creating the LSTM neural network layout\n",
    "\n",
    "def create_LSTM_model(\n",
    "    train_set: np.ndarray,\n",
    "    dropout: float = 0.2,\n",
    "    layer_one_dropout: float = 0.6,\n",
    "    number_layers: int = 4,\n",
    "    optimizer: str = 'adam',\n",
    "    loss: str = 'mean_squared_error'):\n",
    "    \n",
    "    '''\n",
    "    Initialises a multilayer LSTM neural network, with number of units in the first layer being equal to the number of features. Number of layers is default 4, but can be specified by user.\n",
    "    Each layer is accompanied by a Dropout with a rate of 0.6 for the first layer and a default of 0.2 for subsequent layers.\n",
    "    After the first layer, number of units in each LSTM are reduced to 2/3 the initial size.\n",
    "    '''\n",
    "\n",
    "    # Define the LSTM RNN model.\n",
    "    model = Sequential()\n",
    "\n",
    "    # Initial model setup\n",
    "    number_units = X_train.shape[1]\n",
    "    dropout_fraction = dropout\n",
    "\n",
    "\n",
    "    # Layer 1\n",
    "    model.add(LSTM(\n",
    "        units=number_units,\n",
    "        return_sequences=True,\n",
    "        input_shape=(X_train.shape[1], 1))\n",
    "        )\n",
    "    model.add(Dropout(layer_one_dropout))\n",
    "\n",
    "    # Intiialize layer counter\n",
    "    layer_counter = 1\n",
    "    \n",
    "    # 'While' loop to keep adding layers until number of layers meet user specifications. Condition is \"< - 1\" because of need for penultimate layer not to have \"return_sequences = True\".\n",
    "    while layer_counter < (number_layers - 1):\n",
    "        # Layer 2 to n\n",
    "        model.add(LSTM(units=number_units, return_sequences = True))\n",
    "        model.add(Dropout(dropout_fraction))\n",
    "        layer_counter+=1\n",
    "\n",
    "    # Penultimate layer\n",
    "    model.add(LSTM(units=number_units))\n",
    "    model.add(Dropout(dropout_fraction))\n",
    "\n",
    "    # Output layer\n",
    "    model.add(Dense(1))\n",
    "\n",
    "    # Compile the model\n",
    "    model.compile(optimizer=optimizer, loss=loss)\n",
    "    \n",
    "    return model\n",
    "\n",
    "# Function to calculate returns according to strategy, and reappend to existing prices dataframe\n",
    "def calculate_strategy_returns(prices_df, trading_threshold, shorting: bool = False):\n",
    "    '''\n",
    "    prices_df: pd.DataFrame containing an 'Actual' and 'Predicted' column representing actual and model-predicted prices respectively\n",
    "    \n",
    "    '''\n",
    "     # Calculate actual daily returns\n",
    "    prices_df['actual_returns'] = prices_df['Actual'].pct_change()\n",
    "    # Create a 'last close' column\n",
    "    prices_df['last_close'] = prices_df['Actual'].shift()\n",
    "    # Calculate the predicted daily returns, by taking the predicted price as a proportion of the last close\n",
    "    prices_df['predicted_returns'] = (prices_df['Predicted'] - prices_df['last_close'])/prices_df['last_close']\n",
    "\n",
    "    # Actual signal = 1 if actual returns more than threshold,  -1 if less than threshold\n",
    "    prices_df['actual_signal'] = 0\n",
    "    prices_df.loc[prices_df['actual_returns'] > trading_threshold , 'actual_signal'] = 1\n",
    "    if shorting == True:\n",
    "        prices_df.loc[prices_df['actual_returns'] < -trading_threshold , 'actual_signal'] = -1\n",
    "\n",
    "    # Strategy signal = 1 if predicted returns > threshold, -1 if less than threshold\n",
    "    prices_df['strategy_signal'] = 0\n",
    "    prices_df.loc[prices_df['predicted_returns'] > trading_threshold , 'strategy_signal'] = 1\n",
    "    if shorting == True:\n",
    "        prices_df.loc[prices_df['predicted_returns'] < -trading_threshold , 'strategy_signal'] = -1       \n",
    "\n",
    "    # Compute strategy returns\n",
    "    prices_df['strategy_returns'] = prices_df['actual_returns'] * prices_df['strategy_signal']\n",
    "    \n",
    "    return prices_df\n",
    "\n",
    "\n",
    "# Function to calculate RMSE. 'math` library needed. \n",
    "def calculate_RMSE(y_actual, y_predicted):\n",
    "    MSE = np.square(np.subtract(y_actual, y_predicted)).mean()\n",
    "    RMSE = math.sqrt(MSE)\n",
    "    return RMSE\n",
    "\n"
   ]
  },
  {
   "cell_type": "markdown",
   "id": "0088e312-e3bb-4200-8407-41e4350d5cb6",
   "metadata": {
    "tags": []
   },
   "source": [
    "### Predefine parameters for LSTM network training\n"
   ]
  },
  {
   "cell_type": "code",
   "execution_count": 90,
   "id": "37744758-2d02-414a-b568-8e49d6410dc2",
   "metadata": {},
   "outputs": [],
   "source": [
    "\n",
    "# Set target cumulative returns as a threshold for model to achieve.\n",
    "target_cumulative_return = 1.01\n",
    "\n",
    "# Set returns threshold for strategy to fire trading signal\n",
    "trading_threshold = 0.00\n",
    "\n",
    "# Set maximum numberof iterations to run\n",
    "max_iter = 3"
   ]
  },
  {
   "cell_type": "markdown",
   "id": "336ef5aa-6a50-4dad-b74a-2ded13d1c308",
   "metadata": {
    "tags": []
   },
   "source": [
    "\n",
    "### LSTM `for` loop to train models for each candidate ticker\n",
    "\n"
   ]
  },
  {
   "cell_type": "code",
   "execution_count": 100,
   "id": "8458382f-77c2-4ac4-89e5-c0ad7fdf651f",
   "metadata": {},
   "outputs": [
    {
     "name": "stdout",
     "output_type": "stream",
     "text": [
      "==================================================\n",
      "Initialising training for AMC\n",
      "==================================================\n",
      "Training AMC model iteration 1 ...please wait.\n",
      "\n",
      "Iteration 1 ended.\n",
      "LSTM Method iteration 1 for AMC - Performance\n",
      "--------------------------------------------------\n",
      "Model loss on testing dataset: \n",
      "0.0362\n",
      "RMSE: \n",
      "10.1932\n",
      "Cumulative return on testing dataset: \n",
      "0.6367\n",
      "==================================================\n",
      "Training AMC model iteration 2 ...please wait.\n",
      "\n",
      "Iteration 2 ended.\n",
      "LSTM Method iteration 2 for AMC - Performance\n",
      "--------------------------------------------------\n",
      "Model loss on testing dataset: \n",
      "0.0350\n",
      "RMSE: \n",
      "10.0201\n",
      "Cumulative return on testing dataset: \n",
      "0.6367\n",
      "==================================================\n",
      "Training AMC model iteration 3 ...please wait.\n",
      "\n",
      "Iteration 3 ended.\n",
      "LSTM Method iteration 3 for AMC - Performance\n",
      "--------------------------------------------------\n",
      "Model loss on testing dataset: \n",
      "0.0369\n",
      "RMSE: \n",
      "10.2845\n",
      "Cumulative return on testing dataset: \n",
      "0.6367\n",
      "The LSTM model was not able to achieve the target cumulative returns on the testing dataset within 3 iterations.\n",
      "\n",
      "==================================================\n",
      "Initialising training for BRN\n",
      "==================================================\n",
      "Training BRN model iteration 1 ...please wait.\n",
      "\n",
      "Iteration 1 ended.\n",
      "LSTM Method iteration 1 for BRN - Performance\n",
      "--------------------------------------------------\n",
      "Model loss on testing dataset: \n",
      "0.1380\n",
      "RMSE: \n",
      "0.5127\n",
      "Cumulative return on testing dataset: \n",
      "1.1790\n",
      "Target cumulative returns achieved\n",
      "\n",
      "From 2022-01-06 05:00:00+00:00 to 2022-03-11 05:01:00+00:00, the cumulative return of the current model is 1.18.\n",
      "At its lowest, the model recorded a cumulative return of 1.00.\n",
      "At its highest, the model recorded a cumulative return of 1.18.\n",
      "==================================================\n",
      "Initialising training for GME\n",
      "==================================================\n",
      "Training GME model iteration 1 ...please wait.\n",
      "\n",
      "Iteration 1 ended.\n",
      "LSTM Method iteration 1 for GME - Performance\n",
      "--------------------------------------------------\n",
      "Model loss on testing dataset: \n",
      "0.0445\n",
      "RMSE: \n",
      "36.5192\n",
      "Cumulative return on testing dataset: \n",
      "0.7074\n",
      "==================================================\n",
      "Training GME model iteration 2 ...please wait.\n",
      "\n",
      "Iteration 2 ended.\n",
      "LSTM Method iteration 2 for GME - Performance\n",
      "--------------------------------------------------\n",
      "Model loss on testing dataset: \n",
      "0.0524\n",
      "RMSE: \n",
      "39.6474\n",
      "Cumulative return on testing dataset: \n",
      "0.7074\n",
      "==================================================\n",
      "Training GME model iteration 3 ...please wait.\n",
      "\n",
      "Iteration 3 ended.\n",
      "LSTM Method iteration 3 for GME - Performance\n",
      "--------------------------------------------------\n",
      "Model loss on testing dataset: \n",
      "0.0434\n",
      "RMSE: \n",
      "36.0743\n",
      "Cumulative return on testing dataset: \n",
      "0.7074\n",
      "The LSTM model was not able to achieve the target cumulative returns on the testing dataset within 3 iterations.\n",
      "\n",
      "==================================================\n",
      "Initialising training for ORCL\n",
      "==================================================\n",
      "Training ORCL model iteration 1 ...please wait.\n",
      "\n",
      "Iteration 1 ended.\n",
      "LSTM Method iteration 1 for ORCL - Performance\n",
      "--------------------------------------------------\n",
      "Model loss on testing dataset: \n",
      "0.0614\n",
      "RMSE: \n",
      "7.2230\n",
      "Cumulative return on testing dataset: \n",
      "0.9096\n",
      "==================================================\n",
      "Training ORCL model iteration 2 ...please wait.\n",
      "\n",
      "Iteration 2 ended.\n",
      "LSTM Method iteration 2 for ORCL - Performance\n",
      "--------------------------------------------------\n",
      "Model loss on testing dataset: \n",
      "0.0624\n",
      "RMSE: \n",
      "7.2818\n",
      "Cumulative return on testing dataset: \n",
      "0.9096\n",
      "==================================================\n",
      "Training ORCL model iteration 3 ...please wait.\n",
      "\n",
      "Iteration 3 ended.\n",
      "LSTM Method iteration 3 for ORCL - Performance\n",
      "--------------------------------------------------\n",
      "Model loss on testing dataset: \n",
      "0.0609\n",
      "RMSE: \n",
      "7.1923\n",
      "Cumulative return on testing dataset: \n",
      "0.9096\n",
      "The LSTM model was not able to achieve the target cumulative returns on the testing dataset within 3 iterations.\n",
      "\n",
      "==================================================\n",
      "Initialising training for OXY\n",
      "==================================================\n",
      "Training OXY model iteration 1 ...please wait.\n",
      "\n",
      "Iteration 1 ended.\n",
      "LSTM Method iteration 1 for OXY - Performance\n",
      "--------------------------------------------------\n",
      "Model loss on testing dataset: \n",
      "1.1515\n",
      "RMSE: \n",
      "14.3901\n",
      "Cumulative return on testing dataset: \n",
      "1.0000\n",
      "==================================================\n",
      "Training OXY model iteration 2 ...please wait.\n",
      "\n",
      "Iteration 2 ended.\n",
      "LSTM Method iteration 2 for OXY - Performance\n",
      "--------------------------------------------------\n",
      "Model loss on testing dataset: \n",
      "1.1967\n",
      "RMSE: \n",
      "14.6695\n",
      "Cumulative return on testing dataset: \n",
      "1.0000\n",
      "==================================================\n",
      "Training OXY model iteration 3 ...please wait.\n",
      "\n",
      "Iteration 3 ended.\n",
      "LSTM Method iteration 3 for OXY - Performance\n",
      "--------------------------------------------------\n",
      "Model loss on testing dataset: \n",
      "1.1513\n",
      "RMSE: \n",
      "14.3885\n",
      "Cumulative return on testing dataset: \n",
      "1.0000\n",
      "The LSTM model was not able to achieve the target cumulative returns on the testing dataset within 3 iterations.\n",
      "\n",
      "==================================================\n",
      "Initialising training for SHOP\n",
      "==================================================\n",
      "Training SHOP model iteration 1 ...please wait.\n",
      "\n",
      "Iteration 1 ended.\n",
      "LSTM Method iteration 1 for SHOP - Performance\n",
      "--------------------------------------------------\n",
      "Model loss on testing dataset: \n",
      "0.7426\n",
      "RMSE: \n",
      "553.9539\n",
      "Cumulative return on testing dataset: \n",
      "0.4657\n",
      "==================================================\n",
      "Training SHOP model iteration 2 ...please wait.\n",
      "\n",
      "Iteration 2 ended.\n",
      "LSTM Method iteration 2 for SHOP - Performance\n",
      "--------------------------------------------------\n",
      "Model loss on testing dataset: \n",
      "0.7394\n",
      "RMSE: \n",
      "552.7545\n",
      "Cumulative return on testing dataset: \n",
      "0.4657\n",
      "==================================================\n",
      "Training SHOP model iteration 3 ...please wait.\n",
      "\n",
      "Iteration 3 ended.\n",
      "LSTM Method iteration 3 for SHOP - Performance\n",
      "--------------------------------------------------\n",
      "Model loss on testing dataset: \n",
      "0.7233\n",
      "RMSE: \n",
      "546.7208\n",
      "Cumulative return on testing dataset: \n",
      "0.4657\n",
      "The LSTM model was not able to achieve the target cumulative returns on the testing dataset within 3 iterations.\n",
      "\n",
      "**************************************************\n",
      "Training completed.\n"
     ]
    }
   ],
   "source": [
    "tickers = technicals.index.get_level_values('symbol').unique().to_list()\n",
    "\n",
    "# Initialise list to hold tickers that have successfully trained models that achieve the target cumulative returns:\n",
    "modelled_tickers = []\n",
    "trading_signals = []\n",
    "\n",
    "for ticker in tickers:\n",
    "    print(\"=\"*50)\n",
    "    print(f\"Initialising training for {ticker}\")\n",
    "\n",
    "    # Create signal dataframe as a copy\n",
    "    signal = technicals.copy().loc[ticker].dropna()\n",
    "    \n",
    "    # Create blank row for current trading day and append to end of dataframe\n",
    "    most_recent_timestamp = signal.index.get_level_values('timestamp').max() + timedelta(minutes = 1)\n",
    "    signal.loc[most_recent_timestamp, ['target']] = np.nan\n",
    "\n",
    "    # # Create target\n",
    "    signal['target'] = signal['close'] \n",
    "\n",
    "    # Shift indicators to predict current trading day close\n",
    "    signal.iloc[:, :-1]  = signal.iloc[:, :-1].shift()\n",
    "\n",
    "    # Drop first row with NaNs resulting from data shift\n",
    "    signal = signal.iloc[1:, :]\n",
    "\n",
    "    # Ensure all data is 'float' type while also dropping null values due to value shifts and unavailable NaN indicator data.\n",
    "    signal = signal.astype('float')\n",
    "\n",
    "    # Set features and target\n",
    "    X = signal.iloc[:, :-1]\n",
    "    y = signal['target']\n",
    "      \n",
    "    # Use predefined scale_array function to transform data and perform train/test split\n",
    "    X_train, X_test, y_train, y_test, scaler = scale_array(X, y, train_proportion = 0.8)\n",
    "\n",
    "    # Record start time\n",
    "    start_time = time.time()\n",
    "    \n",
    "    # (Re)set iter_counter and strategy_cumulative_return to 0 \n",
    "    strategy_cumulative_return = 0\n",
    "    iter_counter = 0\n",
    "\n",
    "    # While loop that repeatedly trains LSTM models to adjust weights until it can hit the target cumulative return. Loop stops if max_iter is hit or if returns are achieved on backtesting\n",
    "    while strategy_cumulative_return < target_cumulative_return and iter_counter != max_iter:\n",
    "        \n",
    "        strategy_cumulative_return = 0\n",
    "        # Start iteration counter\n",
    "        iter_counter+=1\n",
    "\n",
    "        # Create model if first iteration. Reset model if subsequent iterations\n",
    "        model = create_LSTM_model(X_train,\n",
    "                                  dropout=0.4,\n",
    "                                  layer_one_dropout=0.6,\n",
    "                                  number_layers=6\n",
    "                                 )\n",
    "\n",
    "        # Set early stopping such that each iteration stops running epochs if validation loss is not improving (i.e. minimising further)\n",
    "        callback = EarlyStopping(\n",
    "            monitor='val_loss',\n",
    "            patience=20, mode='auto',\n",
    "            restore_best_weights=True\n",
    "        )\n",
    "\n",
    "        # Print message to allow visual confirmation of iteration training is currently at.\n",
    "        print(\"=\"*50)\n",
    "        print(f\"Training {ticker} model iteration {iter_counter} ...please wait.\\n\")\n",
    "\n",
    "        # Train the model\n",
    "        history = model.fit(\n",
    "            X_train, y_train,\n",
    "            epochs=1000, batch_size=32,\n",
    "            shuffle=False,\n",
    "            validation_split = 0.1,  \n",
    "            verbose = 0,\n",
    "            callbacks = callback\n",
    "        )\n",
    "        # Print confirmation that current iteration has ended.\n",
    "        print(f\"Iteration {iter_counter} ended.\")\n",
    "\n",
    "        # Evaluate loss when predicting test data. Sliced out entry -1 as y_test[-1] target is NaN \n",
    "        model_loss = model.evaluate(X_test[:-1], y_test[:-1], verbose=0)\n",
    "    \n",
    "        # Make predictions\n",
    "        predicted = model.predict(X_test)\n",
    "\n",
    "        # Recover the original prices instead of the scaled version\n",
    "        predicted_prices = scaler.inverse_transform(predicted)\n",
    "        real_prices = scaler.inverse_transform(y_test.reshape(-1, 1))\n",
    "\n",
    "        # Create a DataFrame of Real and Predicted values\n",
    "        prices = pd.DataFrame({\n",
    "            \"Actual\": real_prices.ravel(),\n",
    "            \"Predicted\": predicted_prices.ravel()\n",
    "        }, index = signal.index[-len(real_prices): ]) \n",
    "\n",
    "        # Use predefined calculate_strategy_returns function to calculate and append strategy returns column to 'prices' dataframe\n",
    "        prices = calculate_strategy_returns(prices, trading_threshold, shorting = False)\n",
    "        \n",
    "        \n",
    "        # Compute strategy cumulative returns\n",
    "        strategy_cumulative_return = (1+prices['strategy_returns']).cumprod()[-1]\n",
    "        \n",
    "        rmse = calculate_RMSE(prices['Actual'], prices['Predicted'])\n",
    "        \n",
    "        # Print performance metrics of the model given the feature weights produced by current iteration\n",
    "        print(f\"LSTM Method iteration {iter_counter} for {ticker} - Performance\")\n",
    "        print(\"-\"*50)\n",
    "        print(f\"Model loss on testing dataset: \\n{model_loss:.4f}\")\n",
    "        print(f\"RMSE: \\n{rmse:.4f}\")\n",
    "        print(f\"Cumulative return on testing dataset: \\n{strategy_cumulative_return:.4f}\")\n",
    "    \n",
    "    # Append ticker to modelled_tickers:\n",
    "    modelled_tickers.append(ticker)\n",
    "    \n",
    "    if strategy_cumulative_return >= target_cumulative_return:\n",
    "        print(f\"Target cumulative returns achieved\\n\")\n",
    "        # Calculate cumulative returns at their best and worst time points over time.\n",
    "        min_return = (1+prices['strategy_returns']).cumprod().min()\n",
    "        max_return = (1+prices['strategy_returns']).cumprod().max()\n",
    "\n",
    "        \n",
    "        # Print cumulative return performance\n",
    "        print(f\"From {prices.index.min()} to {prices.index.max()}, the cumulative return of the current model is {strategy_cumulative_return:.2f}.\")\n",
    "        print(f\"At its lowest, the model recorded a cumulative return of {min_return:.2f}.\")\n",
    "        print(f\"At its highest, the model recorded a cumulative return of {max_return:.2f}.\")  \n",
    "        \n",
    "        # Convert model to json\n",
    "        model_json = model.to_json()\n",
    "\n",
    "        # Save model layout as json\n",
    "        path = f\"../Resources/LSTM_model_weights/{date.today()}\"\n",
    "        # Check whether the specified path exists or not\n",
    "        isExist = os.path.exists(path)\n",
    "        if not isExist:\n",
    "            # Create a new directory because it does not exist \n",
    "            os.makedirs(path)\n",
    "        \n",
    "        file_path = Path(f\"../Resources/LSTM_model_weights/{date.today()}/{ticker}.json\")\n",
    "        with open(file_path, \"w\") as json_file:\n",
    "            json_file.write(model_json)\n",
    "\n",
    "        # Save weights\n",
    "        model.save_weights(f\"../Resources/LSTM_model_weights/{date.today()}/{ticker}.h5\")\n",
    "        \n",
    "        # Append the trading signal predicted by model\n",
    "        trading_signals.append(prices.loc[prices.index.max(), 'strategy_signal'])\n",
    "\n",
    "    else:\n",
    "        print(f\"The LSTM model was not able to achieve the target cumulative returns on the testing dataset within {max_iter} iterations.\\n\")\n",
    "        trading_signals.append(0)\n",
    "\n",
    "\n",
    "print(\"*\"*50)\n",
    "print(f\"Training completed.\")\n",
    "\n",
    " "
   ]
  },
  {
   "cell_type": "code",
   "execution_count": 101,
   "id": "85c604ab-c8e4-496b-ae9f-9d00d0f16d62",
   "metadata": {},
   "outputs": [
    {
     "data": {
      "text/html": [
       "<div>\n",
       "<style scoped>\n",
       "    .dataframe tbody tr th:only-of-type {\n",
       "        vertical-align: middle;\n",
       "    }\n",
       "\n",
       "    .dataframe tbody tr th {\n",
       "        vertical-align: top;\n",
       "    }\n",
       "\n",
       "    .dataframe thead th {\n",
       "        text-align: right;\n",
       "    }\n",
       "</style>\n",
       "<table border=\"1\" class=\"dataframe\">\n",
       "  <thead>\n",
       "    <tr style=\"text-align: right;\">\n",
       "      <th></th>\n",
       "      <th>trading_signal</th>\n",
       "    </tr>\n",
       "    <tr>\n",
       "      <th>symbol</th>\n",
       "      <th></th>\n",
       "    </tr>\n",
       "  </thead>\n",
       "  <tbody>\n",
       "    <tr>\n",
       "      <th>AMC</th>\n",
       "      <td>0</td>\n",
       "    </tr>\n",
       "    <tr>\n",
       "      <th>BRN</th>\n",
       "      <td>0</td>\n",
       "    </tr>\n",
       "    <tr>\n",
       "      <th>GME</th>\n",
       "      <td>0</td>\n",
       "    </tr>\n",
       "    <tr>\n",
       "      <th>ORCL</th>\n",
       "      <td>0</td>\n",
       "    </tr>\n",
       "    <tr>\n",
       "      <th>OXY</th>\n",
       "      <td>0</td>\n",
       "    </tr>\n",
       "    <tr>\n",
       "      <th>SHOP</th>\n",
       "      <td>0</td>\n",
       "    </tr>\n",
       "  </tbody>\n",
       "</table>\n",
       "</div>"
      ],
      "text/plain": [
       "        trading_signal\n",
       "symbol                \n",
       "AMC                  0\n",
       "BRN                  0\n",
       "GME                  0\n",
       "ORCL                 0\n",
       "OXY                  0\n",
       "SHOP                 0"
      ]
     },
     "execution_count": 101,
     "metadata": {},
     "output_type": "execute_result"
    }
   ],
   "source": [
    "# Produce trading_signal df.\n",
    "trading_dict = {'symbol':modelled_tickers, 'trading_signal':trading_signals}\n",
    "trading_signals_df = pd.DataFrame.from_dict(trading_dict).set_index('symbol')\n",
    "\n",
    "trading_signals_df"
   ]
  },
  {
   "cell_type": "markdown",
   "id": "7cfc52b8-34da-46db-b8d1-f6d31de636ca",
   "metadata": {},
   "source": [
    "## Graphs\n",
    "\n",
    "Once we have a model that generates the desired cumulative returns, we can print the graph for further visual confirmation that this is a suitable algo. \n",
    "\n",
    "Three graphs here \n",
    "- The loss metric from the training history of the eligible model\n",
    "- Predicted prices vs Actual prices\n",
    "- Strategy cumprod vs Actual cumprod."
   ]
  },
  {
   "cell_type": "code",
   "execution_count": 82,
   "id": "4c73dad1-4932-4ce2-a213-7719c609c7ae",
   "metadata": {},
   "outputs": [
    {
     "data": {
      "image/png": "[encoded data removed]",
      "text/plain": [
       "<Figure size 432x288 with 1 Axes>"
      ]
     },
     "metadata": {
      "needs_background": "light"
     },
     "output_type": "display_data"
    }
   ],
   "source": [
    "# Plot validation loss versus training loss\n",
    "\n",
    "plt.plot(history.history['loss'], 'r', label='Training loss')\n",
    "plt.plot(history.history['val_loss'], 'g', label='Validation loss')\n",
    "plt.title('Training VS Validation loss')\n",
    "plt.xlabel('No. of Epochs')\n",
    "plt.ylabel('Loss')\n",
    "plt.legend()\n",
    "plt.show()"
   ]
  },
  {
   "cell_type": "code",
   "execution_count": 83,
   "id": "765313d8-fe71-4771-9227-7e787830b33a",
   "metadata": {},
   "outputs": [
    {
     "data": {
      "application/vnd.plotly.v1+json": {
       "config": {
        "plotlyServerURL": "https://plot.ly"
       },
       "data": [
        {
         "hovertemplate": "variable=Actual<br>timestamp=%{x}<br>value=%{y}<extra></extra>",
         "legendgroup": "Actual",
         "line": {
          "color": "#636efa",
          "dash": "solid"
         },
         "marker": {
          "symbol": "circle"
         },
         "mode": "lines",
         "name": "Actual",
         "orientation": "v",
         "showlegend": true,
         "type": "scatter",
         "x": [
          "2022-01-06T05:00:00+00:00",
          "2022-01-07T05:00:00+00:00",
          "2022-01-10T05:00:00+00:00",
          "2022-01-11T05:00:00+00:00",
          "2022-01-12T05:00:00+00:00",
          "2022-01-13T05:00:00+00:00",
          "2022-01-14T05:00:00+00:00",
          "2022-01-18T05:00:00+00:00",
          "2022-01-19T05:00:00+00:00",
          "2022-01-20T05:00:00+00:00",
          "2022-01-21T05:00:00+00:00",
          "2022-01-24T05:00:00+00:00",
          "2022-01-25T05:00:00+00:00",
          "2022-01-26T05:00:00+00:00",
          "2022-01-27T05:00:00+00:00",
          "2022-01-28T05:00:00+00:00",
          "2022-01-31T05:00:00+00:00",
          "2022-02-01T05:00:00+00:00",
          "2022-02-02T05:00:00+00:00",
          "2022-02-03T05:00:00+00:00",
          "2022-02-04T05:00:00+00:00",
          "2022-02-07T05:00:00+00:00",
          "2022-02-08T05:00:00+00:00",
          "2022-02-09T05:00:00+00:00",
          "2022-02-10T05:00:00+00:00",
          "2022-02-11T05:00:00+00:00",
          "2022-02-14T05:00:00+00:00",
          "2022-02-15T05:00:00+00:00",
          "2022-02-16T05:00:00+00:00",
          "2022-02-17T05:00:00+00:00",
          "2022-02-18T05:00:00+00:00",
          "2022-02-22T05:00:00+00:00",
          "2022-02-23T05:00:00+00:00",
          "2022-02-24T05:00:00+00:00",
          "2022-02-25T05:00:00+00:00",
          "2022-02-28T05:00:00+00:00",
          "2022-03-01T05:00:00+00:00",
          "2022-03-02T05:00:00+00:00",
          "2022-03-03T05:00:00+00:00",
          "2022-03-04T05:00:00+00:00",
          "2022-03-07T05:00:00+00:00",
          "2022-03-08T05:00:00+00:00",
          "2022-03-09T05:00:00+00:00",
          "2022-03-10T05:00:00+00:00",
          "2022-03-11T05:00:00+00:00",
          "2022-03-11T05:01:00+00:00"
         ],
         "xaxis": "x",
         "y": [
          1168.93,
          1144.48,
          1131.17,
          1157.31,
          1168.76,
          1064.36,
          1102.91,
          1054.66,
          1030.95,
          1023.95,
          882.1200000000001,
          938.49,
          892.39,
          868.9199999999998,
          815.7599999999999,
          872.23,
          964.2399999999999,
          984.2,
          885.8800000000001,
          809.44,
          876,
          866.89,
          878,
          924.9699999999999,
          893.34,
          854,
          847.45,
          889.5,
          746.85,
          660,
          656.8799999999999,
          626.16,
          626.61,
          663.9800000000001,
          676.95,
          694.26,
          673.44,
          659.83,
          640.75,
          600.84,
          560.8,
          514.95,
          587.65,
          553.18,
          544.37,
          null
         ],
         "yaxis": "y"
        },
        {
         "hovertemplate": "variable=Predicted<br>timestamp=%{x}<br>value=%{y}<extra></extra>",
         "legendgroup": "Predicted",
         "line": {
          "color": "#EF553B",
          "dash": "solid"
         },
         "marker": {
          "symbol": "circle"
         },
         "mode": "lines",
         "name": "Predicted",
         "orientation": "v",
         "showlegend": true,
         "type": "scatter",
         "x": [
          "2022-01-06T05:00:00+00:00",
          "2022-01-07T05:00:00+00:00",
          "2022-01-10T05:00:00+00:00",
          "2022-01-11T05:00:00+00:00",
          "2022-01-12T05:00:00+00:00",
          "2022-01-13T05:00:00+00:00",
          "2022-01-14T05:00:00+00:00",
          "2022-01-18T05:00:00+00:00",
          "2022-01-19T05:00:00+00:00",
          "2022-01-20T05:00:00+00:00",
          "2022-01-21T05:00:00+00:00",
          "2022-01-24T05:00:00+00:00",
          "2022-01-25T05:00:00+00:00",
          "2022-01-26T05:00:00+00:00",
          "2022-01-27T05:00:00+00:00",
          "2022-01-28T05:00:00+00:00",
          "2022-01-31T05:00:00+00:00",
          "2022-02-01T05:00:00+00:00",
          "2022-02-02T05:00:00+00:00",
          "2022-02-03T05:00:00+00:00",
          "2022-02-04T05:00:00+00:00",
          "2022-02-07T05:00:00+00:00",
          "2022-02-08T05:00:00+00:00",
          "2022-02-09T05:00:00+00:00",
          "2022-02-10T05:00:00+00:00",
          "2022-02-11T05:00:00+00:00",
          "2022-02-14T05:00:00+00:00",
          "2022-02-15T05:00:00+00:00",
          "2022-02-16T05:00:00+00:00",
          "2022-02-17T05:00:00+00:00",
          "2022-02-18T05:00:00+00:00",
          "2022-02-22T05:00:00+00:00",
          "2022-02-23T05:00:00+00:00",
          "2022-02-24T05:00:00+00:00",
          "2022-02-25T05:00:00+00:00",
          "2022-02-28T05:00:00+00:00",
          "2022-03-01T05:00:00+00:00",
          "2022-03-02T05:00:00+00:00",
          "2022-03-03T05:00:00+00:00",
          "2022-03-04T05:00:00+00:00",
          "2022-03-07T05:00:00+00:00",
          "2022-03-08T05:00:00+00:00",
          "2022-03-09T05:00:00+00:00",
          "2022-03-10T05:00:00+00:00",
          "2022-03-11T05:00:00+00:00",
          "2022-03-11T05:01:00+00:00"
         ],
         "xaxis": "x",
         "y": [
          1346.7237548828125,
          1345.8760986328125,
          1345.1693115234375,
          1344.7689208984375,
          1345.3292236328125,
          1345.897705078125,
          1345.823486328125,
          1346.1673583984375,
          1346.1434326171875,
          1346.0264892578125,
          1345.6019287109375,
          1345.4761962890625,
          1346.67236328125,
          1347.99853515625,
          1348.7198486328125,
          1348.939697265625,
          1349.519287109375,
          1349.411376953125,
          1349.7376708984375,
          1349.7998046875,
          1349.9097900390625,
          1349.7640380859375,
          1349.267822265625,
          1348.31494140625,
          1348.40234375,
          1348.75,
          1348.3475341796875,
          1348.14453125,
          1348.056640625,
          1346.781005859375,
          1345.803955078125,
          1345.237060546875,
          1344.8731689453125,
          1344.2362060546875,
          1344.646484375,
          1345.3385009765625,
          1345.979736328125,
          1346.6873779296875,
          1347.3765869140625,
          1347.7879638671875,
          1347.742431640625,
          1346.7930908203125,
          1345.995361328125,
          1346.8773193359375,
          1346.8538818359375,
          1347.1336669921875
         ],
         "yaxis": "y"
        }
       ],
       "layout": {
        "height": 600,
        "legend": {
         "title": {
          "text": "variable"
         },
         "tracegroupgap": 0
        },
        "template": {
         "data": {
          "bar": [
           {
            "error_x": {
             "color": "#2a3f5f"
            },
            "error_y": {
             "color": "#2a3f5f"
            },
            "marker": {
             "line": {
              "color": "#E5ECF6",
              "width": 0.5
             },
             "pattern": {
              "fillmode": "overlay",
              "size": 10,
              "solidity": 0.2
             }
            },
            "type": "bar"
           }
          ],
          "barpolar": [
           {
            "marker": {
             "line": {
              "color": "#E5ECF6",
              "width": 0.5
             },
             "pattern": {
              "fillmode": "overlay",
              "size": 10,
              "solidity": 0.2
             }
            },
            "type": "barpolar"
           }
          ],
          "carpet": [
           {
            "aaxis": {
             "endlinecolor": "#2a3f5f",
             "gridcolor": "white",
             "linecolor": "white",
             "minorgridcolor": "white",
             "startlinecolor": "#2a3f5f"
            },
            "baxis": {
             "endlinecolor": "#2a3f5f",
             "gridcolor": "white",
             "linecolor": "white",
             "minorgridcolor": "white",
             "startlinecolor": "#2a3f5f"
            },
            "type": "carpet"
           }
          ],
          "choropleth": [
           {
            "colorbar": {
             "outlinewidth": 0,
             "ticks": ""
            },
            "type": "choropleth"
           }
          ],
          "contour": [
           {
            "colorbar": {
             "outlinewidth": 0,
             "ticks": ""
            },
            "colorscale": [
             [
              0,
              "#0d0887"
             ],
             [
              0.1111111111111111,
              "#46039f"
             ],
             [
              0.2222222222222222,
              "#7201a8"
             ],
             [
              0.3333333333333333,
              "#9c179e"
             ],
             [
              0.4444444444444444,
              "#bd3786"
             ],
             [
              0.5555555555555556,
              "#d8576b"
             ],
             [
              0.6666666666666666,
              "#ed7953"
             ],
             [
              0.7777777777777778,
              "#fb9f3a"
             ],
             [
              0.8888888888888888,
              "#fdca26"
             ],
             [
              1,
              "#f0f921"
             ]
            ],
            "type": "contour"
           }
          ],
          "contourcarpet": [
           {
            "colorbar": {
             "outlinewidth": 0,
             "ticks": ""
            },
            "type": "contourcarpet"
           }
          ],
          "heatmap": [
           {
            "colorbar": {
             "outlinewidth": 0,
             "ticks": ""
            },
            "colorscale": [
             [
              0,
              "#0d0887"
             ],
             [
              0.1111111111111111,
              "#46039f"
             ],
             [
              0.2222222222222222,
              "#7201a8"
             ],
             [
              0.3333333333333333,
              "#9c179e"
             ],
             [
              0.4444444444444444,
              "#bd3786"
             ],
             [
              0.5555555555555556,
              "#d8576b"
             ],
             [
              0.6666666666666666,
              "#ed7953"
             ],
             [
              0.7777777777777778,
              "#fb9f3a"
             ],
             [
              0.8888888888888888,
              "#fdca26"
             ],
             [
              1,
              "#f0f921"
             ]
            ],
            "type": "heatmap"
           }
          ],
          "heatmapgl": [
           {
            "colorbar": {
             "outlinewidth": 0,
             "ticks": ""
            },
            "colorscale": [
             [
              0,
              "#0d0887"
             ],
             [
              0.1111111111111111,
              "#46039f"
             ],
             [
              0.2222222222222222,
              "#7201a8"
             ],
             [
              0.3333333333333333,
              "#9c179e"
             ],
             [
              0.4444444444444444,
              "#bd3786"
             ],
             [
              0.5555555555555556,
              "#d8576b"
             ],
             [
              0.6666666666666666,
              "#ed7953"
             ],
             [
              0.7777777777777778,
              "#fb9f3a"
             ],
             [
              0.8888888888888888,
              "#fdca26"
             ],
             [
              1,
              "#f0f921"
             ]
            ],
            "type": "heatmapgl"
           }
          ],
          "histogram": [
           {
            "marker": {
             "pattern": {
              "fillmode": "overlay",
              "size": 10,
              "solidity": 0.2
             }
            },
            "type": "histogram"
           }
          ],
          "histogram2d": [
           {
            "colorbar": {
             "outlinewidth": 0,
             "ticks": ""
            },
            "colorscale": [
             [
              0,
              "#0d0887"
             ],
             [
              0.1111111111111111,
              "#46039f"
             ],
             [
              0.2222222222222222,
              "#7201a8"
             ],
             [
              0.3333333333333333,
              "#9c179e"
             ],
             [
              0.4444444444444444,
              "#bd3786"
             ],
             [
              0.5555555555555556,
              "#d8576b"
             ],
             [
              0.6666666666666666,
              "#ed7953"
             ],
             [
              0.7777777777777778,
              "#fb9f3a"
             ],
             [
              0.8888888888888888,
              "#fdca26"
             ],
             [
              1,
              "#f0f921"
             ]
            ],
            "type": "histogram2d"
           }
          ],
          "histogram2dcontour": [
           {
            "colorbar": {
             "outlinewidth": 0,
             "ticks": ""
            },
            "colorscale": [
             [
              0,
              "#0d0887"
             ],
             [
              0.1111111111111111,
              "#46039f"
             ],
             [
              0.2222222222222222,
              "#7201a8"
             ],
             [
              0.3333333333333333,
              "#9c179e"
             ],
             [
              0.4444444444444444,
              "#bd3786"
             ],
             [
              0.5555555555555556,
              "#d8576b"
             ],
             [
              0.6666666666666666,
              "#ed7953"
             ],
             [
              0.7777777777777778,
              "#fb9f3a"
             ],
             [
              0.8888888888888888,
              "#fdca26"
             ],
             [
              1,
              "#f0f921"
             ]
            ],
            "type": "histogram2dcontour"
           }
          ],
          "mesh3d": [
           {
            "colorbar": {
             "outlinewidth": 0,
             "ticks": ""
            },
            "type": "mesh3d"
           }
          ],
          "parcoords": [
           {
            "line": {
             "colorbar": {
              "outlinewidth": 0,
              "ticks": ""
             }
            },
            "type": "parcoords"
           }
          ],
          "pie": [
           {
            "automargin": true,
            "type": "pie"
           }
          ],
          "scatter": [
           {
            "marker": {
             "colorbar": {
              "outlinewidth": 0,
              "ticks": ""
             }
            },
            "type": "scatter"
           }
          ],
          "scatter3d": [
           {
            "line": {
             "colorbar": {
              "outlinewidth": 0,
              "ticks": ""
             }
            },
            "marker": {
             "colorbar": {
              "outlinewidth": 0,
              "ticks": ""
             }
            },
            "type": "scatter3d"
           }
          ],
          "scattercarpet": [
           {
            "marker": {
             "colorbar": {
              "outlinewidth": 0,
              "ticks": ""
             }
            },
            "type": "scattercarpet"
           }
          ],
          "scattergeo": [
           {
            "marker": {
             "colorbar": {
              "outlinewidth": 0,
              "ticks": ""
             }
            },
            "type": "scattergeo"
           }
          ],
          "scattergl": [
           {
            "marker": {
             "colorbar": {
              "outlinewidth": 0,
              "ticks": ""
             }
            },
            "type": "scattergl"
           }
          ],
          "scattermapbox": [
           {
            "marker": {
             "colorbar": {
              "outlinewidth": 0,
              "ticks": ""
             }
            },
            "type": "scattermapbox"
           }
          ],
          "scatterpolar": [
           {
            "marker": {
             "colorbar": {
              "outlinewidth": 0,
              "ticks": ""
             }
            },
            "type": "scatterpolar"
           }
          ],
          "scatterpolargl": [
           {
            "marker": {
             "colorbar": {
              "outlinewidth": 0,
              "ticks": ""
             }
            },
            "type": "scatterpolargl"
           }
          ],
          "scatterternary": [
           {
            "marker": {
             "colorbar": {
              "outlinewidth": 0,
              "ticks": ""
             }
            },
            "type": "scatterternary"
           }
          ],
          "surface": [
           {
            "colorbar": {
             "outlinewidth": 0,
             "ticks": ""
            },
            "colorscale": [
             [
              0,
              "#0d0887"
             ],
             [
              0.1111111111111111,
              "#46039f"
             ],
             [
              0.2222222222222222,
              "#7201a8"
             ],
             [
              0.3333333333333333,
              "#9c179e"
             ],
             [
              0.4444444444444444,
              "#bd3786"
             ],
             [
              0.5555555555555556,
              "#d8576b"
             ],
             [
              0.6666666666666666,
              "#ed7953"
             ],
             [
              0.7777777777777778,
              "#fb9f3a"
             ],
             [
              0.8888888888888888,
              "#fdca26"
             ],
             [
              1,
              "#f0f921"
             ]
            ],
            "type": "surface"
           }
          ],
          "table": [
           {
            "cells": {
             "fill": {
              "color": "#EBF0F8"
             },
             "line": {
              "color": "white"
             }
            },
            "header": {
             "fill": {
              "color": "#C8D4E3"
             },
             "line": {
              "color": "white"
             }
            },
            "type": "table"
           }
          ]
         },
         "layout": {
          "annotationdefaults": {
           "arrowcolor": "#2a3f5f",
           "arrowhead": 0,
           "arrowwidth": 1
          },
          "autotypenumbers": "strict",
          "coloraxis": {
           "colorbar": {
            "outlinewidth": 0,
            "ticks": ""
           }
          },
          "colorscale": {
           "diverging": [
            [
             0,
             "#8e0152"
            ],
            [
             0.1,
             "#c51b7d"
            ],
            [
             0.2,
             "#de77ae"
            ],
            [
             0.3,
             "#f1b6da"
            ],
            [
             0.4,
             "#fde0ef"
            ],
            [
             0.5,
             "#f7f7f7"
            ],
            [
             0.6,
             "#e6f5d0"
            ],
            [
             0.7,
             "#b8e186"
            ],
            [
             0.8,
             "#7fbc41"
            ],
            [
             0.9,
             "#4d9221"
            ],
            [
             1,
             "#276419"
            ]
           ],
           "sequential": [
            [
             0,
             "#0d0887"
            ],
            [
             0.1111111111111111,
             "#46039f"
            ],
            [
             0.2222222222222222,
             "#7201a8"
            ],
            [
             0.3333333333333333,
             "#9c179e"
            ],
            [
             0.4444444444444444,
             "#bd3786"
            ],
            [
             0.5555555555555556,
             "#d8576b"
            ],
            [
             0.6666666666666666,
             "#ed7953"
            ],
            [
             0.7777777777777778,
             "#fb9f3a"
            ],
            [
             0.8888888888888888,
             "#fdca26"
            ],
            [
             1,
             "#f0f921"
            ]
           ],
           "sequentialminus": [
            [
             0,
             "#0d0887"
            ],
            [
             0.1111111111111111,
             "#46039f"
            ],
            [
             0.2222222222222222,
             "#7201a8"
            ],
            [
             0.3333333333333333,
             "#9c179e"
            ],
            [
             0.4444444444444444,
             "#bd3786"
            ],
            [
             0.5555555555555556,
             "#d8576b"
            ],
            [
             0.6666666666666666,
             "#ed7953"
            ],
            [
             0.7777777777777778,
             "#fb9f3a"
            ],
            [
             0.8888888888888888,
             "#fdca26"
            ],
            [
             1,
             "#f0f921"
            ]
           ]
          },
          "colorway": [
           "#636efa",
           "#EF553B",
           "#00cc96",
           "#ab63fa",
           "#FFA15A",
           "#19d3f3",
           "#FF6692",
           "#B6E880",
           "#FF97FF",
           "#FECB52"
          ],
          "font": {
           "color": "#2a3f5f"
          },
          "geo": {
           "bgcolor": "white",
           "lakecolor": "white",
           "landcolor": "#E5ECF6",
           "showlakes": true,
           "showland": true,
           "subunitcolor": "white"
          },
          "hoverlabel": {
           "align": "left"
          },
          "hovermode": "closest",
          "mapbox": {
           "style": "light"
          },
          "paper_bgcolor": "white",
          "plot_bgcolor": "#E5ECF6",
          "polar": {
           "angularaxis": {
            "gridcolor": "white",
            "linecolor": "white",
            "ticks": ""
           },
           "bgcolor": "#E5ECF6",
           "radialaxis": {
            "gridcolor": "white",
            "linecolor": "white",
            "ticks": ""
           }
          },
          "scene": {
           "xaxis": {
            "backgroundcolor": "#E5ECF6",
            "gridcolor": "white",
            "gridwidth": 2,
            "linecolor": "white",
            "showbackground": true,
            "ticks": "",
            "zerolinecolor": "white"
           },
           "yaxis": {
            "backgroundcolor": "#E5ECF6",
            "gridcolor": "white",
            "gridwidth": 2,
            "linecolor": "white",
            "showbackground": true,
            "ticks": "",
            "zerolinecolor": "white"
           },
           "zaxis": {
            "backgroundcolor": "#E5ECF6",
            "gridcolor": "white",
            "gridwidth": 2,
            "linecolor": "white",
            "showbackground": true,
            "ticks": "",
            "zerolinecolor": "white"
           }
          },
          "shapedefaults": {
           "line": {
            "color": "#2a3f5f"
           }
          },
          "ternary": {
           "aaxis": {
            "gridcolor": "white",
            "linecolor": "white",
            "ticks": ""
           },
           "baxis": {
            "gridcolor": "white",
            "linecolor": "white",
            "ticks": ""
           },
           "bgcolor": "#E5ECF6",
           "caxis": {
            "gridcolor": "white",
            "linecolor": "white",
            "ticks": ""
           }
          },
          "title": {
           "x": 0.05
          },
          "xaxis": {
           "automargin": true,
           "gridcolor": "white",
           "linecolor": "white",
           "ticks": "",
           "title": {
            "standoff": 15
           },
           "zerolinecolor": "white",
           "zerolinewidth": 2
          },
          "yaxis": {
           "automargin": true,
           "gridcolor": "white",
           "linecolor": "white",
           "ticks": "",
           "title": {
            "standoff": 15
           },
           "zerolinecolor": "white",
           "zerolinewidth": 2
          }
         }
        },
        "title": {
         "text": "Actual vs Predicted"
        },
        "width": 1500,
        "xaxis": {
         "anchor": "y",
         "autorange": true,
         "domain": [
          0,
          1
         ],
         "range": [
          "2022-01-06 05:00",
          "2022-03-11 05:01"
         ],
         "title": {
          "text": "timestamp"
         },
         "type": "date"
        },
        "yaxis": {
         "anchor": "x",
         "autorange": true,
         "domain": [
          0,
          1
         ],
         "range": [
          468.5633449978299,
          1396.2964450412326
         ],
         "title": {
          "text": "value"
         },
         "type": "linear"
        }
       }
      },
      "image/png": "[encoded data removed]",
      "text/html": [
       "<div>                            <div id=\"01e0c0ab-3d98-417c-bb19-69f2bc3912ae\" class=\"plotly-graph-div\" style=\"height:600px; width:1500px;\"></div>            <script type=\"text/javascript\">                require([\"plotly\"], function(Plotly) {                    window.PLOTLYENV=window.PLOTLYENV || {};                                    if (document.getElementById(\"01e0c0ab-3d98-417c-bb19-69f2bc3912ae\")) {                    Plotly.newPlot(                        \"01e0c0ab-3d98-417c-bb19-69f2bc3912ae\",                        [{\"hovertemplate\":\"variable=Actual<br>timestamp=%{x}<br>value=%{y}<extra></extra>\",\"legendgroup\":\"Actual\",\"line\":{\"color\":\"#636efa\",\"dash\":\"solid\"},\"marker\":{\"symbol\":\"circle\"},\"mode\":\"lines\",\"name\":\"Actual\",\"orientation\":\"v\",\"showlegend\":true,\"x\":[\"2022-01-06T05:00:00+00:00\",\"2022-01-07T05:00:00+00:00\",\"2022-01-10T05:00:00+00:00\",\"2022-01-11T05:00:00+00:00\",\"2022-01-12T05:00:00+00:00\",\"2022-01-13T05:00:00+00:00\",\"2022-01-14T05:00:00+00:00\",\"2022-01-18T05:00:00+00:00\",\"2022-01-19T05:00:00+00:00\",\"2022-01-20T05:00:00+00:00\",\"2022-01-21T05:00:00+00:00\",\"2022-01-24T05:00:00+00:00\",\"2022-01-25T05:00:00+00:00\",\"2022-01-26T05:00:00+00:00\",\"2022-01-27T05:00:00+00:00\",\"2022-01-28T05:00:00+00:00\",\"2022-01-31T05:00:00+00:00\",\"2022-02-01T05:00:00+00:00\",\"2022-02-02T05:00:00+00:00\",\"2022-02-03T05:00:00+00:00\",\"2022-02-04T05:00:00+00:00\",\"2022-02-07T05:00:00+00:00\",\"2022-02-08T05:00:00+00:00\",\"2022-02-09T05:00:00+00:00\",\"2022-02-10T05:00:00+00:00\",\"2022-02-11T05:00:00+00:00\",\"2022-02-14T05:00:00+00:00\",\"2022-02-15T05:00:00+00:00\",\"2022-02-16T05:00:00+00:00\",\"2022-02-17T05:00:00+00:00\",\"2022-02-18T05:00:00+00:00\",\"2022-02-22T05:00:00+00:00\",\"2022-02-23T05:00:00+00:00\",\"2022-02-24T05:00:00+00:00\",\"2022-02-25T05:00:00+00:00\",\"2022-02-28T05:00:00+00:00\",\"2022-03-01T05:00:00+00:00\",\"2022-03-02T05:00:00+00:00\",\"2022-03-03T05:00:00+00:00\",\"2022-03-04T05:00:00+00:00\",\"2022-03-07T05:00:00+00:00\",\"2022-03-08T05:00:00+00:00\",\"2022-03-09T05:00:00+00:00\",\"2022-03-10T05:00:00+00:00\",\"2022-03-11T05:00:00+00:00\",\"2022-03-11T05:01:00+00:00\"],\"xaxis\":\"x\",\"y\":[1168.93,1144.48,1131.17,1157.31,1168.76,1064.36,1102.91,1054.66,1030.95,1023.95,882.1200000000001,938.49,892.39,868.9199999999998,815.7599999999999,872.23,964.2399999999999,984.2,885.8800000000001,809.44,876.0,866.89,878.0,924.9699999999999,893.34,854.0,847.45,889.5,746.85,660.0,656.8799999999999,626.16,626.61,663.9800000000001,676.95,694.26,673.44,659.83,640.75,600.84,560.8,514.95,587.65,553.18,544.37,null],\"yaxis\":\"y\",\"type\":\"scatter\"},{\"hovertemplate\":\"variable=Predicted<br>timestamp=%{x}<br>value=%{y}<extra></extra>\",\"legendgroup\":\"Predicted\",\"line\":{\"color\":\"#EF553B\",\"dash\":\"solid\"},\"marker\":{\"symbol\":\"circle\"},\"mode\":\"lines\",\"name\":\"Predicted\",\"orientation\":\"v\",\"showlegend\":true,\"x\":[\"2022-01-06T05:00:00+00:00\",\"2022-01-07T05:00:00+00:00\",\"2022-01-10T05:00:00+00:00\",\"2022-01-11T05:00:00+00:00\",\"2022-01-12T05:00:00+00:00\",\"2022-01-13T05:00:00+00:00\",\"2022-01-14T05:00:00+00:00\",\"2022-01-18T05:00:00+00:00\",\"2022-01-19T05:00:00+00:00\",\"2022-01-20T05:00:00+00:00\",\"2022-01-21T05:00:00+00:00\",\"2022-01-24T05:00:00+00:00\",\"2022-01-25T05:00:00+00:00\",\"2022-01-26T05:00:00+00:00\",\"2022-01-27T05:00:00+00:00\",\"2022-01-28T05:00:00+00:00\",\"2022-01-31T05:00:00+00:00\",\"2022-02-01T05:00:00+00:00\",\"2022-02-02T05:00:00+00:00\",\"2022-02-03T05:00:00+00:00\",\"2022-02-04T05:00:00+00:00\",\"2022-02-07T05:00:00+00:00\",\"2022-02-08T05:00:00+00:00\",\"2022-02-09T05:00:00+00:00\",\"2022-02-10T05:00:00+00:00\",\"2022-02-11T05:00:00+00:00\",\"2022-02-14T05:00:00+00:00\",\"2022-02-15T05:00:00+00:00\",\"2022-02-16T05:00:00+00:00\",\"2022-02-17T05:00:00+00:00\",\"2022-02-18T05:00:00+00:00\",\"2022-02-22T05:00:00+00:00\",\"2022-02-23T05:00:00+00:00\",\"2022-02-24T05:00:00+00:00\",\"2022-02-25T05:00:00+00:00\",\"2022-02-28T05:00:00+00:00\",\"2022-03-01T05:00:00+00:00\",\"2022-03-02T05:00:00+00:00\",\"2022-03-03T05:00:00+00:00\",\"2022-03-04T05:00:00+00:00\",\"2022-03-07T05:00:00+00:00\",\"2022-03-08T05:00:00+00:00\",\"2022-03-09T05:00:00+00:00\",\"2022-03-10T05:00:00+00:00\",\"2022-03-11T05:00:00+00:00\",\"2022-03-11T05:01:00+00:00\"],\"xaxis\":\"x\",\"y\":[1346.7237548828125,1345.8760986328125,1345.1693115234375,1344.7689208984375,1345.3292236328125,1345.897705078125,1345.823486328125,1346.1673583984375,1346.1434326171875,1346.0264892578125,1345.6019287109375,1345.4761962890625,1346.67236328125,1347.99853515625,1348.7198486328125,1348.939697265625,1349.519287109375,1349.411376953125,1349.7376708984375,1349.7998046875,1349.9097900390625,1349.7640380859375,1349.267822265625,1348.31494140625,1348.40234375,1348.75,1348.3475341796875,1348.14453125,1348.056640625,1346.781005859375,1345.803955078125,1345.237060546875,1344.8731689453125,1344.2362060546875,1344.646484375,1345.3385009765625,1345.979736328125,1346.6873779296875,1347.3765869140625,1347.7879638671875,1347.742431640625,1346.7930908203125,1345.995361328125,1346.8773193359375,1346.8538818359375,1347.1336669921875],\"yaxis\":\"y\",\"type\":\"scatter\"}],                        {\"template\":{\"data\":{\"bar\":[{\"error_x\":{\"color\":\"#2a3f5f\"},\"error_y\":{\"color\":\"#2a3f5f\"},\"marker\":{\"line\":{\"color\":\"#E5ECF6\",\"width\":0.5},\"pattern\":{\"fillmode\":\"overlay\",\"size\":10,\"solidity\":0.2}},\"type\":\"bar\"}],\"barpolar\":[{\"marker\":{\"line\":{\"color\":\"#E5ECF6\",\"width\":0.5},\"pattern\":{\"fillmode\":\"overlay\",\"size\":10,\"solidity\":0.2}},\"type\":\"barpolar\"}],\"carpet\":[{\"aaxis\":{\"endlinecolor\":\"#2a3f5f\",\"gridcolor\":\"white\",\"linecolor\":\"white\",\"minorgridcolor\":\"white\",\"startlinecolor\":\"#2a3f5f\"},\"baxis\":{\"endlinecolor\":\"#2a3f5f\",\"gridcolor\":\"white\",\"linecolor\":\"white\",\"minorgridcolor\":\"white\",\"startlinecolor\":\"#2a3f5f\"},\"type\":\"carpet\"}],\"choropleth\":[{\"colorbar\":{\"outlinewidth\":0,\"ticks\":\"\"},\"type\":\"choropleth\"}],\"contour\":[{\"colorbar\":{\"outlinewidth\":0,\"ticks\":\"\"},\"colorscale\":[[0.0,\"#0d0887\"],[0.1111111111111111,\"#46039f\"],[0.2222222222222222,\"#7201a8\"],[0.3333333333333333,\"#9c179e\"],[0.4444444444444444,\"#bd3786\"],[0.5555555555555556,\"#d8576b\"],[0.6666666666666666,\"#ed7953\"],[0.7777777777777778,\"#fb9f3a\"],[0.8888888888888888,\"#fdca26\"],[1.0,\"#f0f921\"]],\"type\":\"contour\"}],\"contourcarpet\":[{\"colorbar\":{\"outlinewidth\":0,\"ticks\":\"\"},\"type\":\"contourcarpet\"}],\"heatmap\":[{\"colorbar\":{\"outlinewidth\":0,\"ticks\":\"\"},\"colorscale\":[[0.0,\"#0d0887\"],[0.1111111111111111,\"#46039f\"],[0.2222222222222222,\"#7201a8\"],[0.3333333333333333,\"#9c179e\"],[0.4444444444444444,\"#bd3786\"],[0.5555555555555556,\"#d8576b\"],[0.6666666666666666,\"#ed7953\"],[0.7777777777777778,\"#fb9f3a\"],[0.8888888888888888,\"#fdca26\"],[1.0,\"#f0f921\"]],\"type\":\"heatmap\"}],\"heatmapgl\":[{\"colorbar\":{\"outlinewidth\":0,\"ticks\":\"\"},\"colorscale\":[[0.0,\"#0d0887\"],[0.1111111111111111,\"#46039f\"],[0.2222222222222222,\"#7201a8\"],[0.3333333333333333,\"#9c179e\"],[0.4444444444444444,\"#bd3786\"],[0.5555555555555556,\"#d8576b\"],[0.6666666666666666,\"#ed7953\"],[0.7777777777777778,\"#fb9f3a\"],[0.8888888888888888,\"#fdca26\"],[1.0,\"#f0f921\"]],\"type\":\"heatmapgl\"}],\"histogram\":[{\"marker\":{\"pattern\":{\"fillmode\":\"overlay\",\"size\":10,\"solidity\":0.2}},\"type\":\"histogram\"}],\"histogram2d\":[{\"colorbar\":{\"outlinewidth\":0,\"ticks\":\"\"},\"colorscale\":[[0.0,\"#0d0887\"],[0.1111111111111111,\"#46039f\"],[0.2222222222222222,\"#7201a8\"],[0.3333333333333333,\"#9c179e\"],[0.4444444444444444,\"#bd3786\"],[0.5555555555555556,\"#d8576b\"],[0.6666666666666666,\"#ed7953\"],[0.7777777777777778,\"#fb9f3a\"],[0.8888888888888888,\"#fdca26\"],[1.0,\"#f0f921\"]],\"type\":\"histogram2d\"}],\"histogram2dcontour\":[{\"colorbar\":{\"outlinewidth\":0,\"ticks\":\"\"},\"colorscale\":[[0.0,\"#0d0887\"],[0.1111111111111111,\"#46039f\"],[0.2222222222222222,\"#7201a8\"],[0.3333333333333333,\"#9c179e\"],[0.4444444444444444,\"#bd3786\"],[0.5555555555555556,\"#d8576b\"],[0.6666666666666666,\"#ed7953\"],[0.7777777777777778,\"#fb9f3a\"],[0.8888888888888888,\"#fdca26\"],[1.0,\"#f0f921\"]],\"type\":\"histogram2dcontour\"}],\"mesh3d\":[{\"colorbar\":{\"outlinewidth\":0,\"ticks\":\"\"},\"type\":\"mesh3d\"}],\"parcoords\":[{\"line\":{\"colorbar\":{\"outlinewidth\":0,\"ticks\":\"\"}},\"type\":\"parcoords\"}],\"pie\":[{\"automargin\":true,\"type\":\"pie\"}],\"scatter\":[{\"marker\":{\"colorbar\":{\"outlinewidth\":0,\"ticks\":\"\"}},\"type\":\"scatter\"}],\"scatter3d\":[{\"line\":{\"colorbar\":{\"outlinewidth\":0,\"ticks\":\"\"}},\"marker\":{\"colorbar\":{\"outlinewidth\":0,\"ticks\":\"\"}},\"type\":\"scatter3d\"}],\"scattercarpet\":[{\"marker\":{\"colorbar\":{\"outlinewidth\":0,\"ticks\":\"\"}},\"type\":\"scattercarpet\"}],\"scattergeo\":[{\"marker\":{\"colorbar\":{\"outlinewidth\":0,\"ticks\":\"\"}},\"type\":\"scattergeo\"}],\"scattergl\":[{\"marker\":{\"colorbar\":{\"outlinewidth\":0,\"ticks\":\"\"}},\"type\":\"scattergl\"}],\"scattermapbox\":[{\"marker\":{\"colorbar\":{\"outlinewidth\":0,\"ticks\":\"\"}},\"type\":\"scattermapbox\"}],\"scatterpolar\":[{\"marker\":{\"colorbar\":{\"outlinewidth\":0,\"ticks\":\"\"}},\"type\":\"scatterpolar\"}],\"scatterpolargl\":[{\"marker\":{\"colorbar\":{\"outlinewidth\":0,\"ticks\":\"\"}},\"type\":\"scatterpolargl\"}],\"scatterternary\":[{\"marker\":{\"colorbar\":{\"outlinewidth\":0,\"ticks\":\"\"}},\"type\":\"scatterternary\"}],\"surface\":[{\"colorbar\":{\"outlinewidth\":0,\"ticks\":\"\"},\"colorscale\":[[0.0,\"#0d0887\"],[0.1111111111111111,\"#46039f\"],[0.2222222222222222,\"#7201a8\"],[0.3333333333333333,\"#9c179e\"],[0.4444444444444444,\"#bd3786\"],[0.5555555555555556,\"#d8576b\"],[0.6666666666666666,\"#ed7953\"],[0.7777777777777778,\"#fb9f3a\"],[0.8888888888888888,\"#fdca26\"],[1.0,\"#f0f921\"]],\"type\":\"surface\"}],\"table\":[{\"cells\":{\"fill\":{\"color\":\"#EBF0F8\"},\"line\":{\"color\":\"white\"}},\"header\":{\"fill\":{\"color\":\"#C8D4E3\"},\"line\":{\"color\":\"white\"}},\"type\":\"table\"}]},\"layout\":{\"annotationdefaults\":{\"arrowcolor\":\"#2a3f5f\",\"arrowhead\":0,\"arrowwidth\":1},\"autotypenumbers\":\"strict\",\"coloraxis\":{\"colorbar\":{\"outlinewidth\":0,\"ticks\":\"\"}},\"colorscale\":{\"diverging\":[[0,\"#8e0152\"],[0.1,\"#c51b7d\"],[0.2,\"#de77ae\"],[0.3,\"#f1b6da\"],[0.4,\"#fde0ef\"],[0.5,\"#f7f7f7\"],[0.6,\"#e6f5d0\"],[0.7,\"#b8e186\"],[0.8,\"#7fbc41\"],[0.9,\"#4d9221\"],[1,\"#276419\"]],\"sequential\":[[0.0,\"#0d0887\"],[0.1111111111111111,\"#46039f\"],[0.2222222222222222,\"#7201a8\"],[0.3333333333333333,\"#9c179e\"],[0.4444444444444444,\"#bd3786\"],[0.5555555555555556,\"#d8576b\"],[0.6666666666666666,\"#ed7953\"],[0.7777777777777778,\"#fb9f3a\"],[0.8888888888888888,\"#fdca26\"],[1.0,\"#f0f921\"]],\"sequentialminus\":[[0.0,\"#0d0887\"],[0.1111111111111111,\"#46039f\"],[0.2222222222222222,\"#7201a8\"],[0.3333333333333333,\"#9c179e\"],[0.4444444444444444,\"#bd3786\"],[0.5555555555555556,\"#d8576b\"],[0.6666666666666666,\"#ed7953\"],[0.7777777777777778,\"#fb9f3a\"],[0.8888888888888888,\"#fdca26\"],[1.0,\"#f0f921\"]]},\"colorway\":[\"#636efa\",\"#EF553B\",\"#00cc96\",\"#ab63fa\",\"#FFA15A\",\"#19d3f3\",\"#FF6692\",\"#B6E880\",\"#FF97FF\",\"#FECB52\"],\"font\":{\"color\":\"#2a3f5f\"},\"geo\":{\"bgcolor\":\"white\",\"lakecolor\":\"white\",\"landcolor\":\"#E5ECF6\",\"showlakes\":true,\"showland\":true,\"subunitcolor\":\"white\"},\"hoverlabel\":{\"align\":\"left\"},\"hovermode\":\"closest\",\"mapbox\":{\"style\":\"light\"},\"paper_bgcolor\":\"white\",\"plot_bgcolor\":\"#E5ECF6\",\"polar\":{\"angularaxis\":{\"gridcolor\":\"white\",\"linecolor\":\"white\",\"ticks\":\"\"},\"bgcolor\":\"#E5ECF6\",\"radialaxis\":{\"gridcolor\":\"white\",\"linecolor\":\"white\",\"ticks\":\"\"}},\"scene\":{\"xaxis\":{\"backgroundcolor\":\"#E5ECF6\",\"gridcolor\":\"white\",\"gridwidth\":2,\"linecolor\":\"white\",\"showbackground\":true,\"ticks\":\"\",\"zerolinecolor\":\"white\"},\"yaxis\":{\"backgroundcolor\":\"#E5ECF6\",\"gridcolor\":\"white\",\"gridwidth\":2,\"linecolor\":\"white\",\"showbackground\":true,\"ticks\":\"\",\"zerolinecolor\":\"white\"},\"zaxis\":{\"backgroundcolor\":\"#E5ECF6\",\"gridcolor\":\"white\",\"gridwidth\":2,\"linecolor\":\"white\",\"showbackground\":true,\"ticks\":\"\",\"zerolinecolor\":\"white\"}},\"shapedefaults\":{\"line\":{\"color\":\"#2a3f5f\"}},\"ternary\":{\"aaxis\":{\"gridcolor\":\"white\",\"linecolor\":\"white\",\"ticks\":\"\"},\"baxis\":{\"gridcolor\":\"white\",\"linecolor\":\"white\",\"ticks\":\"\"},\"bgcolor\":\"#E5ECF6\",\"caxis\":{\"gridcolor\":\"white\",\"linecolor\":\"white\",\"ticks\":\"\"}},\"title\":{\"x\":0.05},\"xaxis\":{\"automargin\":true,\"gridcolor\":\"white\",\"linecolor\":\"white\",\"ticks\":\"\",\"title\":{\"standoff\":15},\"zerolinecolor\":\"white\",\"zerolinewidth\":2},\"yaxis\":{\"automargin\":true,\"gridcolor\":\"white\",\"linecolor\":\"white\",\"ticks\":\"\",\"title\":{\"standoff\":15},\"zerolinecolor\":\"white\",\"zerolinewidth\":2}}},\"xaxis\":{\"anchor\":\"y\",\"domain\":[0.0,1.0],\"title\":{\"text\":\"timestamp\"}},\"yaxis\":{\"anchor\":\"x\",\"domain\":[0.0,1.0],\"title\":{\"text\":\"value\"}},\"legend\":{\"title\":{\"text\":\"variable\"},\"tracegroupgap\":0},\"title\":{\"text\":\"Actual vs Predicted\"},\"height\":600,\"width\":1500},                        {\"responsive\": true}                    ).then(function(){\n",
       "                            \n",
       "var gd = document.getElementById('01e0c0ab-3d98-417c-bb19-69f2bc3912ae');\n",
       "var x = new MutationObserver(function (mutations, observer) {{\n",
       "        var display = window.getComputedStyle(gd).display;\n",
       "        if (!display || display === 'none') {{\n",
       "            console.log([gd, 'removed!']);\n",
       "            Plotly.purge(gd);\n",
       "            observer.disconnect();\n",
       "        }}\n",
       "}});\n",
       "\n",
       "// Listen for the removal of the full notebook cells\n",
       "var notebookContainer = gd.closest('#notebook-container');\n",
       "if (notebookContainer) {{\n",
       "    x.observe(notebookContainer, {childList: true});\n",
       "}}\n",
       "\n",
       "// Listen for the clearing of the current output cell\n",
       "var outputEl = gd.closest('.output');\n",
       "if (outputEl) {{\n",
       "    x.observe(outputEl, {childList: true});\n",
       "}}\n",
       "\n",
       "                        })                };                });            </script>        </div>"
      ]
     },
     "metadata": {},
     "output_type": "display_data"
    }
   ],
   "source": [
    "# Plot the real vs predicted prices as a line chart\n",
    "price_fig = px.line(prices, y = ['Actual', 'Predicted'],  title = \"Actual vs Predicted\", width= 1500, height = 600)\n",
    "price_fig.show()"
   ]
  },
  {
   "cell_type": "code",
   "execution_count": 84,
   "id": "765d42cf-0aa5-419f-93c0-71fbaac83daf",
   "metadata": {},
   "outputs": [
    {
     "data": {
      "application/vnd.plotly.v1+json": {
       "config": {
        "plotlyServerURL": "https://plot.ly"
       },
       "data": [
        {
         "hovertemplate": "variable=strategy_returns<br>x=%{x}<br>value=%{y}<extra></extra>",
         "legendgroup": "strategy_returns",
         "line": {
          "color": "#636efa",
          "dash": "solid"
         },
         "marker": {
          "symbol": "circle"
         },
         "mode": "lines",
         "name": "strategy_returns",
         "orientation": "v",
         "showlegend": true,
         "type": "scatter",
         "x": [
          "2022-01-06T05:00:00",
          "2022-01-07T05:00:00",
          "2022-01-10T05:00:00",
          "2022-01-11T05:00:00",
          "2022-01-12T05:00:00",
          "2022-01-13T05:00:00",
          "2022-01-14T05:00:00",
          "2022-01-18T05:00:00",
          "2022-01-19T05:00:00",
          "2022-01-20T05:00:00",
          "2022-01-21T05:00:00",
          "2022-01-24T05:00:00",
          "2022-01-25T05:00:00",
          "2022-01-26T05:00:00",
          "2022-01-27T05:00:00",
          "2022-01-28T05:00:00",
          "2022-01-31T05:00:00",
          "2022-02-01T05:00:00",
          "2022-02-02T05:00:00",
          "2022-02-03T05:00:00",
          "2022-02-04T05:00:00",
          "2022-02-07T05:00:00",
          "2022-02-08T05:00:00",
          "2022-02-09T05:00:00",
          "2022-02-10T05:00:00",
          "2022-02-11T05:00:00",
          "2022-02-14T05:00:00",
          "2022-02-15T05:00:00",
          "2022-02-16T05:00:00",
          "2022-02-17T05:00:00",
          "2022-02-18T05:00:00",
          "2022-02-22T05:00:00",
          "2022-02-23T05:00:00",
          "2022-02-24T05:00:00",
          "2022-02-25T05:00:00",
          "2022-02-28T05:00:00",
          "2022-03-01T05:00:00",
          "2022-03-02T05:00:00",
          "2022-03-03T05:00:00",
          "2022-03-04T05:00:00",
          "2022-03-07T05:00:00",
          "2022-03-08T05:00:00",
          "2022-03-09T05:00:00",
          "2022-03-10T05:00:00",
          "2022-03-11T05:00:00",
          "2022-03-11T05:01:00"
         ],
         "xaxis": "x",
         "y": [
          null,
          0.979083435278417,
          0.9676969536242547,
          0.9900592849871249,
          0.9998545678526515,
          0.9105421197163216,
          0.9435209978356275,
          0.9022439324852644,
          0.8819604253462568,
          0.8759720428083804,
          0.7546388577588051,
          0.802862446853105,
          0.7634246704250897,
          0.7433464792588093,
          0.6978689912997357,
          0.7461781287160054,
          0.8248911397602937,
          0.8419665848254388,
          0.7578554746648647,
          0.6924623373512531,
          0.7494033004542618,
          0.7416098483228254,
          0.7511142668936551,
          0.7912963137228065,
          0.7642373794838018,
          0.7305826696209357,
          0.7249792545319227,
          0.7609523239201665,
          0.63891764263044,
          0.5646189249997863,
          0.5619498173543326,
          0.5356693728452517,
          0.5360543402941154,
          0.5680237482141791,
          0.5791193655736445,
          0.5939277801065934,
          0.5761166194725094,
          0.564473492852438,
          0.5481508730206259,
          0.5140085377225329,
          0.4797549896058791,
          0.4405310839827879,
          0.5027247140547341,
          0.4732362074717906,
          0.4656994003062632,
          0.4656994003062632
         ],
         "yaxis": "y"
        },
        {
         "hovertemplate": "variable=actual_returns<br>x=%{x}<br>value=%{y}<extra></extra>",
         "legendgroup": "actual_returns",
         "line": {
          "color": "#EF553B",
          "dash": "solid"
         },
         "marker": {
          "symbol": "circle"
         },
         "mode": "lines",
         "name": "actual_returns",
         "orientation": "v",
         "showlegend": true,
         "type": "scatter",
         "x": [
          "2022-01-06T05:00:00",
          "2022-01-07T05:00:00",
          "2022-01-10T05:00:00",
          "2022-01-11T05:00:00",
          "2022-01-12T05:00:00",
          "2022-01-13T05:00:00",
          "2022-01-14T05:00:00",
          "2022-01-18T05:00:00",
          "2022-01-19T05:00:00",
          "2022-01-20T05:00:00",
          "2022-01-21T05:00:00",
          "2022-01-24T05:00:00",
          "2022-01-25T05:00:00",
          "2022-01-26T05:00:00",
          "2022-01-27T05:00:00",
          "2022-01-28T05:00:00",
          "2022-01-31T05:00:00",
          "2022-02-01T05:00:00",
          "2022-02-02T05:00:00",
          "2022-02-03T05:00:00",
          "2022-02-04T05:00:00",
          "2022-02-07T05:00:00",
          "2022-02-08T05:00:00",
          "2022-02-09T05:00:00",
          "2022-02-10T05:00:00",
          "2022-02-11T05:00:00",
          "2022-02-14T05:00:00",
          "2022-02-15T05:00:00",
          "2022-02-16T05:00:00",
          "2022-02-17T05:00:00",
          "2022-02-18T05:00:00",
          "2022-02-22T05:00:00",
          "2022-02-23T05:00:00",
          "2022-02-24T05:00:00",
          "2022-02-25T05:00:00",
          "2022-02-28T05:00:00",
          "2022-03-01T05:00:00",
          "2022-03-02T05:00:00",
          "2022-03-03T05:00:00",
          "2022-03-04T05:00:00",
          "2022-03-07T05:00:00",
          "2022-03-08T05:00:00",
          "2022-03-09T05:00:00",
          "2022-03-10T05:00:00",
          "2022-03-11T05:00:00",
          "2022-03-11T05:01:00"
         ],
         "xaxis": "x",
         "y": [
          null,
          0.979083435278417,
          0.9676969536242547,
          0.9900592849871249,
          0.9998545678526515,
          0.9105421197163216,
          0.9435209978356275,
          0.9022439324852644,
          0.8819604253462568,
          0.8759720428083804,
          0.7546388577588051,
          0.802862446853105,
          0.7634246704250897,
          0.7433464792588093,
          0.6978689912997357,
          0.7461781287160054,
          0.8248911397602937,
          0.8419665848254388,
          0.7578554746648647,
          0.6924623373512531,
          0.7494033004542618,
          0.7416098483228254,
          0.7511142668936551,
          0.7912963137228065,
          0.7642373794838018,
          0.7305826696209357,
          0.7249792545319227,
          0.7609523239201665,
          0.63891764263044,
          0.5646189249997863,
          0.5619498173543326,
          0.5356693728452517,
          0.5360543402941154,
          0.5680237482141791,
          0.5791193655736445,
          0.5939277801065934,
          0.5761166194725094,
          0.564473492852438,
          0.5481508730206259,
          0.5140085377225329,
          0.4797549896058791,
          0.4405310839827879,
          0.5027247140547341,
          0.4732362074717906,
          0.4656994003062632,
          0.4656994003062632
         ],
         "yaxis": "y"
        }
       ],
       "layout": {
        "height": 600,
        "legend": {
         "title": {
          "text": "variable"
         },
         "tracegroupgap": 0
        },
        "template": {
         "data": {
          "bar": [
           {
            "error_x": {
             "color": "#2a3f5f"
            },
            "error_y": {
             "color": "#2a3f5f"
            },
            "marker": {
             "line": {
              "color": "#E5ECF6",
              "width": 0.5
             },
             "pattern": {
              "fillmode": "overlay",
              "size": 10,
              "solidity": 0.2
             }
            },
            "type": "bar"
           }
          ],
          "barpolar": [
           {
            "marker": {
             "line": {
              "color": "#E5ECF6",
              "width": 0.5
             },
             "pattern": {
              "fillmode": "overlay",
              "size": 10,
              "solidity": 0.2
             }
            },
            "type": "barpolar"
           }
          ],
          "carpet": [
           {
            "aaxis": {
             "endlinecolor": "#2a3f5f",
             "gridcolor": "white",
             "linecolor": "white",
             "minorgridcolor": "white",
             "startlinecolor": "#2a3f5f"
            },
            "baxis": {
             "endlinecolor": "#2a3f5f",
             "gridcolor": "white",
             "linecolor": "white",
             "minorgridcolor": "white",
             "startlinecolor": "#2a3f5f"
            },
            "type": "carpet"
           }
          ],
          "choropleth": [
           {
            "colorbar": {
             "outlinewidth": 0,
             "ticks": ""
            },
            "type": "choropleth"
           }
          ],
          "contour": [
           {
            "colorbar": {
             "outlinewidth": 0,
             "ticks": ""
            },
            "colorscale": [
             [
              0,
              "#0d0887"
             ],
             [
              0.1111111111111111,
              "#46039f"
             ],
             [
              0.2222222222222222,
              "#7201a8"
             ],
             [
              0.3333333333333333,
              "#9c179e"
             ],
             [
              0.4444444444444444,
              "#bd3786"
             ],
             [
              0.5555555555555556,
              "#d8576b"
             ],
             [
              0.6666666666666666,
              "#ed7953"
             ],
             [
              0.7777777777777778,
              "#fb9f3a"
             ],
             [
              0.8888888888888888,
              "#fdca26"
             ],
             [
              1,
              "#f0f921"
             ]
            ],
            "type": "contour"
           }
          ],
          "contourcarpet": [
           {
            "colorbar": {
             "outlinewidth": 0,
             "ticks": ""
            },
            "type": "contourcarpet"
           }
          ],
          "heatmap": [
           {
            "colorbar": {
             "outlinewidth": 0,
             "ticks": ""
            },
            "colorscale": [
             [
              0,
              "#0d0887"
             ],
             [
              0.1111111111111111,
              "#46039f"
             ],
             [
              0.2222222222222222,
              "#7201a8"
             ],
             [
              0.3333333333333333,
              "#9c179e"
             ],
             [
              0.4444444444444444,
              "#bd3786"
             ],
             [
              0.5555555555555556,
              "#d8576b"
             ],
             [
              0.6666666666666666,
              "#ed7953"
             ],
             [
              0.7777777777777778,
              "#fb9f3a"
             ],
             [
              0.8888888888888888,
              "#fdca26"
             ],
             [
              1,
              "#f0f921"
             ]
            ],
            "type": "heatmap"
           }
          ],
          "heatmapgl": [
           {
            "colorbar": {
             "outlinewidth": 0,
             "ticks": ""
            },
            "colorscale": [
             [
              0,
              "#0d0887"
             ],
             [
              0.1111111111111111,
              "#46039f"
             ],
             [
              0.2222222222222222,
              "#7201a8"
             ],
             [
              0.3333333333333333,
              "#9c179e"
             ],
             [
              0.4444444444444444,
              "#bd3786"
             ],
             [
              0.5555555555555556,
              "#d8576b"
             ],
             [
              0.6666666666666666,
              "#ed7953"
             ],
             [
              0.7777777777777778,
              "#fb9f3a"
             ],
             [
              0.8888888888888888,
              "#fdca26"
             ],
             [
              1,
              "#f0f921"
             ]
            ],
            "type": "heatmapgl"
           }
          ],
          "histogram": [
           {
            "marker": {
             "pattern": {
              "fillmode": "overlay",
              "size": 10,
              "solidity": 0.2
             }
            },
            "type": "histogram"
           }
          ],
          "histogram2d": [
           {
            "colorbar": {
             "outlinewidth": 0,
             "ticks": ""
            },
            "colorscale": [
             [
              0,
              "#0d0887"
             ],
             [
              0.1111111111111111,
              "#46039f"
             ],
             [
              0.2222222222222222,
              "#7201a8"
             ],
             [
              0.3333333333333333,
              "#9c179e"
             ],
             [
              0.4444444444444444,
              "#bd3786"
             ],
             [
              0.5555555555555556,
              "#d8576b"
             ],
             [
              0.6666666666666666,
              "#ed7953"
             ],
             [
              0.7777777777777778,
              "#fb9f3a"
             ],
             [
              0.8888888888888888,
              "#fdca26"
             ],
             [
              1,
              "#f0f921"
             ]
            ],
            "type": "histogram2d"
           }
          ],
          "histogram2dcontour": [
           {
            "colorbar": {
             "outlinewidth": 0,
             "ticks": ""
            },
            "colorscale": [
             [
              0,
              "#0d0887"
             ],
             [
              0.1111111111111111,
              "#46039f"
             ],
             [
              0.2222222222222222,
              "#7201a8"
             ],
             [
              0.3333333333333333,
              "#9c179e"
             ],
             [
              0.4444444444444444,
              "#bd3786"
             ],
             [
              0.5555555555555556,
              "#d8576b"
             ],
             [
              0.6666666666666666,
              "#ed7953"
             ],
             [
              0.7777777777777778,
              "#fb9f3a"
             ],
             [
              0.8888888888888888,
              "#fdca26"
             ],
             [
              1,
              "#f0f921"
             ]
            ],
            "type": "histogram2dcontour"
           }
          ],
          "mesh3d": [
           {
            "colorbar": {
             "outlinewidth": 0,
             "ticks": ""
            },
            "type": "mesh3d"
           }
          ],
          "parcoords": [
           {
            "line": {
             "colorbar": {
              "outlinewidth": 0,
              "ticks": ""
             }
            },
            "type": "parcoords"
           }
          ],
          "pie": [
           {
            "automargin": true,
            "type": "pie"
           }
          ],
          "scatter": [
           {
            "marker": {
             "colorbar": {
              "outlinewidth": 0,
              "ticks": ""
             }
            },
            "type": "scatter"
           }
          ],
          "scatter3d": [
           {
            "line": {
             "colorbar": {
              "outlinewidth": 0,
              "ticks": ""
             }
            },
            "marker": {
             "colorbar": {
              "outlinewidth": 0,
              "ticks": ""
             }
            },
            "type": "scatter3d"
           }
          ],
          "scattercarpet": [
           {
            "marker": {
             "colorbar": {
              "outlinewidth": 0,
              "ticks": ""
             }
            },
            "type": "scattercarpet"
           }
          ],
          "scattergeo": [
           {
            "marker": {
             "colorbar": {
              "outlinewidth": 0,
              "ticks": ""
             }
            },
            "type": "scattergeo"
           }
          ],
          "scattergl": [
           {
            "marker": {
             "colorbar": {
              "outlinewidth": 0,
              "ticks": ""
             }
            },
            "type": "scattergl"
           }
          ],
          "scattermapbox": [
           {
            "marker": {
             "colorbar": {
              "outlinewidth": 0,
              "ticks": ""
             }
            },
            "type": "scattermapbox"
           }
          ],
          "scatterpolar": [
           {
            "marker": {
             "colorbar": {
              "outlinewidth": 0,
              "ticks": ""
             }
            },
            "type": "scatterpolar"
           }
          ],
          "scatterpolargl": [
           {
            "marker": {
             "colorbar": {
              "outlinewidth": 0,
              "ticks": ""
             }
            },
            "type": "scatterpolargl"
           }
          ],
          "scatterternary": [
           {
            "marker": {
             "colorbar": {
              "outlinewidth": 0,
              "ticks": ""
             }
            },
            "type": "scatterternary"
           }
          ],
          "surface": [
           {
            "colorbar": {
             "outlinewidth": 0,
             "ticks": ""
            },
            "colorscale": [
             [
              0,
              "#0d0887"
             ],
             [
              0.1111111111111111,
              "#46039f"
             ],
             [
              0.2222222222222222,
              "#7201a8"
             ],
             [
              0.3333333333333333,
              "#9c179e"
             ],
             [
              0.4444444444444444,
              "#bd3786"
             ],
             [
              0.5555555555555556,
              "#d8576b"
             ],
             [
              0.6666666666666666,
              "#ed7953"
             ],
             [
              0.7777777777777778,
              "#fb9f3a"
             ],
             [
              0.8888888888888888,
              "#fdca26"
             ],
             [
              1,
              "#f0f921"
             ]
            ],
            "type": "surface"
           }
          ],
          "table": [
           {
            "cells": {
             "fill": {
              "color": "#EBF0F8"
             },
             "line": {
              "color": "white"
             }
            },
            "header": {
             "fill": {
              "color": "#C8D4E3"
             },
             "line": {
              "color": "white"
             }
            },
            "type": "table"
           }
          ]
         },
         "layout": {
          "annotationdefaults": {
           "arrowcolor": "#2a3f5f",
           "arrowhead": 0,
           "arrowwidth": 1
          },
          "autotypenumbers": "strict",
          "coloraxis": {
           "colorbar": {
            "outlinewidth": 0,
            "ticks": ""
           }
          },
          "colorscale": {
           "diverging": [
            [
             0,
             "#8e0152"
            ],
            [
             0.1,
             "#c51b7d"
            ],
            [
             0.2,
             "#de77ae"
            ],
            [
             0.3,
             "#f1b6da"
            ],
            [
             0.4,
             "#fde0ef"
            ],
            [
             0.5,
             "#f7f7f7"
            ],
            [
             0.6,
             "#e6f5d0"
            ],
            [
             0.7,
             "#b8e186"
            ],
            [
             0.8,
             "#7fbc41"
            ],
            [
             0.9,
             "#4d9221"
            ],
            [
             1,
             "#276419"
            ]
           ],
           "sequential": [
            [
             0,
             "#0d0887"
            ],
            [
             0.1111111111111111,
             "#46039f"
            ],
            [
             0.2222222222222222,
             "#7201a8"
            ],
            [
             0.3333333333333333,
             "#9c179e"
            ],
            [
             0.4444444444444444,
             "#bd3786"
            ],
            [
             0.5555555555555556,
             "#d8576b"
            ],
            [
             0.6666666666666666,
             "#ed7953"
            ],
            [
             0.7777777777777778,
             "#fb9f3a"
            ],
            [
             0.8888888888888888,
             "#fdca26"
            ],
            [
             1,
             "#f0f921"
            ]
           ],
           "sequentialminus": [
            [
             0,
             "#0d0887"
            ],
            [
             0.1111111111111111,
             "#46039f"
            ],
            [
             0.2222222222222222,
             "#7201a8"
            ],
            [
             0.3333333333333333,
             "#9c179e"
            ],
            [
             0.4444444444444444,
             "#bd3786"
            ],
            [
             0.5555555555555556,
             "#d8576b"
            ],
            [
             0.6666666666666666,
             "#ed7953"
            ],
            [
             0.7777777777777778,
             "#fb9f3a"
            ],
            [
             0.8888888888888888,
             "#fdca26"
            ],
            [
             1,
             "#f0f921"
            ]
           ]
          },
          "colorway": [
           "#636efa",
           "#EF553B",
           "#00cc96",
           "#ab63fa",
           "#FFA15A",
           "#19d3f3",
           "#FF6692",
           "#B6E880",
           "#FF97FF",
           "#FECB52"
          ],
          "font": {
           "color": "#2a3f5f"
          },
          "geo": {
           "bgcolor": "white",
           "lakecolor": "white",
           "landcolor": "#E5ECF6",
           "showlakes": true,
           "showland": true,
           "subunitcolor": "white"
          },
          "hoverlabel": {
           "align": "left"
          },
          "hovermode": "closest",
          "mapbox": {
           "style": "light"
          },
          "paper_bgcolor": "white",
          "plot_bgcolor": "#E5ECF6",
          "polar": {
           "angularaxis": {
            "gridcolor": "white",
            "linecolor": "white",
            "ticks": ""
           },
           "bgcolor": "#E5ECF6",
           "radialaxis": {
            "gridcolor": "white",
            "linecolor": "white",
            "ticks": ""
           }
          },
          "scene": {
           "xaxis": {
            "backgroundcolor": "#E5ECF6",
            "gridcolor": "white",
            "gridwidth": 2,
            "linecolor": "white",
            "showbackground": true,
            "ticks": "",
            "zerolinecolor": "white"
           },
           "yaxis": {
            "backgroundcolor": "#E5ECF6",
            "gridcolor": "white",
            "gridwidth": 2,
            "linecolor": "white",
            "showbackground": true,
            "ticks": "",
            "zerolinecolor": "white"
           },
           "zaxis": {
            "backgroundcolor": "#E5ECF6",
            "gridcolor": "white",
            "gridwidth": 2,
            "linecolor": "white",
            "showbackground": true,
            "ticks": "",
            "zerolinecolor": "white"
           }
          },
          "shapedefaults": {
           "line": {
            "color": "#2a3f5f"
           }
          },
          "ternary": {
           "aaxis": {
            "gridcolor": "white",
            "linecolor": "white",
            "ticks": ""
           },
           "baxis": {
            "gridcolor": "white",
            "linecolor": "white",
            "ticks": ""
           },
           "bgcolor": "#E5ECF6",
           "caxis": {
            "gridcolor": "white",
            "linecolor": "white",
            "ticks": ""
           }
          },
          "title": {
           "x": 0.05
          },
          "xaxis": {
           "automargin": true,
           "gridcolor": "white",
           "linecolor": "white",
           "ticks": "",
           "title": {
            "standoff": 15
           },
           "zerolinecolor": "white",
           "zerolinewidth": 2
          },
          "yaxis": {
           "automargin": true,
           "gridcolor": "white",
           "linecolor": "white",
           "ticks": "",
           "title": {
            "standoff": 15
           },
           "zerolinecolor": "white",
           "zerolinewidth": 2
          }
         }
        },
        "title": {
         "text": "Strategy  vs Actual Returns"
        },
        "width": 1500,
        "xaxis": {
         "anchor": "y",
         "autorange": true,
         "domain": [
          0,
          1
         ],
         "range": [
          "2022-01-06 05:00",
          "2022-03-11 05:01"
         ],
         "title": {
          "text": "x"
         },
         "type": "date"
        },
        "yaxis": {
         "anchor": "x",
         "autorange": true,
         "domain": [
          0,
          1
         ],
         "range": [
          0.4094575571011288,
          1.0309280947343105
         ],
         "title": {
          "text": "value"
         },
         "type": "linear"
        }
       }
      },
      "image/png": "[encoded data removed]",
      "text/html": [
       "<div>                            <div id=\"ea04f1f1-a7f7-4886-bca1-9df10994d2b7\" class=\"plotly-graph-div\" style=\"height:600px; width:1500px;\"></div>            <script type=\"text/javascript\">                require([\"plotly\"], function(Plotly) {                    window.PLOTLYENV=window.PLOTLYENV || {};                                    if (document.getElementById(\"ea04f1f1-a7f7-4886-bca1-9df10994d2b7\")) {                    Plotly.newPlot(                        \"ea04f1f1-a7f7-4886-bca1-9df10994d2b7\",                        [{\"hovertemplate\":\"variable=strategy_returns<br>x=%{x}<br>value=%{y}<extra></extra>\",\"legendgroup\":\"strategy_returns\",\"line\":{\"color\":\"#636efa\",\"dash\":\"solid\"},\"marker\":{\"symbol\":\"circle\"},\"mode\":\"lines\",\"name\":\"strategy_returns\",\"orientation\":\"v\",\"showlegend\":true,\"x\":[\"2022-01-06T05:00:00\",\"2022-01-07T05:00:00\",\"2022-01-10T05:00:00\",\"2022-01-11T05:00:00\",\"2022-01-12T05:00:00\",\"2022-01-13T05:00:00\",\"2022-01-14T05:00:00\",\"2022-01-18T05:00:00\",\"2022-01-19T05:00:00\",\"2022-01-20T05:00:00\",\"2022-01-21T05:00:00\",\"2022-01-24T05:00:00\",\"2022-01-25T05:00:00\",\"2022-01-26T05:00:00\",\"2022-01-27T05:00:00\",\"2022-01-28T05:00:00\",\"2022-01-31T05:00:00\",\"2022-02-01T05:00:00\",\"2022-02-02T05:00:00\",\"2022-02-03T05:00:00\",\"2022-02-04T05:00:00\",\"2022-02-07T05:00:00\",\"2022-02-08T05:00:00\",\"2022-02-09T05:00:00\",\"2022-02-10T05:00:00\",\"2022-02-11T05:00:00\",\"2022-02-14T05:00:00\",\"2022-02-15T05:00:00\",\"2022-02-16T05:00:00\",\"2022-02-17T05:00:00\",\"2022-02-18T05:00:00\",\"2022-02-22T05:00:00\",\"2022-02-23T05:00:00\",\"2022-02-24T05:00:00\",\"2022-02-25T05:00:00\",\"2022-02-28T05:00:00\",\"2022-03-01T05:00:00\",\"2022-03-02T05:00:00\",\"2022-03-03T05:00:00\",\"2022-03-04T05:00:00\",\"2022-03-07T05:00:00\",\"2022-03-08T05:00:00\",\"2022-03-09T05:00:00\",\"2022-03-10T05:00:00\",\"2022-03-11T05:00:00\",\"2022-03-11T05:01:00\"],\"xaxis\":\"x\",\"y\":[null,0.979083435278417,0.9676969536242547,0.9900592849871249,0.9998545678526515,0.9105421197163216,0.9435209978356275,0.9022439324852644,0.8819604253462568,0.8759720428083804,0.7546388577588051,0.802862446853105,0.7634246704250897,0.7433464792588093,0.6978689912997357,0.7461781287160054,0.8248911397602937,0.8419665848254388,0.7578554746648647,0.6924623373512531,0.7494033004542618,0.7416098483228254,0.7511142668936551,0.7912963137228065,0.7642373794838018,0.7305826696209357,0.7249792545319227,0.7609523239201665,0.63891764263044,0.5646189249997863,0.5619498173543326,0.5356693728452517,0.5360543402941154,0.5680237482141791,0.5791193655736445,0.5939277801065934,0.5761166194725094,0.564473492852438,0.5481508730206259,0.5140085377225329,0.4797549896058791,0.4405310839827879,0.5027247140547341,0.4732362074717906,0.4656994003062632,0.4656994003062632],\"yaxis\":\"y\",\"type\":\"scatter\"},{\"hovertemplate\":\"variable=actual_returns<br>x=%{x}<br>value=%{y}<extra></extra>\",\"legendgroup\":\"actual_returns\",\"line\":{\"color\":\"#EF553B\",\"dash\":\"solid\"},\"marker\":{\"symbol\":\"circle\"},\"mode\":\"lines\",\"name\":\"actual_returns\",\"orientation\":\"v\",\"showlegend\":true,\"x\":[\"2022-01-06T05:00:00\",\"2022-01-07T05:00:00\",\"2022-01-10T05:00:00\",\"2022-01-11T05:00:00\",\"2022-01-12T05:00:00\",\"2022-01-13T05:00:00\",\"2022-01-14T05:00:00\",\"2022-01-18T05:00:00\",\"2022-01-19T05:00:00\",\"2022-01-20T05:00:00\",\"2022-01-21T05:00:00\",\"2022-01-24T05:00:00\",\"2022-01-25T05:00:00\",\"2022-01-26T05:00:00\",\"2022-01-27T05:00:00\",\"2022-01-28T05:00:00\",\"2022-01-31T05:00:00\",\"2022-02-01T05:00:00\",\"2022-02-02T05:00:00\",\"2022-02-03T05:00:00\",\"2022-02-04T05:00:00\",\"2022-02-07T05:00:00\",\"2022-02-08T05:00:00\",\"2022-02-09T05:00:00\",\"2022-02-10T05:00:00\",\"2022-02-11T05:00:00\",\"2022-02-14T05:00:00\",\"2022-02-15T05:00:00\",\"2022-02-16T05:00:00\",\"2022-02-17T05:00:00\",\"2022-02-18T05:00:00\",\"2022-02-22T05:00:00\",\"2022-02-23T05:00:00\",\"2022-02-24T05:00:00\",\"2022-02-25T05:00:00\",\"2022-02-28T05:00:00\",\"2022-03-01T05:00:00\",\"2022-03-02T05:00:00\",\"2022-03-03T05:00:00\",\"2022-03-04T05:00:00\",\"2022-03-07T05:00:00\",\"2022-03-08T05:00:00\",\"2022-03-09T05:00:00\",\"2022-03-10T05:00:00\",\"2022-03-11T05:00:00\",\"2022-03-11T05:01:00\"],\"xaxis\":\"x\",\"y\":[null,0.979083435278417,0.9676969536242547,0.9900592849871249,0.9998545678526515,0.9105421197163216,0.9435209978356275,0.9022439324852644,0.8819604253462568,0.8759720428083804,0.7546388577588051,0.802862446853105,0.7634246704250897,0.7433464792588093,0.6978689912997357,0.7461781287160054,0.8248911397602937,0.8419665848254388,0.7578554746648647,0.6924623373512531,0.7494033004542618,0.7416098483228254,0.7511142668936551,0.7912963137228065,0.7642373794838018,0.7305826696209357,0.7249792545319227,0.7609523239201665,0.63891764263044,0.5646189249997863,0.5619498173543326,0.5356693728452517,0.5360543402941154,0.5680237482141791,0.5791193655736445,0.5939277801065934,0.5761166194725094,0.564473492852438,0.5481508730206259,0.5140085377225329,0.4797549896058791,0.4405310839827879,0.5027247140547341,0.4732362074717906,0.4656994003062632,0.4656994003062632],\"yaxis\":\"y\",\"type\":\"scatter\"}],                        {\"template\":{\"data\":{\"bar\":[{\"error_x\":{\"color\":\"#2a3f5f\"},\"error_y\":{\"color\":\"#2a3f5f\"},\"marker\":{\"line\":{\"color\":\"#E5ECF6\",\"width\":0.5},\"pattern\":{\"fillmode\":\"overlay\",\"size\":10,\"solidity\":0.2}},\"type\":\"bar\"}],\"barpolar\":[{\"marker\":{\"line\":{\"color\":\"#E5ECF6\",\"width\":0.5},\"pattern\":{\"fillmode\":\"overlay\",\"size\":10,\"solidity\":0.2}},\"type\":\"barpolar\"}],\"carpet\":[{\"aaxis\":{\"endlinecolor\":\"#2a3f5f\",\"gridcolor\":\"white\",\"linecolor\":\"white\",\"minorgridcolor\":\"white\",\"startlinecolor\":\"#2a3f5f\"},\"baxis\":{\"endlinecolor\":\"#2a3f5f\",\"gridcolor\":\"white\",\"linecolor\":\"white\",\"minorgridcolor\":\"white\",\"startlinecolor\":\"#2a3f5f\"},\"type\":\"carpet\"}],\"choropleth\":[{\"colorbar\":{\"outlinewidth\":0,\"ticks\":\"\"},\"type\":\"choropleth\"}],\"contour\":[{\"colorbar\":{\"outlinewidth\":0,\"ticks\":\"\"},\"colorscale\":[[0.0,\"#0d0887\"],[0.1111111111111111,\"#46039f\"],[0.2222222222222222,\"#7201a8\"],[0.3333333333333333,\"#9c179e\"],[0.4444444444444444,\"#bd3786\"],[0.5555555555555556,\"#d8576b\"],[0.6666666666666666,\"#ed7953\"],[0.7777777777777778,\"#fb9f3a\"],[0.8888888888888888,\"#fdca26\"],[1.0,\"#f0f921\"]],\"type\":\"contour\"}],\"contourcarpet\":[{\"colorbar\":{\"outlinewidth\":0,\"ticks\":\"\"},\"type\":\"contourcarpet\"}],\"heatmap\":[{\"colorbar\":{\"outlinewidth\":0,\"ticks\":\"\"},\"colorscale\":[[0.0,\"#0d0887\"],[0.1111111111111111,\"#46039f\"],[0.2222222222222222,\"#7201a8\"],[0.3333333333333333,\"#9c179e\"],[0.4444444444444444,\"#bd3786\"],[0.5555555555555556,\"#d8576b\"],[0.6666666666666666,\"#ed7953\"],[0.7777777777777778,\"#fb9f3a\"],[0.8888888888888888,\"#fdca26\"],[1.0,\"#f0f921\"]],\"type\":\"heatmap\"}],\"heatmapgl\":[{\"colorbar\":{\"outlinewidth\":0,\"ticks\":\"\"},\"colorscale\":[[0.0,\"#0d0887\"],[0.1111111111111111,\"#46039f\"],[0.2222222222222222,\"#7201a8\"],[0.3333333333333333,\"#9c179e\"],[0.4444444444444444,\"#bd3786\"],[0.5555555555555556,\"#d8576b\"],[0.6666666666666666,\"#ed7953\"],[0.7777777777777778,\"#fb9f3a\"],[0.8888888888888888,\"#fdca26\"],[1.0,\"#f0f921\"]],\"type\":\"heatmapgl\"}],\"histogram\":[{\"marker\":{\"pattern\":{\"fillmode\":\"overlay\",\"size\":10,\"solidity\":0.2}},\"type\":\"histogram\"}],\"histogram2d\":[{\"colorbar\":{\"outlinewidth\":0,\"ticks\":\"\"},\"colorscale\":[[0.0,\"#0d0887\"],[0.1111111111111111,\"#46039f\"],[0.2222222222222222,\"#7201a8\"],[0.3333333333333333,\"#9c179e\"],[0.4444444444444444,\"#bd3786\"],[0.5555555555555556,\"#d8576b\"],[0.6666666666666666,\"#ed7953\"],[0.7777777777777778,\"#fb9f3a\"],[0.8888888888888888,\"#fdca26\"],[1.0,\"#f0f921\"]],\"type\":\"histogram2d\"}],\"histogram2dcontour\":[{\"colorbar\":{\"outlinewidth\":0,\"ticks\":\"\"},\"colorscale\":[[0.0,\"#0d0887\"],[0.1111111111111111,\"#46039f\"],[0.2222222222222222,\"#7201a8\"],[0.3333333333333333,\"#9c179e\"],[0.4444444444444444,\"#bd3786\"],[0.5555555555555556,\"#d8576b\"],[0.6666666666666666,\"#ed7953\"],[0.7777777777777778,\"#fb9f3a\"],[0.8888888888888888,\"#fdca26\"],[1.0,\"#f0f921\"]],\"type\":\"histogram2dcontour\"}],\"mesh3d\":[{\"colorbar\":{\"outlinewidth\":0,\"ticks\":\"\"},\"type\":\"mesh3d\"}],\"parcoords\":[{\"line\":{\"colorbar\":{\"outlinewidth\":0,\"ticks\":\"\"}},\"type\":\"parcoords\"}],\"pie\":[{\"automargin\":true,\"type\":\"pie\"}],\"scatter\":[{\"marker\":{\"colorbar\":{\"outlinewidth\":0,\"ticks\":\"\"}},\"type\":\"scatter\"}],\"scatter3d\":[{\"line\":{\"colorbar\":{\"outlinewidth\":0,\"ticks\":\"\"}},\"marker\":{\"colorbar\":{\"outlinewidth\":0,\"ticks\":\"\"}},\"type\":\"scatter3d\"}],\"scattercarpet\":[{\"marker\":{\"colorbar\":{\"outlinewidth\":0,\"ticks\":\"\"}},\"type\":\"scattercarpet\"}],\"scattergeo\":[{\"marker\":{\"colorbar\":{\"outlinewidth\":0,\"ticks\":\"\"}},\"type\":\"scattergeo\"}],\"scattergl\":[{\"marker\":{\"colorbar\":{\"outlinewidth\":0,\"ticks\":\"\"}},\"type\":\"scattergl\"}],\"scattermapbox\":[{\"marker\":{\"colorbar\":{\"outlinewidth\":0,\"ticks\":\"\"}},\"type\":\"scattermapbox\"}],\"scatterpolar\":[{\"marker\":{\"colorbar\":{\"outlinewidth\":0,\"ticks\":\"\"}},\"type\":\"scatterpolar\"}],\"scatterpolargl\":[{\"marker\":{\"colorbar\":{\"outlinewidth\":0,\"ticks\":\"\"}},\"type\":\"scatterpolargl\"}],\"scatterternary\":[{\"marker\":{\"colorbar\":{\"outlinewidth\":0,\"ticks\":\"\"}},\"type\":\"scatterternary\"}],\"surface\":[{\"colorbar\":{\"outlinewidth\":0,\"ticks\":\"\"},\"colorscale\":[[0.0,\"#0d0887\"],[0.1111111111111111,\"#46039f\"],[0.2222222222222222,\"#7201a8\"],[0.3333333333333333,\"#9c179e\"],[0.4444444444444444,\"#bd3786\"],[0.5555555555555556,\"#d8576b\"],[0.6666666666666666,\"#ed7953\"],[0.7777777777777778,\"#fb9f3a\"],[0.8888888888888888,\"#fdca26\"],[1.0,\"#f0f921\"]],\"type\":\"surface\"}],\"table\":[{\"cells\":{\"fill\":{\"color\":\"#EBF0F8\"},\"line\":{\"color\":\"white\"}},\"header\":{\"fill\":{\"color\":\"#C8D4E3\"},\"line\":{\"color\":\"white\"}},\"type\":\"table\"}]},\"layout\":{\"annotationdefaults\":{\"arrowcolor\":\"#2a3f5f\",\"arrowhead\":0,\"arrowwidth\":1},\"autotypenumbers\":\"strict\",\"coloraxis\":{\"colorbar\":{\"outlinewidth\":0,\"ticks\":\"\"}},\"colorscale\":{\"diverging\":[[0,\"#8e0152\"],[0.1,\"#c51b7d\"],[0.2,\"#de77ae\"],[0.3,\"#f1b6da\"],[0.4,\"#fde0ef\"],[0.5,\"#f7f7f7\"],[0.6,\"#e6f5d0\"],[0.7,\"#b8e186\"],[0.8,\"#7fbc41\"],[0.9,\"#4d9221\"],[1,\"#276419\"]],\"sequential\":[[0.0,\"#0d0887\"],[0.1111111111111111,\"#46039f\"],[0.2222222222222222,\"#7201a8\"],[0.3333333333333333,\"#9c179e\"],[0.4444444444444444,\"#bd3786\"],[0.5555555555555556,\"#d8576b\"],[0.6666666666666666,\"#ed7953\"],[0.7777777777777778,\"#fb9f3a\"],[0.8888888888888888,\"#fdca26\"],[1.0,\"#f0f921\"]],\"sequentialminus\":[[0.0,\"#0d0887\"],[0.1111111111111111,\"#46039f\"],[0.2222222222222222,\"#7201a8\"],[0.3333333333333333,\"#9c179e\"],[0.4444444444444444,\"#bd3786\"],[0.5555555555555556,\"#d8576b\"],[0.6666666666666666,\"#ed7953\"],[0.7777777777777778,\"#fb9f3a\"],[0.8888888888888888,\"#fdca26\"],[1.0,\"#f0f921\"]]},\"colorway\":[\"#636efa\",\"#EF553B\",\"#00cc96\",\"#ab63fa\",\"#FFA15A\",\"#19d3f3\",\"#FF6692\",\"#B6E880\",\"#FF97FF\",\"#FECB52\"],\"font\":{\"color\":\"#2a3f5f\"},\"geo\":{\"bgcolor\":\"white\",\"lakecolor\":\"white\",\"landcolor\":\"#E5ECF6\",\"showlakes\":true,\"showland\":true,\"subunitcolor\":\"white\"},\"hoverlabel\":{\"align\":\"left\"},\"hovermode\":\"closest\",\"mapbox\":{\"style\":\"light\"},\"paper_bgcolor\":\"white\",\"plot_bgcolor\":\"#E5ECF6\",\"polar\":{\"angularaxis\":{\"gridcolor\":\"white\",\"linecolor\":\"white\",\"ticks\":\"\"},\"bgcolor\":\"#E5ECF6\",\"radialaxis\":{\"gridcolor\":\"white\",\"linecolor\":\"white\",\"ticks\":\"\"}},\"scene\":{\"xaxis\":{\"backgroundcolor\":\"#E5ECF6\",\"gridcolor\":\"white\",\"gridwidth\":2,\"linecolor\":\"white\",\"showbackground\":true,\"ticks\":\"\",\"zerolinecolor\":\"white\"},\"yaxis\":{\"backgroundcolor\":\"#E5ECF6\",\"gridcolor\":\"white\",\"gridwidth\":2,\"linecolor\":\"white\",\"showbackground\":true,\"ticks\":\"\",\"zerolinecolor\":\"white\"},\"zaxis\":{\"backgroundcolor\":\"#E5ECF6\",\"gridcolor\":\"white\",\"gridwidth\":2,\"linecolor\":\"white\",\"showbackground\":true,\"ticks\":\"\",\"zerolinecolor\":\"white\"}},\"shapedefaults\":{\"line\":{\"color\":\"#2a3f5f\"}},\"ternary\":{\"aaxis\":{\"gridcolor\":\"white\",\"linecolor\":\"white\",\"ticks\":\"\"},\"baxis\":{\"gridcolor\":\"white\",\"linecolor\":\"white\",\"ticks\":\"\"},\"bgcolor\":\"#E5ECF6\",\"caxis\":{\"gridcolor\":\"white\",\"linecolor\":\"white\",\"ticks\":\"\"}},\"title\":{\"x\":0.05},\"xaxis\":{\"automargin\":true,\"gridcolor\":\"white\",\"linecolor\":\"white\",\"ticks\":\"\",\"title\":{\"standoff\":15},\"zerolinecolor\":\"white\",\"zerolinewidth\":2},\"yaxis\":{\"automargin\":true,\"gridcolor\":\"white\",\"linecolor\":\"white\",\"ticks\":\"\",\"title\":{\"standoff\":15},\"zerolinecolor\":\"white\",\"zerolinewidth\":2}}},\"xaxis\":{\"anchor\":\"y\",\"domain\":[0.0,1.0],\"title\":{\"text\":\"x\"}},\"yaxis\":{\"anchor\":\"x\",\"domain\":[0.0,1.0],\"title\":{\"text\":\"value\"}},\"legend\":{\"title\":{\"text\":\"variable\"},\"tracegroupgap\":0},\"title\":{\"text\":\"Strategy  vs Actual Returns\"},\"height\":600,\"width\":1500},                        {\"responsive\": true}                    ).then(function(){\n",
       "                            \n",
       "var gd = document.getElementById('ea04f1f1-a7f7-4886-bca1-9df10994d2b7');\n",
       "var x = new MutationObserver(function (mutations, observer) {{\n",
       "        var display = window.getComputedStyle(gd).display;\n",
       "        if (!display || display === 'none') {{\n",
       "            console.log([gd, 'removed!']);\n",
       "            Plotly.purge(gd);\n",
       "            observer.disconnect();\n",
       "        }}\n",
       "}});\n",
       "\n",
       "// Listen for the removal of the full notebook cells\n",
       "var notebookContainer = gd.closest('#notebook-container');\n",
       "if (notebookContainer) {{\n",
       "    x.observe(notebookContainer, {childList: true});\n",
       "}}\n",
       "\n",
       "// Listen for the clearing of the current output cell\n",
       "var outputEl = gd.closest('.output');\n",
       "if (outputEl) {{\n",
       "    x.observe(outputEl, {childList: true});\n",
       "}}\n",
       "\n",
       "                        })                };                });            </script>        </div>"
      ]
     },
     "metadata": {},
     "output_type": "display_data"
    }
   ],
   "source": [
    "# Plot strategy cumulative returns\n",
    "strategy_cumulative_returns = (1+prices['strategy_returns']).cumprod()\n",
    "actual_cumulative_returns = (1+prices['actual_returns']).cumprod()\n",
    "cumulative_returns_df = pd.concat([strategy_cumulative_returns, actual_cumulative_returns], join = \"inner\", axis = \"columns\")\n",
    "\n",
    "cumulative_returns_fig = px.line(\n",
    "    cumulative_returns_df,\n",
    "    y = ['strategy_returns', 'actual_returns'],\n",
    "    x = cumulative_returns_df.index.values,\n",
    "    title = f'Strategy  vs Actual Returns',\n",
    "    width = 1500, height = 600\n",
    ")\n",
    "\n",
    "cumulative_returns_fig.show()\n"
   ]
  },
  {
   "cell_type": "markdown",
   "id": "3d844ac7-12be-4503-a8a4-c7e5805e6e84",
   "metadata": {
    "tags": []
   },
   "source": [
    "---\n",
    "\n",
    "## Forward Prediction and Trading Signals given saved model weights\n",
    "\n",
    "### Model Persistence (Load)\n",
    "\n",
    "Note that I've set up the file name here to save as (ticker_name).json."
   ]
  },
  {
   "cell_type": "code",
   "execution_count": 107,
   "id": "61ec775d-7ca7-404f-be45-da33bb958936",
   "metadata": {},
   "outputs": [
    {
     "name": "stdin",
     "output_type": "stream",
     "text": [
      "Please input the Ticker model you would like to load BRN\n"
     ]
    },
    {
     "name": "stdout",
     "output_type": "stream",
     "text": [
      "Model: \"sequential_66\"\n",
      "_________________________________________________________________\n",
      " Layer (type)                Output Shape              Param #   \n",
      "=================================================================\n",
      " lstm_396 (LSTM)             (None, 4, 4)              96        \n",
      "                                                                 \n",
      " dropout_396 (Dropout)       (None, 4, 4)              0         \n",
      "                                                                 \n",
      " lstm_397 (LSTM)             (None, 4, 4)              144       \n",
      "                                                                 \n",
      " dropout_397 (Dropout)       (None, 4, 4)              0         \n",
      "                                                                 \n",
      " lstm_398 (LSTM)             (None, 4, 4)              144       \n",
      "                                                                 \n",
      " dropout_398 (Dropout)       (None, 4, 4)              0         \n",
      "                                                                 \n",
      " lstm_399 (LSTM)             (None, 4, 4)              144       \n",
      "                                                                 \n",
      " dropout_399 (Dropout)       (None, 4, 4)              0         \n",
      "                                                                 \n",
      " lstm_400 (LSTM)             (None, 4, 4)              144       \n",
      "                                                                 \n",
      " dropout_400 (Dropout)       (None, 4, 4)              0         \n",
      "                                                                 \n",
      " lstm_401 (LSTM)             (None, 4)                 144       \n",
      "                                                                 \n",
      " dropout_401 (Dropout)       (None, 4)                 0         \n",
      "                                                                 \n",
      " dense_66 (Dense)            (None, 1)                 5         \n",
      "                                                                 \n",
      "=================================================================\n",
      "Total params: 821\n",
      "Trainable params: 821\n",
      "Non-trainable params: 0\n",
      "_________________________________________________________________\n",
      "None\n"
     ]
    }
   ],
   "source": [
    "# Load the ticker model\n",
    "ticker = input(\"Please input the Ticker model you would like to load\")\n",
    "\n",
    "# Load json and create model\n",
    "file_path = f\"../Resources/LSTM_model_weights/{date.today()}/{ticker}.json\"\n",
    "with open (file_path, \"r\") as json_file:\n",
    "    model_json = json_file.read()\n",
    "loaded_model = model_from_json(model_json)\n",
    "\n",
    "# Load weights into new model\n",
    "file_path = f\"../Resources/LSTM_model_weights/{date.today()}/{ticker}.h5\"\n",
    "loaded_model.load_weights(file_path)\n",
    "\n",
    "# Visual confirmation of model setup\n",
    "print(loaded_model.summary())"
   ]
  },
  {
   "cell_type": "code",
   "execution_count": 106,
   "id": "0a3da970-0718-478d-9293-38fe4879dad3",
   "metadata": {},
   "outputs": [],
   "source": [
    "# Make predictions with model\n",
    "predicted = loaded_model.predict(X_test)\n",
    "predicted_prices = scaler.inverse_transform(predicted)"
   ]
  },
  {
   "cell_type": "markdown",
   "id": "e639781a-e34e-480f-b200-d2cb440d520d",
   "metadata": {},
   "source": [
    "### Develop the Algorithm\n"
   ]
  },
  {
   "cell_type": "markdown",
   "id": "e0de31cf-ffbb-415e-afe2-622d7a296086",
   "metadata": {},
   "source": [
    "#### Use the provided code to ping the Alpaca API and create the DataFrame needed to feed data into the model.\n",
    "   * This code will also store the correct feature data in `X` for later use."
   ]
  },
  {
   "cell_type": "code",
   "execution_count": 108,
   "id": "180ffcbb-62da-45aa-87c7-38dbec35618a",
   "metadata": {},
   "outputs": [
    {
     "data": {
      "text/html": [
       "<div>\n",
       "<style scoped>\n",
       "    .dataframe tbody tr th:only-of-type {\n",
       "        vertical-align: middle;\n",
       "    }\n",
       "\n",
       "    .dataframe tbody tr th {\n",
       "        vertical-align: top;\n",
       "    }\n",
       "\n",
       "    .dataframe thead th {\n",
       "        text-align: right;\n",
       "    }\n",
       "</style>\n",
       "<table border=\"1\" class=\"dataframe\">\n",
       "  <thead>\n",
       "    <tr style=\"text-align: right;\">\n",
       "      <th></th>\n",
       "      <th>trading_signal</th>\n",
       "    </tr>\n",
       "    <tr>\n",
       "      <th>symbol</th>\n",
       "      <th></th>\n",
       "    </tr>\n",
       "  </thead>\n",
       "  <tbody>\n",
       "  </tbody>\n",
       "</table>\n",
       "</div>"
      ],
      "text/plain": [
       "Empty DataFrame\n",
       "Columns: [trading_signal]\n",
       "Index: []"
      ]
     },
     "execution_count": 108,
     "metadata": {},
     "output_type": "execute_result"
    }
   ],
   "source": [
    "top_class_stocks_buy = trading_signals_df.loc[trading_signals_df[\"trading_signal\"] == 1]\n",
    "top_class_stocks_buy"
   ]
  },
  {
   "cell_type": "code",
   "execution_count": 112,
   "id": "a0667d01-5c75-44df-93d7-5d2d7266a9ae",
   "metadata": {},
   "outputs": [
    {
     "name": "stdout",
     "output_type": "stream",
     "text": [
      "No stocks have been identitifed by the Algorithm as sutiable candidates to Buy\n"
     ]
    }
   ],
   "source": [
    "# Check if there are any stocks our algorithms has determined are candidates to trade\n",
    "if len(top_class_stocks_buy) == 0:\n",
    "    print(\"No stocks have been identitifed by the Algorithm as sutiable candidates to Buy\")\n",
    "else:\n",
    "    # Get tickers for top class stocks from FA\n",
    "    tickers = top_class_stocks_buy.index\n",
    "\n",
    "    # Set get data from API to DataFrame\n",
    "    today = datetime.now()\n",
    "    yesterday = today - timedelta(days=1)\n",
    "    daybefore = yesterday - timedelta(days=1)\n",
    "\n",
    "    beg_date = daybefore\n",
    "    end_date = yesterday\n",
    "    # we convert begin and end date to formats that the ALPACA API requires\n",
    "    start =  pd.Timestamp(f'{beg_date} 09:30:00-0400', tz='America/New_York').replace(hour=9, minute=30, second=0).astimezone('GMT').isoformat()[:-6]+'Z'\n",
    "    end   =  pd.Timestamp(f'{end_date} 16:00:00-0400', tz='America/New_York').replace(hour=16, minute=0, second=0).astimezone('GMT').isoformat()[:-6]+'Z'\n",
    "    # We set the time frequency at which we want to pull prices\n",
    "    timeframe='1Day'\n",
    "\n",
    "    # Pull prices from the ALPACA API\n",
    "    api = create_alpaca_connection()\n",
    "    stocks_ohlcv = api.get_bars(tickers, timeframe, start=start, end=end).df"
   ]
  },
  {
   "cell_type": "code",
   "execution_count": 113,
   "id": "c54b0d75-1ab0-4b1f-b444-be4dfad18175",
   "metadata": {},
   "outputs": [],
   "source": [
    "# Create dataframe with just close prices of top class stocks\n",
    "close_df = pd.DataFrame(index=stocks_ohlcv.index)\n",
    "for ticker in tickers:\n",
    "    vector = stocks_ohlcv.loc[stocks_ohlcv[\"symbol\"] == ticker].close\n",
    "    close_df[ticker] = vector\n",
    "close_df = close_df.iloc[0]"
   ]
  },
  {
   "cell_type": "markdown",
   "id": "922e4449-4a11-4c92-9b6e-8f823d9918ec",
   "metadata": {},
   "source": [
    "#### Using the `top_class_stocks_buy` filter, create a dictionary called `buy_dict` and assign 'n' to each Ticker (key value) as a placeholder."
   ]
  },
  {
   "cell_type": "code",
   "execution_count": 114,
   "id": "a04ebabc-8d4e-43c0-bab0-c0423972055a",
   "metadata": {},
   "outputs": [
    {
     "data": {
      "text/plain": [
       "{}"
      ]
     },
     "execution_count": 114,
     "metadata": {},
     "output_type": "execute_result"
    }
   ],
   "source": [
    "# Create dictionary from top_class_stocks and assign 'n' to each of them for now as a placeholder.\n",
    "buy_dict = dict.fromkeys(top_class_stocks_buy.index.get_level_values(0), 'n')\n",
    "buy_dict"
   ]
  },
  {
   "cell_type": "markdown",
   "id": "42e6ce57-91b1-4325-9433-7596f30ee5bf",
   "metadata": {},
   "source": [
    "#### Obtain the total available equity in your account from the Alpaca API and store in a variable called `total_capital`. You will split the capital equally between all selected stocks per the CIO's request."
   ]
  },
  {
   "cell_type": "code",
   "execution_count": 115,
   "id": "51af4d25-ce95-4085-aeb1-39d943d95772",
   "metadata": {},
   "outputs": [
    {
     "name": "stdout",
     "output_type": "stream",
     "text": [
      "Total available capital: 91071.6\n"
     ]
    }
   ],
   "source": [
    "# Pull the total available equity in our account from the  Alpaca API\n",
    "api = create_alpaca_connection()\n",
    "account = api.get_account()\n",
    "total_capital = float(account.equity)\n",
    "print(f\"Total available capital: {total_capital}\")"
   ]
  },
  {
   "cell_type": "code",
   "execution_count": 116,
   "id": "598b84b2-712e-44fa-8b11-cd398a292e90",
   "metadata": {},
   "outputs": [
    {
     "name": "stdout",
     "output_type": "stream",
     "text": [
      "Capital per stock: 0\n"
     ]
    }
   ],
   "source": [
    "# Compute capital per stock, divide equity in account by number of stocks\n",
    "# Use Alpaca API to pull the equity in the account\n",
    "if len(buy_dict) > 0:\n",
    "    capital_per_stock = float(total_capital)/ len(buy_dict)\n",
    "else:\n",
    "    capital_per_stock = 0\n",
    "print(f'Capital per stock: {capital_per_stock}')"
   ]
  },
  {
   "cell_type": "markdown",
   "id": "bf641a93-1d6e-40a9-ac38-790b2d6c5ed5",
   "metadata": {},
   "source": [
    "#### Use a for-loop to iterate through `buy_dict` to determine the number stocks you need to buy for each ticker."
   ]
  },
  {
   "cell_type": "code",
   "execution_count": 117,
   "id": "e5990ee5-09e4-4f01-a48a-fcffd50d7abb",
   "metadata": {},
   "outputs": [
    {
     "name": "stdout",
     "output_type": "stream",
     "text": [
      "{}\n"
     ]
    }
   ],
   "source": [
    "# Use for loop to iterate through dictionary of buys \n",
    "# Determine the number stocks we need to buy for each ticker\n",
    "for ticker in buy_dict:\n",
    "    try:\n",
    "        buy_dict[ticker] = int(capital_per_stock / close_df[ticker])\n",
    "    except:\n",
    "        pass\n",
    "\n",
    "print(buy_dict)"
   ]
  },
  {
   "cell_type": "markdown",
   "id": "0949088e-e2f4-4a49-9d38-77577150e28b",
   "metadata": {},
   "source": [
    "#### Cancel all previous orders in the Alpaca API (so you don't buy more than intended) and sell all currently held stocks to close all positions."
   ]
  },
  {
   "cell_type": "code",
   "execution_count": 118,
   "id": "8df93674-f704-4f05-9d15-d957e287ddf3",
   "metadata": {},
   "outputs": [
    {
     "data": {
      "text/plain": [
       "[Position({   'body': {   'asset_class': 'us_equity',\n",
       "                 'asset_id': '4da65f30-cdb3-456a-88bb-46b00df0f957',\n",
       "                 'canceled_at': None,\n",
       "                 'client_order_id': '8c6bd559-295e-43c2-8251-c8ec852f8b8f',\n",
       "                 'created_at': '2022-03-13T03:02:58.601539315Z',\n",
       "                 'expired_at': None,\n",
       "                 'extended_hours': False,\n",
       "                 'failed_at': None,\n",
       "                 'filled_at': None,\n",
       "                 'filled_avg_price': None,\n",
       "                 'filled_qty': '0',\n",
       "                 'hwm': None,\n",
       "                 'id': 'f7038727-7c89-48ce-8db5-6ac15884b9b9',\n",
       "                 'legs': None,\n",
       "                 'limit_price': None,\n",
       "                 'notional': None,\n",
       "                 'order_class': '',\n",
       "                 'order_type': 'market',\n",
       "                 'qty': '44642',\n",
       "                 'replaced_at': None,\n",
       "                 'replaced_by': None,\n",
       "                 'replaces': None,\n",
       "                 'side': 'sell',\n",
       "                 'status': 'accepted',\n",
       "                 'stop_price': None,\n",
       "                 'submitted_at': '2022-03-13T03:02:58.600763757Z',\n",
       "                 'symbol': 'BBIG',\n",
       "                 'time_in_force': 'day',\n",
       "                 'trail_percent': None,\n",
       "                 'trail_price': None,\n",
       "                 'type': 'market',\n",
       "                 'updated_at': '2022-03-13T03:02:58.601539315Z'},\n",
       "     'status': 200,\n",
       "     'symbol': 'BBIG'})]"
      ]
     },
     "execution_count": 118,
     "metadata": {},
     "output_type": "execute_result"
    }
   ],
   "source": [
    "# Cancel all previous orders in the Alpaca API\n",
    "api.cancel_all_orders()\n",
    "\n",
    "# Sell all currently held stocks to close all positions\n",
    "api.close_all_positions()"
   ]
  },
  {
   "cell_type": "markdown",
   "id": "9ab17547-889b-499d-bd89-b334fe458368",
   "metadata": {},
   "source": [
    "#### Iterate through `buy_dict` and send a buy order for each ticker with their corresponding number of shares."
   ]
  },
  {
   "cell_type": "code",
   "execution_count": 119,
   "id": "189ff217-8426-4f26-b4a4-504272d54af7",
   "metadata": {},
   "outputs": [],
   "source": [
    "# Iterate through the buy_dict object and send a buy order for each ticker with a corresponding number of shares:\n",
    "for stock, qty in buy_dict.items():    \n",
    "    # Submit a market order to buy shares as described in buy_dict\n",
    "    api.submit_order(\n",
    "        symbol=stock,\n",
    "        qty=qty,\n",
    "        side='buy',\n",
    "        type='market',\n",
    "        time_in_force='gtc',\n",
    "    )\n",
    "    print(f'buying {stock} numShares {qty}')\n",
    "    "
   ]
  },
  {
   "cell_type": "markdown",
   "id": "b5adff4b-f254-4aab-ad20-f8ac10a160a8",
   "metadata": {},
   "source": [
    "### Automate the algorithm"
   ]
  },
  {
   "cell_type": "markdown",
   "id": "88aac7f5-ef14-4959-93da-b818e8d8c4ad",
   "metadata": {},
   "source": [
    "#### Create `trade()` function that incorporates all of the steps above."
   ]
  },
  {
   "cell_type": "code",
   "execution_count": 127,
   "id": "34a3a793-68ea-4c4a-8d2b-764ad86cba30",
   "metadata": {},
   "outputs": [],
   "source": [
    "def trade():\n",
    "    top_class_stocks_buy = trading_signals_df.loc[trading_signals_df[\"trading_signal\"] == 1]\n",
    "    top_class_stocks_buy\n",
    "    # Check if there are any stocks our algorithms has determined are candidates to trade\n",
    "    if len(top_class_stocks_buy) == 0:\n",
    "        print(\"No stocks have been identitifed by the Algorithm as sutiable candidates to Buy\")\n",
    "    else:\n",
    "        # Get tickers for top class stocks from FA\n",
    "        tickers = top_class_stocks_buy.index\n",
    "\n",
    "        # Set get data from API to DataFrame\n",
    "        today = datetime.now()\n",
    "        yesterday = today - timedelta(days=1)\n",
    "        daybefore = yesterday - timedelta(days=1)\n",
    "\n",
    "        beg_date = daybefore\n",
    "        end_date = yesterday\n",
    "        # we convert begin and end date to formats that the ALPACA API requires\n",
    "        start =  pd.Timestamp(f'{beg_date} 09:30:00-0400', tz='America/New_York').replace(hour=9, minute=30, second=0).astimezone('GMT').isoformat()[:-6]+'Z'\n",
    "        end   =  pd.Timestamp(f'{end_date} 16:00:00-0400', tz='America/New_York').replace(hour=16, minute=0, second=0).astimezone('GMT').isoformat()[:-6]+'Z'\n",
    "        # We set the time frequency at which we want to pull prices\n",
    "        timeframe='1Day'\n",
    "\n",
    "        # Pull prices from the ALPACA API\n",
    "        api = create_alpaca_connection()\n",
    "        stocks_ohlcv = api.get_bars(tickers, timeframe, start=start, end=end).df\n",
    "\n",
    "    # Create dataframe with just close prices of top class stocks\n",
    "    close_df = pd.DataFrame(index=stocks_ohlcv.index)\n",
    "    for ticker in tickers:\n",
    "        vector = stocks_ohlcv.loc[stocks_ohlcv[\"symbol\"] == ticker].close\n",
    "        close_df[ticker] = vector\n",
    "    close_df = close_df.iloc[0]\n",
    "\n",
    "    # Create dictionary from top_class_stocks and assign 'n' to each of them for now as a placeholder.\n",
    "    buy_dict = dict.fromkeys(top_class_stocks_buy.index.get_level_values(0), 'n')\n",
    "    buy_dict\n",
    "\n",
    "    # Pull the total available equity in our account from the  Alpaca API\n",
    "    api = create_alpaca_connection()\n",
    "    account = api.get_account()\n",
    "    total_capital = float(account.equity)\n",
    "    print(f\"Total available capital: {total_capital}\")\n",
    "\n",
    "    # Compute capital per stock, divide equity in account by number of stocks\n",
    "    # Use Alpaca API to pull the equity in the account\n",
    "    if len(buy_dict) > 0:\n",
    "        capital_per_stock = float(total_capital)/ len(buy_dict)\n",
    "    else:\n",
    "        capital_per_stock = 0\n",
    "    print(f'Capital per stock: {capital_per_stock}')\n",
    "\n",
    "    # Use for loop to iterate through dictionary of buys \n",
    "    # Determine the number stocks we need to buy for each ticker\n",
    "    for ticker in buy_dict:\n",
    "        try:\n",
    "            buy_dict[ticker] = int(capital_per_stock / close_df[ticker])\n",
    "        except:\n",
    "            pass\n",
    "\n",
    "    print(buy_dict)\n",
    "\n",
    "    # Iterate through the buy_dict object and send a buy order for each ticker with a corresponding number of shares:\n",
    "    for stock, qty in buy_dict.items():    \n",
    "        # Submit a market order to buy shares as described in buy_dict\n",
    "        api.submit_order(\n",
    "            symbol=stock,\n",
    "            qty=qty,\n",
    "            side='buy',\n",
    "            type='market',\n",
    "            time_in_force='gtc',\n",
    "        )\n",
    "        print(f'buying {stock} numShares {qty}')\n",
    "    "
   ]
  },
  {
   "cell_type": "code",
   "execution_count": 129,
   "id": "64842359-d587-48fb-8c79-14bafc673a8d",
   "metadata": {},
   "outputs": [
    {
     "name": "stdout",
     "output_type": "stream",
     "text": [
      "The market is closed the next open market day will be 2022-03-14 09:30:00-04:00\n"
     ]
    }
   ],
   "source": [
    "# Clear the schedule\n",
    "schedule.clear()\n",
    "\n",
    "# Define a schedule to run the trade function every day seconds past the minute mark (e.g. 10:31:05)\n",
    "trade_schedule = schedule.every().day.at(\"09:30:00\").do(trade)\n",
    "\n",
    "# Use the Alpaca API to check whether the market is open\n",
    "clock = api.get_clock()\n",
    "\n",
    "# Use run_pending() function inside schedule to execute the schedule you defined as long as the market is open\n",
    "while clock.is_open == True:\n",
    "    print(f'The market trading widow for {clock.next_open} is open, executing trade function')\n",
    "    schedule.run_pending()\n",
    "    # Sleep for 6 hours while market is open\n",
    "    time.sleep(21600)\n",
    "    # Close all orders and positions 30 mins before market close\n",
    "    api.cancel_all_orders()\n",
    "    api.close_all_positions()\n",
    "else:\n",
    "    print(f'The market is closed the next open market day will be {clock.next_open}')\n"
   ]
  },
  {
   "cell_type": "code",
   "execution_count": 130,
   "id": "97490c8c-455d-44b4-a912-4e527f224059",
   "metadata": {},
   "outputs": [
    {
     "data": {
      "text/plain": [
       "[Every 1 day at 09:30:00 do trade() (last run: [never], next run: 2022-03-14 09:30:00)]"
      ]
     },
     "execution_count": 130,
     "metadata": {},
     "output_type": "execute_result"
    }
   ],
   "source": [
    "# Get Scheduled Jobs\n",
    "schedule.get_jobs()"
   ]
  },
  {
   "cell_type": "code",
   "execution_count": null,
   "id": "557b8110-65fb-4fb9-afbf-69f560da3dbf",
   "metadata": {},
   "outputs": [],
   "source": []
  }
 ],
 "metadata": {
  "kernelspec": {
   "display_name": "Python 3 (ipykernel)",
   "language": "python",
   "name": "python3"
  },
  "language_info": {
   "codemirror_mode": {
    "name": "ipython",
    "version": 3
   },
   "file_extension": ".py",
   "mimetype": "text/x-python",
   "name": "python",
   "nbconvert_exporter": "python",
   "pygments_lexer": "ipython3",
   "version": "3.7.11"
  }
 },
 "nbformat": 4,
 "nbformat_minor": 5
}
